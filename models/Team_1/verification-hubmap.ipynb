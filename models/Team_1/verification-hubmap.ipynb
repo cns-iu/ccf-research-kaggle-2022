{
 "cells": [
  {
   "cell_type": "markdown",
   "id": "4e3495be",
   "metadata": {
    "papermill": {
     "duration": 0.003478,
     "end_time": "2022-10-09T09:24:55.650743",
     "exception": false,
     "start_time": "2022-10-09T09:24:55.647265",
     "status": "completed"
    },
    "tags": []
   },
   "source": [
    "# mmsegmentation submission"
   ]
  },
  {
   "cell_type": "markdown",
   "id": "aa3973de",
   "metadata": {
    "papermill": {
     "duration": 0.002136,
     "end_time": "2022-10-09T09:24:55.655502",
     "exception": false,
     "start_time": "2022-10-09T09:24:55.653366",
     "status": "completed"
    },
    "tags": []
   },
   "source": [
    "## Install Dependencies"
   ]
  },
  {
   "cell_type": "code",
   "execution_count": 1,
   "id": "6ef28367",
   "metadata": {
    "execution": {
     "iopub.execute_input": "2022-10-09T09:24:55.662078Z",
     "iopub.status.busy": "2022-10-09T09:24:55.661583Z",
     "iopub.status.idle": "2022-10-09T09:26:34.228018Z",
     "shell.execute_reply": "2022-10-09T09:26:34.226851Z"
    },
    "papermill": {
     "duration": 98.572795,
     "end_time": "2022-10-09T09:26:34.230657",
     "exception": false,
     "start_time": "2022-10-09T09:24:55.657862",
     "status": "completed"
    },
    "tags": []
   },
   "outputs": [
    {
     "name": "stdout",
     "output_type": "stream",
     "text": [
      "nvcc: NVIDIA (R) Cuda compiler driver\r\n",
      "Copyright (c) 2005-2020 NVIDIA Corporation\r\n",
      "Built on Wed_Jul_22_19:09:09_PDT_2020\r\n",
      "Cuda compilation tools, release 11.0, V11.0.221\r\n",
      "Build cuda_11.0_bu.TC445_37.28845127_0\r\n",
      "gcc (Ubuntu 9.4.0-1ubuntu1~20.04.1) 9.4.0\r\n",
      "Copyright (C) 2019 Free Software Foundation, Inc.\r\n",
      "This is free software; see the source for copying conditions.  There is NO\r\n",
      "warranty; not even for MERCHANTABILITY or FITNESS FOR A PARTICULAR PURPOSE.\r\n",
      "\r\n",
      "Processing /kaggle/input/mmseg-src/src/pip-22.2.2-py3-none-any.whl\r\n",
      "Processing /kaggle/input/mmseg-src/src/Pillow-7.1.2-cp37-cp37m-manylinux1_x86_64.whl\r\n",
      "Processing /kaggle/input/mmseg-src/src/torch-1.10.0+cu111-cp37-cp37m-linux_x86_64.whl\r\n",
      "Processing /kaggle/input/mmseg-src/src/torchvision-0.11.0+cu111-cp37-cp37m-linux_x86_64.whl\r\n",
      "Processing /kaggle/input/mmseg-src/src/torchaudio-0.10.0+rocm4.1-cp37-cp37m-linux_x86_64.whl\r\n",
      "Processing /kaggle/input/mmseg-src/src/addict-2.4.0-py3-none-any.whl\r\n",
      "Processing /kaggle/input/mmseg-src/src/mmcv_full-1.6.0-cp37-cp37m-manylinux1_x86_64.whl\r\n",
      "Processing /kaggle/input/mmseg-src/mmsegmentation/mmcls-0.24.0-py2.py3-none-any.whl\r\n",
      "Requirement already satisfied: typing-extensions in /opt/conda/lib/python3.7/site-packages (from torch==1.10.0+cu111) (4.1.1)\r\n",
      "Requirement already satisfied: numpy in /opt/conda/lib/python3.7/site-packages (from torchvision==0.11.0+cu111) (1.21.6)\r\n",
      "Requirement already satisfied: yapf in /opt/conda/lib/python3.7/site-packages (from mmcv-full==1.6.0) (0.32.0)\r\n",
      "Requirement already satisfied: opencv-python>=3 in /opt/conda/lib/python3.7/site-packages (from mmcv-full==1.6.0) (4.5.4.60)\r\n",
      "Requirement already satisfied: packaging in /opt/conda/lib/python3.7/site-packages (from mmcv-full==1.6.0) (21.3)\r\n",
      "Requirement already satisfied: pyyaml in /opt/conda/lib/python3.7/site-packages (from mmcv-full==1.6.0) (6.0)\r\n",
      "Requirement already satisfied: matplotlib>=3.1.0 in /opt/conda/lib/python3.7/site-packages (from mmcls==0.24.0) (3.5.2)\r\n",
      "Requirement already satisfied: fonttools>=4.22.0 in /opt/conda/lib/python3.7/site-packages (from matplotlib>=3.1.0->mmcls==0.24.0) (4.33.3)\r\n",
      "Requirement already satisfied: kiwisolver>=1.0.1 in /opt/conda/lib/python3.7/site-packages (from matplotlib>=3.1.0->mmcls==0.24.0) (1.4.2)\r\n",
      "Requirement already satisfied: python-dateutil>=2.7 in /opt/conda/lib/python3.7/site-packages (from matplotlib>=3.1.0->mmcls==0.24.0) (2.8.2)\r\n",
      "Requirement already satisfied: cycler>=0.10 in /opt/conda/lib/python3.7/site-packages (from matplotlib>=3.1.0->mmcls==0.24.0) (0.11.0)\r\n",
      "Requirement already satisfied: pyparsing>=2.2.1 in /opt/conda/lib/python3.7/site-packages (from matplotlib>=3.1.0->mmcls==0.24.0) (3.0.9)\r\n",
      "Requirement already satisfied: six>=1.5 in /opt/conda/lib/python3.7/site-packages (from python-dateutil>=2.7->matplotlib>=3.1.0->mmcls==0.24.0) (1.16.0)\r\n",
      "Installing collected packages: addict, torch, pip, Pillow, torchvision, torchaudio, mmcv-full, mmcls\r\n",
      "  Attempting uninstall: torch\r\n",
      "    Found existing installation: torch 1.11.0\r\n",
      "    Uninstalling torch-1.11.0:\r\n",
      "      Successfully uninstalled torch-1.11.0\r\n",
      "  Attempting uninstall: pip\r\n",
      "    Found existing installation: pip 22.1.1\r\n",
      "    Uninstalling pip-22.1.1:\r\n",
      "      Successfully uninstalled pip-22.1.1\r\n",
      "  Attempting uninstall: Pillow\r\n",
      "    Found existing installation: Pillow 9.1.1\r\n",
      "    Uninstalling Pillow-9.1.1:\r\n",
      "      Successfully uninstalled Pillow-9.1.1\r\n",
      "  Attempting uninstall: torchvision\r\n",
      "    Found existing installation: torchvision 0.12.0\r\n",
      "    Uninstalling torchvision-0.12.0:\r\n",
      "      Successfully uninstalled torchvision-0.12.0\r\n",
      "  Attempting uninstall: torchaudio\r\n",
      "    Found existing installation: torchaudio 0.11.0\r\n",
      "    Uninstalling torchaudio-0.11.0:\r\n",
      "      Successfully uninstalled torchaudio-0.11.0\r\n",
      "\u001b[31mERROR: pip's dependency resolver does not currently take into account all the packages that are installed. This behaviour is the source of the following dependency conflicts.\r\n",
      "beatrix-jupyterlab 3.1.7 requires google-cloud-bigquery-storage, which is not installed.\r\n",
      "pytesseract 0.3.9 requires Pillow>=8.0.0, but you have pillow 7.1.2 which is incompatible.\r\n",
      "imageio 2.19.2 requires pillow>=8.3.2, but you have pillow 7.1.2 which is incompatible.\r\n",
      "flax 0.5.2 requires rich~=11.1, but you have rich 12.4.4 which is incompatible.\u001b[0m\u001b[31m\r\n",
      "\u001b[0mSuccessfully installed Pillow-7.1.2 addict-2.4.0 mmcls-0.24.0 mmcv-full-1.6.0 pip-22.2.2 torch-1.10.0+cu111 torchaudio-0.10.0+rocm4.1 torchvision-0.11.0+cu111\r\n",
      "\u001b[33mWARNING: Running pip as the 'root' user can result in broken permissions and conflicting behaviour with the system package manager. It is recommended to use a virtual environment instead: https://pip.pypa.io/warnings/venv\u001b[0m\u001b[33m\r\n",
      "\u001b[0m"
     ]
    }
   ],
   "source": [
    "# check Cuda version\n",
    "!nvcc -V\n",
    "# Check GCC version:\n",
    "!gcc --version\n",
    "\n",
    "# dependencies\n",
    "!pip install --disable-pip-version-check \\\n",
    "    /kaggle/input/mmseg-src/src/pip-22.2.2-py3-none-any.whl \\\n",
    "    /kaggle/input/mmseg-src/src/Pillow-7.1.2-cp37-cp37m-manylinux1_x86_64.whl \\\n",
    "    /kaggle/input/mmseg-src/src/torch-1.10.0+cu111-cp37-cp37m-linux_x86_64.whl \\\n",
    "    /kaggle/input/mmseg-src/src/torchvision-0.11.0+cu111-cp37-cp37m-linux_x86_64.whl \\\n",
    "    /kaggle/input/mmseg-src/src/torchaudio-0.10.0+rocm4.1-cp37-cp37m-linux_x86_64.whl \\\n",
    "    /kaggle/input/mmseg-src/src/addict-2.4.0-py3-none-any.whl \\\n",
    "    /kaggle/input/mmseg-src/src/mmcv_full-1.6.0-cp37-cp37m-manylinux1_x86_64.whl \\\n",
    "    /kaggle/input/mmseg-src/mmsegmentation/mmcls-0.24.0-py2.py3-none-any.whl"
   ]
  },
  {
   "cell_type": "code",
   "execution_count": 2,
   "id": "3f838390",
   "metadata": {
    "execution": {
     "iopub.execute_input": "2022-10-09T09:26:34.240175Z",
     "iopub.status.busy": "2022-10-09T09:26:34.239794Z",
     "iopub.status.idle": "2022-10-09T09:26:51.646486Z",
     "shell.execute_reply": "2022-10-09T09:26:51.645318Z"
    },
    "papermill": {
     "duration": 17.41442,
     "end_time": "2022-10-09T09:26:51.648934",
     "exception": false,
     "start_time": "2022-10-09T09:26:34.234514",
     "status": "completed"
    },
    "tags": []
   },
   "outputs": [
    {
     "name": "stdout",
     "output_type": "stream",
     "text": [
      "/kaggle/working/mmsegmentation\n",
      "Obtaining file:///kaggle/working/mmsegmentation\r\n",
      "  Preparing metadata (setup.py) ... \u001b[?25l-\b \b\\\b \bdone\r\n",
      "\u001b[?25hRequirement already satisfied: matplotlib in /opt/conda/lib/python3.7/site-packages (from mmsegmentation==0.28.0) (3.5.2)\r\n",
      "Requirement already satisfied: mmcls>=0.20.1 in /opt/conda/lib/python3.7/site-packages (from mmsegmentation==0.28.0) (0.24.0)\r\n",
      "Requirement already satisfied: numpy in /opt/conda/lib/python3.7/site-packages (from mmsegmentation==0.28.0) (1.21.6)\r\n",
      "Requirement already satisfied: packaging in /opt/conda/lib/python3.7/site-packages (from mmsegmentation==0.28.0) (21.3)\r\n",
      "Requirement already satisfied: prettytable in /opt/conda/lib/python3.7/site-packages (from mmsegmentation==0.28.0) (3.3.0)\r\n",
      "Requirement already satisfied: python-dateutil>=2.7 in /opt/conda/lib/python3.7/site-packages (from matplotlib->mmsegmentation==0.28.0) (2.8.2)\r\n",
      "Requirement already satisfied: kiwisolver>=1.0.1 in /opt/conda/lib/python3.7/site-packages (from matplotlib->mmsegmentation==0.28.0) (1.4.2)\r\n",
      "Requirement already satisfied: pyparsing>=2.2.1 in /opt/conda/lib/python3.7/site-packages (from matplotlib->mmsegmentation==0.28.0) (3.0.9)\r\n",
      "Requirement already satisfied: cycler>=0.10 in /opt/conda/lib/python3.7/site-packages (from matplotlib->mmsegmentation==0.28.0) (0.11.0)\r\n",
      "Requirement already satisfied: fonttools>=4.22.0 in /opt/conda/lib/python3.7/site-packages (from matplotlib->mmsegmentation==0.28.0) (4.33.3)\r\n",
      "Requirement already satisfied: pillow>=6.2.0 in /opt/conda/lib/python3.7/site-packages (from matplotlib->mmsegmentation==0.28.0) (7.1.2)\r\n",
      "Requirement already satisfied: wcwidth in /opt/conda/lib/python3.7/site-packages (from prettytable->mmsegmentation==0.28.0) (0.2.5)\r\n",
      "Requirement already satisfied: importlib-metadata in /opt/conda/lib/python3.7/site-packages (from prettytable->mmsegmentation==0.28.0) (4.12.0)\r\n",
      "Requirement already satisfied: typing-extensions in /opt/conda/lib/python3.7/site-packages (from kiwisolver>=1.0.1->matplotlib->mmsegmentation==0.28.0) (4.1.1)\r\n",
      "Requirement already satisfied: six>=1.5 in /opt/conda/lib/python3.7/site-packages (from python-dateutil>=2.7->matplotlib->mmsegmentation==0.28.0) (1.16.0)\r\n",
      "Requirement already satisfied: zipp>=0.5 in /opt/conda/lib/python3.7/site-packages (from importlib-metadata->prettytable->mmsegmentation==0.28.0) (3.8.0)\r\n",
      "Installing collected packages: mmsegmentation\r\n",
      "  Running setup.py develop for mmsegmentation\r\n",
      "Successfully installed mmsegmentation-0.28.0\r\n",
      "\u001b[33mWARNING: Running pip as the 'root' user can result in broken permissions and conflicting behaviour with the system package manager. It is recommended to use a virtual environment instead: https://pip.pypa.io/warnings/venv\u001b[0m\u001b[33m\r\n",
      "\u001b[0m"
     ]
    }
   ],
   "source": [
    "!cp -r /kaggle/input/mmseg-src/mmsegmentation /kaggle/working\n",
    "%cd /kaggle/working/mmsegmentation\n",
    "!pip install --disable-pip-version-check -e ."
   ]
  },
  {
   "cell_type": "code",
   "execution_count": 3,
   "id": "e3dd61bf",
   "metadata": {
    "execution": {
     "iopub.execute_input": "2022-10-09T09:26:51.659089Z",
     "iopub.status.busy": "2022-10-09T09:26:51.658755Z",
     "iopub.status.idle": "2022-10-09T09:26:56.419028Z",
     "shell.execute_reply": "2022-10-09T09:26:56.417863Z"
    },
    "papermill": {
     "duration": 4.768402,
     "end_time": "2022-10-09T09:26:56.421832",
     "exception": false,
     "start_time": "2022-10-09T09:26:51.653430",
     "status": "completed"
    },
    "tags": []
   },
   "outputs": [
    {
     "name": "stdout",
     "output_type": "stream",
     "text": [
      "sys.platform: linux\r\n",
      "Python: 3.7.12 | packaged by conda-forge | (default, Oct 26 2021, 06:08:53) [GCC 9.4.0]\r\n",
      "CUDA available: True\r\n",
      "GPU 0: Tesla P100-PCIE-16GB\r\n",
      "CUDA_HOME: /usr/local/cuda\r\n",
      "NVCC: Cuda compilation tools, release 11.0, V11.0.221\r\n",
      "GCC: gcc (Ubuntu 9.4.0-1ubuntu1~20.04.1) 9.4.0\r\n",
      "PyTorch: 1.10.0+cu111\r\n",
      "PyTorch compiling details: PyTorch built with:\r\n",
      "  - GCC 7.3\r\n",
      "  - C++ Version: 201402\r\n",
      "  - Intel(R) Math Kernel Library Version 2020.0.0 Product Build 20191122 for Intel(R) 64 architecture applications\r\n",
      "  - Intel(R) MKL-DNN v2.2.3 (Git Hash 7336ca9f055cf1bfa13efb658fe15dc9b41f0740)\r\n",
      "  - OpenMP 201511 (a.k.a. OpenMP 4.5)\r\n",
      "  - LAPACK is enabled (usually provided by MKL)\r\n",
      "  - NNPACK is enabled\r\n",
      "  - CPU capability usage: AVX512\r\n",
      "  - CUDA Runtime 11.1\r\n",
      "  - NVCC architecture flags: -gencode;arch=compute_37,code=sm_37;-gencode;arch=compute_50,code=sm_50;-gencode;arch=compute_60,code=sm_60;-gencode;arch=compute_70,code=sm_70;-gencode;arch=compute_75,code=sm_75;-gencode;arch=compute_80,code=sm_80;-gencode;arch=compute_86,code=sm_86\r\n",
      "  - CuDNN 8.0.5\r\n",
      "  - Magma 2.5.2\r\n",
      "  - Build settings: BLAS_INFO=mkl, BUILD_TYPE=Release, CUDA_VERSION=11.1, CUDNN_VERSION=8.0.5, CXX_COMPILER=/opt/rh/devtoolset-7/root/usr/bin/c++, CXX_FLAGS= -Wno-deprecated -fvisibility-inlines-hidden -DUSE_PTHREADPOOL -fopenmp -DNDEBUG -DUSE_KINETO -DUSE_FBGEMM -DUSE_QNNPACK -DUSE_PYTORCH_QNNPACK -DUSE_XNNPACK -DSYMBOLICATE_MOBILE_DEBUG_HANDLE -DEDGE_PROFILER_USE_KINETO -O2 -fPIC -Wno-narrowing -Wall -Wextra -Werror=return-type -Wno-missing-field-initializers -Wno-type-limits -Wno-array-bounds -Wno-unknown-pragmas -Wno-sign-compare -Wno-unused-parameter -Wno-unused-variable -Wno-unused-function -Wno-unused-result -Wno-unused-local-typedefs -Wno-strict-overflow -Wno-strict-aliasing -Wno-error=deprecated-declarations -Wno-stringop-overflow -Wno-psabi -Wno-error=pedantic -Wno-error=redundant-decls -Wno-error=old-style-cast -fdiagnostics-color=always -faligned-new -Wno-unused-but-set-variable -Wno-maybe-uninitialized -fno-math-errno -fno-trapping-math -Werror=format -Wno-stringop-overflow, LAPACK_INFO=mkl, PERF_WITH_AVX=1, PERF_WITH_AVX2=1, PERF_WITH_AVX512=1, TORCH_VERSION=1.10.0, USE_CUDA=ON, USE_CUDNN=ON, USE_EXCEPTION_PTR=1, USE_GFLAGS=OFF, USE_GLOG=OFF, USE_MKL=ON, USE_MKLDNN=ON, USE_MPI=OFF, USE_NCCL=ON, USE_NNPACK=ON, USE_OPENMP=ON, \r\n",
      "\r\n",
      "TorchVision: 0.11.0+cu111\r\n",
      "OpenCV: 4.5.4\r\n",
      "MMCV: 1.6.0\r\n",
      "MMCV Compiler: GCC 7.3\r\n",
      "MMCV CUDA Compiler: 11.1\r\n",
      "MMSegmentation: 0.28.0+3fb9c77\r\n"
     ]
    }
   ],
   "source": [
    "!python mmseg/utils/collect_env.py"
   ]
  },
  {
   "cell_type": "code",
   "execution_count": 4,
   "id": "abebddb3",
   "metadata": {
    "execution": {
     "iopub.execute_input": "2022-10-09T09:26:56.432762Z",
     "iopub.status.busy": "2022-10-09T09:26:56.431857Z",
     "iopub.status.idle": "2022-10-09T09:26:58.345211Z",
     "shell.execute_reply": "2022-10-09T09:26:58.343919Z"
    },
    "papermill": {
     "duration": 1.921191,
     "end_time": "2022-10-09T09:26:58.347569",
     "exception": false,
     "start_time": "2022-10-09T09:26:56.426378",
     "status": "completed"
    },
    "tags": []
   },
   "outputs": [],
   "source": [
    "# SETTINGSS.json must be in the same directory as predict.py\n",
    "!cp /kaggle/input/hubmaphpa-1st/hubmap+hpa_1st/predict.py /kaggle/working\n",
    "!cp /kaggle/input/hubmaphpa-1st/hubmap+hpa_1st/SETTINGS.json /kaggle/working"
   ]
  },
  {
   "cell_type": "code",
   "execution_count": 5,
   "id": "e4a9d99b",
   "metadata": {
    "execution": {
     "iopub.execute_input": "2022-10-09T09:26:58.358764Z",
     "iopub.status.busy": "2022-10-09T09:26:58.357713Z",
     "iopub.status.idle": "2022-10-09T09:26:58.366591Z",
     "shell.execute_reply": "2022-10-09T09:26:58.365702Z"
    },
    "papermill": {
     "duration": 0.016252,
     "end_time": "2022-10-09T09:26:58.368512",
     "exception": false,
     "start_time": "2022-10-09T09:26:58.352260",
     "status": "completed"
    },
    "tags": []
   },
   "outputs": [
    {
     "name": "stdout",
     "output_type": "stream",
     "text": [
      "Overwriting /kaggle/working/SETTINGS.json\n"
     ]
    }
   ],
   "source": [
    "%%writefile /kaggle/working/SETTINGS.json\n",
    "{   \n",
    "    \"TEST_DATA_IMAGE_PATH\": \"/kaggle/input/hubmap-organ-segmentation/test_images\",\n",
    "    \"TEST_DATA_CSV_PATH\": \"/kaggle/input/hubmap-organ-segmentation/test.csv\",\n",
    "    \"MODEL_1\": \"/kaggle/input/hubmaphpa-1st/hubmap+hpa_1st/models/segformer_mit-b3_1024.pth\",\n",
    "    \"MODEL_2\": \"/kaggle/input/hubmaphpa-1st/hubmap+hpa_1st/models/segformer_mit-b4_960.pth\",\n",
    "    \"MODEL_3\": \"/kaggle/input/hubmaphpa-1st/hubmap+hpa_1st/models/segformer_mit-b4_960_2.pth\",\n",
    "    \"MODEL_4\": \"/kaggle/input/hubmaphpa-1st/hubmap+hpa_1st/models/segformer_mit-b5_928.pth\",\n",
    "    \"MODEL_5\": \"/kaggle/input/hubmaphpa-1st/hubmap+hpa_1st/models/segformer_mit-b5_960.pth\",\n",
    "    \"MODEL_6\": \"/kaggle/input/hubmaphpa-1st/hubmap+hpa_1st/models/segformer_mit-b5_960_2.pth\",\n",
    "    \"MODEL_CONFIG_1\": \"/kaggle/input/hubmaphpa-1st/hubmap+hpa_1st/model_configs/segformer-mit_b3_hubmap_1024.py\",\n",
    "    \"MODEL_CONFIG_2\": \"/kaggle/input/hubmaphpa-1st/hubmap+hpa_1st/model_configs/segformer-mit_b4_hubmap_960.py\",\n",
    "    \"MODEL_CONFIG_3\": \"/kaggle/input/hubmaphpa-1st/hubmap+hpa_1st/model_configs/segformer-mit_b4_hubmap_960.py\",\n",
    "    \"MODEL_CONFIG_4\": \"/kaggle/input/hubmaphpa-1st/hubmap+hpa_1st/model_configs/segformer-mit_b5_hubmap_928.py\",\n",
    "    \"MODEL_CONFIG_5\": \"/kaggle/input/hubmaphpa-1st/hubmap+hpa_1st/model_configs/segformer-mit_b5_hubmap_960.py\",\n",
    "    \"MODEL_CONFIG_6\": \"/kaggle/input/hubmaphpa-1st/hubmap+hpa_1st/model_configs/segformer-mit_b5_hubmap_960.py\",\n",
    "    \"USE_MODEL\":[1,2,3,4,5,6],\n",
    "    \"SUBMISSION_DIR\": \"/kaggle/working\"\n",
    "}"
   ]
  },
  {
   "cell_type": "code",
   "execution_count": 6,
   "id": "7dae0fff",
   "metadata": {
    "execution": {
     "iopub.execute_input": "2022-10-09T09:26:58.378785Z",
     "iopub.status.busy": "2022-10-09T09:26:58.377891Z",
     "iopub.status.idle": "2022-10-09T09:28:05.611858Z",
     "shell.execute_reply": "2022-10-09T09:28:05.610579Z"
    },
    "papermill": {
     "duration": 67.242159,
     "end_time": "2022-10-09T09:28:05.615029",
     "exception": false,
     "start_time": "2022-10-09T09:26:58.372870",
     "status": "completed"
    },
    "tags": []
   },
   "outputs": [
    {
     "name": "stdout",
     "output_type": "stream",
     "text": [
      "/kaggle/working\n",
      "**all files: 1\r\n",
      "/kaggle/working/mmsegmentation/mmseg/models/decode_heads/decode_head.py:94: UserWarning: For binary segmentation, we suggest using`out_channels = 1` to define the outputchannels of segmentor, and use `threshold`to convert seg_logist into a predictionapplying a threshold\r\n",
      "  warnings.warn('For binary segmentation, we suggest using'\r\n",
      "/kaggle/working/mmsegmentation/mmseg/models/losses/cross_entropy_loss.py:236: UserWarning: Default ``avg_non_ignore`` is False, if you would like to ignore the certain label and average loss over non-ignore labels, which is the same with PyTorch official cross_entropy, set ``avg_non_ignore=True``.\r\n",
      "  'Default ``avg_non_ignore`` is False, if you would like to '\r\n",
      "load checkpoint from local path: /kaggle/input/hubmaphpa-1st/hubmap+hpa_1st/models/segformer_mit-b3_1024.pth\r\n",
      "load checkpoint from local path: /kaggle/input/hubmaphpa-1st/hubmap+hpa_1st/models/segformer_mit-b4_960.pth\r\n",
      "load checkpoint from local path: /kaggle/input/hubmaphpa-1st/hubmap+hpa_1st/models/segformer_mit-b4_960_2.pth\r\n",
      "load checkpoint from local path: /kaggle/input/hubmaphpa-1st/hubmap+hpa_1st/models/segformer_mit-b5_928.pth\r\n",
      "load checkpoint from local path: /kaggle/input/hubmaphpa-1st/hubmap+hpa_1st/models/segformer_mit-b5_960.pth\r\n",
      "load checkpoint from local path: /kaggle/input/hubmaphpa-1st/hubmap+hpa_1st/models/segformer_mit-b5_960_2.pth\r\n",
      "/opt/conda/lib/python3.7/site-packages/torch/nn/functional.py:1806: UserWarning: nn.functional.sigmoid is deprecated. Use torch.sigmoid instead.\r\n",
      "  warnings.warn(\"nn.functional.sigmoid is deprecated. Use torch.sigmoid instead.\")\r\n",
      "processed: /kaggle/input/hubmap-organ-segmentation/test_images/10078.tiff | organ:spleen | threshold:0.5\r\n",
      "Processed 1 items.\r\n",
      "elapsed:11.3s\r\n"
     ]
    }
   ],
   "source": [
    "\"\"\"\n",
    "# 6 model ensembles\n",
    "\"USE_MODEL\":[1,2,3,4,5,6]\n",
    "private: 0.83562\n",
    "public: 0.82716\n",
    "\n",
    "# best single model\n",
    "\"USE_MODEL\":[2]\n",
    "private: 0.82821\n",
    "public: 0.81944\n",
    "\n",
    "\"\"\"\n",
    "\n",
    "%cd /kaggle/working\n",
    "!python predict.py"
   ]
  },
  {
   "cell_type": "code",
   "execution_count": 7,
   "id": "e0e430f9",
   "metadata": {
    "execution": {
     "iopub.execute_input": "2022-10-09T09:28:05.640862Z",
     "iopub.status.busy": "2022-10-09T09:28:05.640306Z",
     "iopub.status.idle": "2022-10-09T09:28:06.778616Z",
     "shell.execute_reply": "2022-10-09T09:28:06.777458Z"
    },
    "papermill": {
     "duration": 1.153398,
     "end_time": "2022-10-09T09:28:06.781159",
     "exception": false,
     "start_time": "2022-10-09T09:28:05.627761",
     "status": "completed"
    },
    "tags": []
   },
   "outputs": [
    {
     "name": "stdout",
     "output_type": "stream",
     "text": [
      "/kaggle/working\n"
     ]
    }
   ],
   "source": [
    "%cd /kaggle/working\n",
    "!rm -r /kaggle/working/mmsegmentation"
   ]
  }
 ],
 "metadata": {
  "kernelspec": {
   "display_name": "base",
   "language": "python",
   "name": "python3"
  },
  "language_info": {
   "codemirror_mode": {
    "name": "ipython",
    "version": 3
   },
   "file_extension": ".py",
   "mimetype": "text/x-python",
   "name": "python",
   "nbconvert_exporter": "python",
   "pygments_lexer": "ipython3",
   "version": "3.8.8 (default, Apr 13 2021, 15:08:03) [MSC v.1916 64 bit (AMD64)]"
  },
  "papermill": {
   "default_parameters": {},
   "duration": 199.484406,
   "end_time": "2022-10-09T09:28:07.306486",
   "environment_variables": {},
   "exception": null,
   "input_path": "__notebook__.ipynb",
   "output_path": "__notebook__.ipynb",
   "parameters": {},
   "start_time": "2022-10-09T09:24:47.822080",
   "version": "2.3.4"
  },
  "vscode": {
   "interpreter": {
    "hash": "3d0f1a7c7a8331fabffe125a79dda565e911a9568155c81af777da934bda2697"
   }
  }
 },
 "nbformat": 4,
 "nbformat_minor": 5
}
