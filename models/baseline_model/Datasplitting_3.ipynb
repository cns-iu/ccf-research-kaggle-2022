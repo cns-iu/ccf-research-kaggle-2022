{
 "cells": [
  {
   "cell_type": "markdown",
   "id": "502c9659-e58a-4e40-9737-9a7fc65f3b49",
   "metadata": {},
   "source": [
    "### Data Splitting"
   ]
  },
  {
   "cell_type": "markdown",
   "id": "ef8114da-bcac-4c21-87e6-cac6a43c5040",
   "metadata": {},
   "source": [
    "This notebook splits the whole dataset into train and validation set"
   ]
  },
  {
   "cell_type": "markdown",
   "id": "62557069-a9fe-43a1-8f1f-4b56afe39039",
   "metadata": {},
   "source": [
    "Importing packages"
   ]
  },
  {
   "cell_type": "code",
   "execution_count": null,
   "id": "a02703ed-d518-481c-83af-91fa4160fa61",
   "metadata": {},
   "outputs": [],
   "source": [
    "import pandas as pd\n",
    "import numpy as np\n",
    "import shutil\n",
    "import os\n",
    "import tqdm\n",
    "import glob\n",
    "import tifffile\n",
    "import matplotlib.pyplot as plt"
   ]
  },
  {
   "cell_type": "code",
   "execution_count": null,
   "id": "e83e6702-af65-428c-a120-ee1e1a16f248",
   "metadata": {},
   "outputs": [],
   "source": [
    "data_basepath = '38829_81799_A_2_4_lung' \n",
    "metadata_csv = data_basepath + 'metadata.csv'\n",
    "data_with_rle = data_basepath + 'complete_dataset_rle.csv'"
   ]
  },
  {
   "cell_type": "code",
   "execution_count": null,
   "id": "475abb7f-9643-46af-b70d-01b299e05f51",
   "metadata": {},
   "outputs": [],
   "source": [
    "metadata = pd.read_csv(metadata_csv)\n",
    "rle_data_csv = pd.read_csv(data_with_rle)\n",
    "rle_data_csv.columns = [\"filename\",\"rle\",\"organ\"]"
   ]
  },
  {
   "cell_type": "code",
   "execution_count": null,
   "id": "2e008d06-c318-4b0c-9518-0c7f7bde6e64",
   "metadata": {},
   "outputs": [],
   "source": [
    "len(rle_data_csv)"
   ]
  },
  {
   "cell_type": "code",
   "execution_count": null,
   "id": "8334bb50-22e3-4410-826a-fdee03296fb4",
   "metadata": {},
   "outputs": [],
   "source": [
    "len(metadata)"
   ]
  },
  {
   "cell_type": "markdown",
   "id": "eb6d6f98-7055-41cf-83f0-9ab412c10ac3",
   "metadata": {},
   "source": [
    "Fitlering data for training"
   ]
  },
  {
   "cell_type": "code",
   "execution_count": null,
   "id": "a04b8931-f5ac-4592-9f18-c86f7858e4ff",
   "metadata": {},
   "outputs": [],
   "source": [
    "train_data = metadata[metadata['data_type']==\"public\"]\n",
    "test_data = metadata[(metadata['data_type']==\"private\") | (metadata['data_type']==\"hubmap\")]"
   ]
  },
  {
   "cell_type": "code",
   "execution_count": null,
   "id": "31b2e583-d450-4fad-8feb-a10e08675efe",
   "metadata": {},
   "outputs": [],
   "source": [
    "train_data"
   ]
  },
  {
   "cell_type": "code",
   "execution_count": null,
   "id": "3478985a-df00-406a-b7a7-d619aa245f9b",
   "metadata": {},
   "outputs": [],
   "source": [
    "train_data_filtered = train_data[train_data['filename'].isin(rle_data_csv['filename'].str.replace(\".tif\",\"\"))]\n",
    "test_data_filtered = test_data[test_data['filename'].isin(rle_data_csv['filename'].str.replace(\".tif\",\"\"))]"
   ]
  },
  {
   "cell_type": "code",
   "execution_count": null,
   "id": "bd29314f-23f4-47c3-8440-1ca0920ecc8c",
   "metadata": {},
   "outputs": [],
   "source": [
    "def get_rle(x):\n",
    "    return rle_data_csv[rle_data_csv[\"filename\"].str.replace(\".tif\",\"\")==x]['rle'].values[0]"
   ]
  },
  {
   "cell_type": "code",
   "execution_count": null,
   "id": "f2da2be1-706b-41e5-b3f3-fa0d5092b921",
   "metadata": {},
   "outputs": [],
   "source": [
    "train_data_filtered['rle'] = train_data_filtered['filename'].apply(lambda x: get_rle(x))\n",
    "test_data_filtered['rle'] = test_data_filtered['filename'].apply(lambda x: get_rle(x))"
   ]
  },
  {
   "cell_type": "code",
   "execution_count": null,
   "id": "81d90420-216d-4da0-8f0f-5a0d66c88875",
   "metadata": {},
   "outputs": [],
   "source": [
    "os.mkdir('/N/slate/yashjain/kaggle_data_package/kaggle_data_multiftu/data/gftu_dataset')\n",
    "train_data_filtered[[\"filename\",\"rle\",\"patient_id\",\"tissue_name\"]].to_csv(data_basepath + 'gftu_dataset/train.csv',index=None)\n",
    "test_data_filtered[[\"filename\",\"rle\",\"patient_id\",\"tissue_name\"]].to_csv(data_basepath + 'gftu_dataset/test.csv',index=None)"
   ]
  },
  {
   "cell_type": "code",
   "execution_count": null,
   "id": "3516cfb3-91ed-4821-a25e-8cad46cc43eb",
   "metadata": {},
   "outputs": [],
   "source": [
    "images_paths = glob.glob(data_basepath + 'gftu_dataset_separate/lung/image/*tif')\\\n",
    "+glob.glob(data_basepath + 'gftu_dataset_separate/kidney/image/*tif')\\\n",
    "+glob.glob(data_basepath + 'gftu_dataset_separate/spleen/image/*tif')\\\n",
    "+glob.glob(data_basepath + 'gftu_dataset_separate/largeintestine/image/*tif')\\\n",
    "+glob.glob(data_basepath + 'gftu_dataset_separate/prostate/image/*tif')\n",
    "\n",
    "\n",
    "\n",
    "\n",
    "masks_path = glob.glob(data_basepath + 'gftu_dataset_separate/lung/mask/*tif')\\\n",
    "+glob.glob(data_basepath + 'gftu_dataset_separate/kidney/mask/*tif')\\\n",
    "+glob.glob(data_basepath + 'gftu_dataset_separate/spleen/mask/*tif')\\\n",
    "+glob.glob(data_basepath + 'gftu_dataset_separate/largeintestine/mask/*tif')\\\n",
    "+glob.glob(data_basepath + 'gftu_dataset_separate/prostate/mask/*tif')"
   ]
  },
  {
   "cell_type": "code",
   "execution_count": null,
   "id": "492687d4-29a1-44e1-b265-24a2a1289f6d",
   "metadata": {},
   "outputs": [],
   "source": [
    "print(f\"Number of images = {len(images_paths)}\")\n",
    "print(f\"Number of masks = {len(masks_path)}\")"
   ]
  },
  {
   "cell_type": "code",
   "execution_count": null,
   "id": "18b310a2-4210-494d-972f-c91675d94d1c",
   "metadata": {},
   "outputs": [],
   "source": [
    "train_data_path = data_basepath + 'gftu_dataset/train/'\n",
    "train_mask_path = data_basepath + 'gftu_dataset/train_mask/'\n",
    "test_data_path = data_basepath + 'gftu_dataset/test/'\n",
    "test_mask_path = data_basepath + 'gftu_dataset/test_mask/'\n",
    "os.mkdir(train_data_path)\n",
    "os.mkdir(train_mask_path)\n",
    "os.mkdir(test_data_path)\n",
    "os.mkdir(test_mask_path)"
   ]
  },
  {
   "cell_type": "code",
   "execution_count": null,
   "id": "d274c9bc-9269-464c-9db3-d9d8d6deef8d",
   "metadata": {},
   "outputs": [],
   "source": [
    "for image_path in tqdm.tqdm(images_paths):\n",
    "    filename = image_path.split(\"/\")[-1].replace(\".tif\",\"\")\n",
    "    \n",
    "    if filename in train_data_filtered['filename'].tolist():\n",
    "        shutil.copyfile(image_path,train_data_path+image_path.split(\"/\")[-1])\n",
    "        shutil.copyfile(image_path.replace(\"image\",\"mask\"),train_mask_path+image_path.split(\"/\")[-1])\n",
    "        \n",
    "    if filename in test_data_filtered['filename'].tolist():\n",
    "        shutil.copyfile(image_path,test_data_path+image_path.split(\"/\")[-1])\n",
    "        shutil.copyfile(image_path.replace(\"image\",\"mask\"),test_mask_path+image_path.split(\"/\")[-1])\n",
    "    \n",
    "    \n",
    "    \n",
    "    \n",
    "    "
   ]
  },
  {
   "cell_type": "code",
   "execution_count": null,
   "id": "99e6bfe4-e41b-4c09-9fcc-d96e8e1bd9f4",
   "metadata": {},
   "outputs": [],
   "source": [
    "len(os.listdir(data_basepath + 'gftu_dataset/train/'))"
   ]
  },
  {
   "cell_type": "code",
   "execution_count": null,
   "id": "72fb5043-9d32-40fa-80d4-6b4d8bfc1d4e",
   "metadata": {},
   "outputs": [],
   "source": [
    "len(os.listdir(data_basepath + 'gftu_dataset/test/'))"
   ]
  },
  {
   "cell_type": "code",
   "execution_count": null,
   "id": "f82bd22f-ec8a-4fcc-8c27-366af321f5f9",
   "metadata": {},
   "outputs": [],
   "source": [
    "len(os.listdir(data_basepath + 'gftu_dataset/train_mask/'))"
   ]
  },
  {
   "cell_type": "code",
   "execution_count": null,
   "id": "3f70f0c7-fb16-4d37-b36a-c0555556aea5",
   "metadata": {},
   "outputs": [],
   "source": [
    "len(os.listdir(data_basepath + 'gftu_dataset/test_mask/'))"
   ]
  },
  {
   "cell_type": "markdown",
   "id": "839c4b7a-037f-4fdb-9583-56fee43b1ba6",
   "metadata": {},
   "source": [
    "Checking if rle2mask is working fine"
   ]
  },
  {
   "cell_type": "code",
   "execution_count": null,
   "id": "d839bdd9-dcdd-463a-9804-e1dfedc04223",
   "metadata": {},
   "outputs": [],
   "source": [
    "def rle2mask(rle, shape):\n",
    "    '''\n",
    "    mask_rle: run-length as string formatted (start length)\n",
    "    shape: (height, width) of array to return \n",
    "    Returns numpy array <- 1(mask), 0(background)\n",
    "    '''\n",
    "    if type(rle) == float:\n",
    "        rle=\"\"\n",
    "    s = rle.split()\n",
    "    starts, lengths = [np.asarray(x, dtype=int) for x in (s[0:][::2], s[1:][::2])]\n",
    "    starts -= 1\n",
    "    ends = starts + lengths\n",
    "    img = np.zeros(shape[0]*shape[1], dtype=np.uint8)\n",
    "    for lo, hi in zip(starts, ends):\n",
    "        img[lo:hi] = 1\n",
    "    return img.reshape(shape, order='F')  # Needed to align to RLE direction"
   ]
  },
  {
   "cell_type": "code",
   "execution_count": null,
   "id": "af2f1ab5-d637-4c8c-b5c8-b81ab78bdf64",
   "metadata": {},
   "outputs": [],
   "source": [
    "data_path = data_basepath + 'gftu_dataset/train/'\n",
    "masks_path = data_basepath + 'gftu_dataset/train_mask/'"
   ]
  },
  {
   "cell_type": "code",
   "execution_count": null,
   "id": "b097ac42-e951-4833-8a90-78c20f31dc5c",
   "metadata": {},
   "outputs": [],
   "source": [
    "idx = 150\n",
    "im_id = train_data_filtered.reset_index(drop=True).loc[idx,[\"filename\"]].values[0]\n",
    "rle = train_data_filtered.reset_index(drop=True).loc[idx,[\"rle\"]].values[0]\n",
    "organ = train_data_filtered.reset_index(drop=True).loc[idx,[\"tissue_name\"]].values[0]"
   ]
  },
  {
   "cell_type": "code",
   "execution_count": null,
   "id": "c5332577-b723-45f8-ac65-70abb05f6d06",
   "metadata": {},
   "outputs": [],
   "source": [
    "im_id"
   ]
  },
  {
   "cell_type": "code",
   "execution_count": null,
   "id": "55901d52-c40d-4cc0-9891-534385b00f0d",
   "metadata": {},
   "outputs": [],
   "source": [
    "organ"
   ]
  },
  {
   "cell_type": "code",
   "execution_count": null,
   "id": "d040f47e-99a0-4882-bcff-ab3dabb62b7a",
   "metadata": {},
   "outputs": [],
   "source": [
    "image = tifffile.imread(data_path+im_id+\".tif\")\n",
    "mask = tifffile.imread(masks_path+im_id+\".tif\")"
   ]
  },
  {
   "cell_type": "code",
   "execution_count": null,
   "id": "8b5d3c9a-4029-4f39-92c4-b311741589f1",
   "metadata": {},
   "outputs": [],
   "source": [
    "plt.rcParams[\"figure.figsize\"] = [10,10]"
   ]
  },
  {
   "cell_type": "code",
   "execution_count": null,
   "id": "967daf5e-3e6b-4823-a148-7f164c85a9d4",
   "metadata": {},
   "outputs": [],
   "source": [
    "plt.imshow(image)"
   ]
  },
  {
   "cell_type": "code",
   "execution_count": null,
   "id": "b3f91ad4-ad47-46b2-a5ca-1d005650ba90",
   "metadata": {},
   "outputs": [],
   "source": [
    "shape = image.shape"
   ]
  },
  {
   "cell_type": "code",
   "execution_count": null,
   "id": "74480525-45d6-4f63-b4bc-38606ab5e35d",
   "metadata": {},
   "outputs": [],
   "source": [
    "plt.imshow(mask)"
   ]
  },
  {
   "cell_type": "code",
   "execution_count": null,
   "id": "0ba1d34c-0210-41da-9813-caf595fc4819",
   "metadata": {},
   "outputs": [],
   "source": [
    "mask_enc = rle2mask(rle,(shape[0],shape[1]))"
   ]
  },
  {
   "cell_type": "code",
   "execution_count": null,
   "id": "7f6d004f-aa4b-4d4d-834a-9a3e68efd001",
   "metadata": {},
   "outputs": [],
   "source": [
    "plt.imshow(mask_enc)"
   ]
  },
  {
   "cell_type": "markdown",
   "id": "d12e8d20-5dbe-4a0c-97bb-d6178d809388",
   "metadata": {},
   "source": [
    "#### Data stats"
   ]
  },
  {
   "cell_type": "code",
   "execution_count": null,
   "id": "d6b05031-afa3-4384-b081-214279d52e0c",
   "metadata": {},
   "outputs": [],
   "source": [
    "organs = [\"lung\",\"kidney\",\"prostate\",\"largeintestine\",\"spleen\"]"
   ]
  },
  {
   "cell_type": "code",
   "execution_count": null,
   "id": "7682ce1b-377b-4104-8b95-3eb29f750169",
   "metadata": {},
   "outputs": [],
   "source": [
    "for org in organs:\n",
    "    print(f\"Number of {org} images in training set is {len(train_data_filtered[train_data_filtered['tissue_name']==org])}\")"
   ]
  },
  {
   "cell_type": "code",
   "execution_count": null,
   "id": "aadcf2f8-b394-48d7-887d-90feab229cae",
   "metadata": {},
   "outputs": [],
   "source": [
    "for org in organs:\n",
    "    print(f\"Number of {org} images in test set is {len(test_data_filtered[test_data_filtered['tissue_name']==org])}\")"
   ]
  },
  {
   "cell_type": "markdown",
   "id": "0fe26ce0-1f5c-4516-b662-d97e14103a52",
   "metadata": {},
   "source": [
    "Checking validation set\n"
   ]
  },
  {
   "cell_type": "code",
   "execution_count": null,
   "id": "75461473-befc-4699-a40e-e51511aecb0d",
   "metadata": {},
   "outputs": [],
   "source": [
    "import pandas as pd\n"
   ]
  },
  {
   "cell_type": "code",
   "execution_count": null,
   "id": "1a6b080b-cddc-4bc5-a395-25e319022763",
   "metadata": {},
   "outputs": [],
   "source": [
    "training_data_filtered = pd.read_csv(data_basepath + 'gftu_dataset/train.csv')"
   ]
  },
  {
   "cell_type": "markdown",
   "id": "3dbf8291-1045-4e16-bfbb-f41828cb613a",
   "metadata": {},
   "source": [
    "Kidney patient ids"
   ]
  },
  {
   "cell_type": "code",
   "execution_count": null,
   "id": "6d9b8816-a1dc-40b6-a117-0207b911a8c8",
   "metadata": {},
   "outputs": [],
   "source": [
    "training_data_filtered[training_data_filtered['tissue_name']==\"kidney\"]['patient_id'].value_counts()"
   ]
  },
  {
   "cell_type": "markdown",
   "id": "bae83605-b85c-428d-ad4c-fbf46640d541",
   "metadata": {},
   "source": [
    "lung patient ids"
   ]
  },
  {
   "cell_type": "code",
   "execution_count": null,
   "id": "042840e0-fb05-45cd-b0b9-9d4bc3ae3609",
   "metadata": {},
   "outputs": [],
   "source": [
    "training_data_filtered[training_data_filtered['tissue_name']==\"lung\"]['patient_id'].value_counts()"
   ]
  },
  {
   "cell_type": "markdown",
   "id": "88a34889-681e-4227-b941-83bd48f71216",
   "metadata": {},
   "source": [
    "spleen patient ids"
   ]
  },
  {
   "cell_type": "code",
   "execution_count": null,
   "id": "b94bfaa7-c3c9-4ccb-99b2-d86f7d059865",
   "metadata": {},
   "outputs": [],
   "source": [
    "training_data_filtered[training_data_filtered['tissue_name']==\"spleen\"]['patient_id'].value_counts()"
   ]
  },
  {
   "cell_type": "markdown",
   "id": "ae8a9461-73e5-4cbe-b174-aedace67b0aa",
   "metadata": {},
   "source": [
    "prostate patient ids"
   ]
  },
  {
   "cell_type": "code",
   "execution_count": null,
   "id": "85c61a0d-38a3-4158-b9f1-3c6953b0ec4f",
   "metadata": {},
   "outputs": [],
   "source": [
    "training_data_filtered[training_data_filtered['tissue_name']==\"prostate\"]['patient_id'].value_counts()"
   ]
  },
  {
   "cell_type": "markdown",
   "id": "b2b78b70-d763-4ab9-8c3f-ed74fd54ab15",
   "metadata": {},
   "source": [
    "large intestine patient ids"
   ]
  },
  {
   "cell_type": "code",
   "execution_count": null,
   "id": "6c4c6fbd-d632-4427-b9ee-7ff050a59316",
   "metadata": {},
   "outputs": [],
   "source": [
    "training_data_filtered[training_data_filtered['tissue_name']==\"largeintestine\"]['patient_id'].value_counts()"
   ]
  },
  {
   "cell_type": "code",
   "execution_count": null,
   "id": "beabddce-d910-4f96-b153-ec203c01375c",
   "metadata": {},
   "outputs": [],
   "source": [
    "validation_set = [[2184.0],[443.0],[1678.0],[2208.0],[1787.0],[96.0],[2932.0],[3497.0],[2040.0],[4510.0]]#olf[[4510.0],[1960.0],[3181.0],[2098.0],[1511.0],[1787.0],[2208.0],[2222.0],[443.0],[1943.0]]"
   ]
  },
  {
   "cell_type": "code",
   "execution_count": null,
   "id": "d9b46588-80db-4acd-b10e-467801dd8667",
   "metadata": {},
   "outputs": [],
   "source": [
    "validation_set"
   ]
  }
 ],
 "metadata": {
  "kernelspec": {
   "display_name": "Python 3",
   "language": "python",
   "name": "python3"
  },
  "language_info": {
   "codemirror_mode": {
    "name": "ipython",
    "version": 3
   },
   "file_extension": ".py",
   "mimetype": "text/x-python",
   "name": "python",
   "nbconvert_exporter": "python",
   "pygments_lexer": "ipython3",
   "version": "3.8.10 (default, Nov 14 2022, 12:59:47) \n[GCC 9.4.0]"
  },
  "vscode": {
   "interpreter": {
    "hash": "916dbcbb3f70747c44a77c7bcd40155683ae19c65e1c03b4aa3499c5328201f1"
   }
  }
 },
 "nbformat": 4,
 "nbformat_minor": 5
}
