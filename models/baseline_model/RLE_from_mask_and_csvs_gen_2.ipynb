{
 "cells": [
  {
   "cell_type": "markdown",
   "id": "cea3bf78-3b17-4e6d-a6dc-9529c1498e54",
   "metadata": {},
   "source": [
    "This notebook generates RLE for mask for the whole data"
   ]
  },
  {
   "cell_type": "code",
   "execution_count": null,
   "id": "f97fdde1-5604-489a-bf72-cefbc805b976",
   "metadata": {},
   "outputs": [],
   "source": [
    "import numpy as np\n",
    "import pandas as pd\n",
    "import cv2\n",
    "import shutil\n",
    "import tifffile\n",
    "import os"
   ]
  },
  {
   "cell_type": "code",
   "execution_count": null,
   "id": "2dd556d1-5ca2-48fc-9824-d2712aa1ddb6",
   "metadata": {},
   "outputs": [],
   "source": [
    "def rle_encode(img):\n",
    "    #cite = https://www.kaggle.com/lifa08/run-length-encode-and-decode\n",
    "    '''\n",
    "    img: numpy array, 1 - mask, 0 - background\n",
    "    Returns run length as string formated\n",
    "    '''\n",
    "    pixels = img.T.flatten()\n",
    "    pixels = np.concatenate([[0], pixels, [0]])\n",
    "    runs = np.where(pixels[1:] != pixels[:-1])[0] + 1\n",
    "    runs[1::2] -= runs[::2]\n",
    "    return ' '.join(str(x) for x in runs)"
   ]
  },
  {
   "cell_type": "code",
   "execution_count": null,
   "id": "589c3f90-d838-4551-8c46-9b834635d272",
   "metadata": {},
   "outputs": [],
   "source": [
    "organs = [\"kidney\",\"largeintestine\",\"lung\",\"spleen\",\"prostate\"]\n",
    "data_basepath = '/N/slate/yashjain/kaggle_data_package/kaggle_data_multiftu/data/' \n",
    "data_path = data_basepath + 'gftu_dataset_separate/'\n",
    "\n"
   ]
  },
  {
   "cell_type": "code",
   "execution_count": null,
   "id": "3255ff51-d1b9-44fb-a818-43dbaa3cab63",
   "metadata": {},
   "outputs": [],
   "source": [
    "data_combined = []\n",
    "for org in organs:\n",
    "    print(\"working with organ\",org)\n",
    "    for im in os.listdir(data_path+\"/\"+org+\"/image/\"):\n",
    "        if os.path.isfile(data_path+\"/\"+org+\"/mask/\"+im):\n",
    "            rle = rle_encode(tifffile.imread(data_path+\"/\"+org+\"/mask/\"+im))\n",
    "            data_combined.append([im,rle,org])\n",
    "                          \n",
    "                          "
   ]
  },
  {
   "cell_type": "markdown",
   "id": "d3a7c865-0572-4538-8d27-841ea0144d0e",
   "metadata": {},
   "source": [
    "data csv"
   ]
  },
  {
   "cell_type": "code",
   "execution_count": null,
   "id": "1aa66982-da50-457b-a67f-3279cd07befe",
   "metadata": {},
   "outputs": [],
   "source": [
    "data = pd.DataFrame(data_combined,columns=[\"image\",\"rle\",\"organ\"])"
   ]
  },
  {
   "cell_type": "code",
   "execution_count": null,
   "id": "5dee472c-956c-4d28-abbe-ccf0eca98493",
   "metadata": {},
   "outputs": [],
   "source": [
    "data"
   ]
  },
  {
   "cell_type": "code",
   "execution_count": null,
   "id": "de78694a-8e3f-49f2-9f09-fd6cbe83ac4f",
   "metadata": {},
   "outputs": [],
   "source": [
    "data.to_csv(data_basepath + 'complete_dataset_rle.csv',index=None)"
   ]
  },
  {
   "cell_type": "markdown",
   "id": "f59c7683-7f54-4099-8233-a21f4c639c2a",
   "metadata": {},
   "source": [
    "Copying data - Not needed"
   ]
  },
  {
   "cell_type": "code",
   "execution_count": null,
   "id": "d7f1322c-9139-461e-b37f-0c6e5efa7a0d",
   "metadata": {},
   "outputs": [],
   "source": [
    "save_path_images = \"gftu_dataset/train/\"\n",
    "save_path_masks = \"gftu_dataset/train_mask/\""
   ]
  },
  {
   "cell_type": "code",
   "execution_count": null,
   "id": "5695df51-f53a-4ede-9b98-c424cf4adf5d",
   "metadata": {},
   "outputs": [],
   "source": [
    "for org in organs:\n",
    "    print(\"working with organ\",org)\n",
    "    for im in os.listdir(data_path+\"/\"+org+\"/image/\"):\n",
    "        if os.path.isfile(data_path+\"/\"+org+\"/mask/\"+im):\n",
    "            shutil.copyfile(data_path+\"/\"+org+\"/image/\"+im,save_path_images+im)\n",
    "            shutil.copyfile(data_path+\"/\"+org+\"/mask/\"+im,save_path_masks+im)\n",
    "                          \n",
    "                          "
   ]
  },
  {
   "cell_type": "code",
   "execution_count": null,
   "id": "7bf846c3-954e-48e1-b2b6-c1de0aab3038",
   "metadata": {},
   "outputs": [],
   "source": [
    "len(data) == len(os.listdir(save_path_images))"
   ]
  },
  {
   "cell_type": "markdown",
   "id": "262554eb-ee75-4d39-b413-c7c4dd6a634b",
   "metadata": {},
   "source": [
    "Create submission csv - Not needed"
   ]
  },
  {
   "cell_type": "code",
   "execution_count": null,
   "id": "aa064101-88b9-45b1-98b1-d3b1e0b576a7",
   "metadata": {},
   "outputs": [],
   "source": [
    "test_csv = pd.read_csv(\"gftu_dataset/test.csv\")"
   ]
  },
  {
   "cell_type": "code",
   "execution_count": null,
   "id": "1024d93d-4d86-4afa-83a4-3daf60ec51da",
   "metadata": {},
   "outputs": [],
   "source": [
    "test_csv = test_csv.drop(['rle'],axis=1)"
   ]
  },
  {
   "cell_type": "code",
   "execution_count": null,
   "id": "83939d83-f906-4cf6-b31d-289bda46f219",
   "metadata": {},
   "outputs": [],
   "source": []
  }
 ],
 "metadata": {
  "interpreter": {
   "hash": "39041bc53606e119a092380846e3da0edca52c5e80be9b7debfd4624b489b99d"
  },
  "kernelspec": {
   "display_name": "Python 3.8.8 ('base')",
   "language": "python",
   "name": "python3"
  },
  "language_info": {
   "codemirror_mode": {
    "name": "ipython",
    "version": 3
   },
   "file_extension": ".py",
   "mimetype": "text/x-python",
   "name": "python",
   "nbconvert_exporter": "python",
   "pygments_lexer": "ipython3",
   "version": "3.8.8"
  }
 },
 "nbformat": 4,
 "nbformat_minor": 5
}
