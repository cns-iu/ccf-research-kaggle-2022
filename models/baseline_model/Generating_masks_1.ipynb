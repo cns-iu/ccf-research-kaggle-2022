{
 "cells": [
  {
   "cell_type": "markdown",
   "id": "f65dbc3d-d7c4-4d1e-ac47-7d43d2daf2c7",
   "metadata": {},
   "source": [
    "Notebook to generate masks from the jsons"
   ]
  },
  {
   "cell_type": "code",
   "execution_count": null,
   "id": "fe856d9a-36b2-4d2f-b94e-22738caf8fad",
   "metadata": {},
   "outputs": [],
   "source": [
    "import json\n",
    "import tifffile\n",
    "import os\n",
    "import numpy as np\n",
    "import pandas as pd\n",
    "import codecs\n",
    "import cv2\n",
    "import matplotlib.pyplot as plt\n",
    "import shutil\n"
   ]
  },
  {
   "cell_type": "code",
   "execution_count": null,
   "id": "037af5d7-20c8-4f72-b55a-933251d984ed",
   "metadata": {},
   "outputs": [],
   "source": [
    "data_basepath = '/N/slate/yashjain/kaggle_data_package/kaggle_data_multiftu/data/' \n",
    "annotation_path = data_basepath + 'annotations/'\n",
    "images_path = data_basepath + 'images/'"
   ]
  },
  {
   "cell_type": "code",
   "execution_count": null,
   "id": "2bd0b81e-b8e3-4b0c-b51f-ac6053f16848",
   "metadata": {},
   "outputs": [],
   "source": [
    "save_path =  data_basepath + 'gftu_dataset_separate'"
   ]
  },
  {
   "cell_type": "code",
   "execution_count": null,
   "id": "e8d1806c-5edc-4a6c-b4e5-5a1b67e4844f",
   "metadata": {},
   "outputs": [],
   "source": [
    "import skimage.io as io\n",
    "def get_mask_from_json(jsn:json,shape=(32768 , 626880)):\n",
    "    \n",
    "    #code from colon deepflash5\n",
    "    \n",
    "    data = json.load(codecs.open(jsn, 'r', 'utf-8-sig'))\n",
    "#json.load(open(jsn).read().decode('utf-8-sig'))\n",
    "    polys = []\n",
    "    for index in range(data.__len__()):\n",
    "        \n",
    "        \n",
    "        \n",
    "        geom = [np.array([x]) for x in data[index]['geometry']['coordinates']]\n",
    "        \n",
    "        for g in geom:\n",
    "            polys.append(g.astype(int))\n",
    "        \n",
    "        \n",
    "            \n",
    "        \n",
    "    mask = np.zeros(shape)\n",
    "    for i in range(len(polys)):\n",
    "        if cv2.contourArea(polys[i].astype(int)) >= 10:\n",
    "            cv2.fillPoly(mask, polys[i], 1)\n",
    "        \n",
    "    return mask\n",
    "\n",
    "    "
   ]
  },
  {
   "cell_type": "markdown",
   "id": "ca490400-a82e-47b7-92ad-a5119c0c53ea",
   "metadata": {},
   "source": [
    "Sample test"
   ]
  },
  {
   "cell_type": "code",
   "execution_count": null,
   "id": "4ee93609-fb0b-481f-b055-7cb650a1e11c",
   "metadata": {},
   "outputs": [],
   "source": [
    "json_example = annotation_path + '/kidney/10606_32734_A_9_5_kidney.json'\n",
    "image_example = images_path + '/kidney/10606_32734_A_9_5_kidney.tif'"
   ]
  },
  {
   "cell_type": "code",
   "execution_count": null,
   "id": "761e827b-ba59-4df1-9e9a-c5de831d1228",
   "metadata": {},
   "outputs": [],
   "source": [
    "img = tifffile.imread(image_example)\n",
    "mask = get_mask_from_json(json_example,(img.shape[0],img.shape[1]))"
   ]
  },
  {
   "cell_type": "code",
   "execution_count": null,
   "id": "6e6893e7-8c44-4430-abae-4b821a80f4d6",
   "metadata": {},
   "outputs": [],
   "source": [
    "plt.imshow(img)"
   ]
  },
  {
   "cell_type": "code",
   "execution_count": null,
   "id": "d0ac7e70-478a-421a-afde-f2e9c5f4c88e",
   "metadata": {},
   "outputs": [],
   "source": [
    "plt.imshow(mask)"
   ]
  },
  {
   "cell_type": "markdown",
   "id": "95538b3d-e7e1-49aa-9f95-6c3e392833e3",
   "metadata": {},
   "source": [
    "Logic working fine. Write for the whole dataset"
   ]
  },
  {
   "cell_type": "code",
   "execution_count": null,
   "id": "c8b5ef56-7534-4b50-8dd2-416a06157ef4",
   "metadata": {},
   "outputs": [],
   "source": [
    "for organ in os.listdir(annotation_path):\n",
    "    print(f\"Extracting masks for organ = {organ}\")\n",
    "    if not os.path.isdir(save_path+\"/\"+organ):\n",
    "        os.makedirs(save_path+\"/\"+organ+\"/\"+\"image\")\n",
    "        os.makedirs(save_path+\"/\"+organ+\"/\"+\"mask\")\n",
    "    for annotation_json in os.listdir(annotation_path+\"/\"+organ+\"/\"):\n",
    "        if \".ipynb\" in annotation_json:\n",
    "            continue\n",
    "        try:\n",
    "            shutil.copyfile(images_path+organ+\"/\"+annotation_json.replace(\"json\",\"tif\"),save_path+\"/\"+organ+\"/\"+\"image/\"+annotation_json.replace(\"json\",\"tif\"))\n",
    "            image = tifffile.imread(images_path+\"/\"+organ+\"/\"+annotation_json.replace(\"json\",\"tif\"))\n",
    "            mask = get_mask_from_json(annotation_path+\"/\"+organ+\"/\"+annotation_json,(image.shape[0],image.shape[1]))\n",
    "            tifffile.imwrite(save_path+\"/\"+organ+\"/\"+\"mask/\"+annotation_json.replace(\"json\",\"tif\"),np.uint8(mask*255))\n",
    "        except:\n",
    "            print(images_path+\"/\"+organ+\"/\"+annotation_json.replace(\"json\",\"tif\"))\n",
    "            print(\"file not found\")\n",
    "        \n",
    "        \n",
    "        \n",
    "    \n",
    "    "
   ]
  },
  {
   "cell_type": "markdown",
   "id": "7dd8b534-cd9e-4f66-825b-1d9772e269e9",
   "metadata": {},
   "source": [
    "RLE to png mask"
   ]
  },
  {
   "cell_type": "code",
   "execution_count": null,
   "id": "22438ae3-548c-4d1b-9cd4-da8d066e1dab",
   "metadata": {},
   "outputs": [],
   "source": [
    "import pandas as pd\n",
    "import tifffile\n",
    "from PIL import Image\n",
    "\n",
    "def rle2mask(rle, shape):\n",
    "    '''\n",
    "    mask_rle: run-length as string formatted (start length)\n",
    "    shape: (height, width) of array to return \n",
    "    Returns numpy array <- 1(mask), 0(background)\n",
    "    '''\n",
    "    s = rle.split()\n",
    "    starts, lengths = [np.asarray(x, dtype=int) for x in (s[0:][::2], s[1:][::2])]\n",
    "    starts -= 1\n",
    "    ends = starts + lengths\n",
    "    img = np.zeros(shape[0]*shape[1], dtype=np.uint8)\n",
    "    for lo, hi in zip(starts, ends):\n",
    "        img[lo:hi] = 1\n",
    "    return img.reshape(shape, order='F')\n",
    "\n",
    "\n",
    "image_dir = \"gftu_dataset/train/\"\n",
    "result_csv = pd.read_csv(\"complete_dataset_rle.csv\")\n",
    "\n",
    "#reading image name and rle from the csv\n",
    "image_index_in_csv = 10\n",
    "\n",
    "im_file_name,rle = result_csv.iloc[image_index_in_csv,0],result_csv.iloc[image_index_in_csv,1]\n",
    "\n",
    "#deriving image shape for the rle\n",
    "img_shape = tifffile.imread(image_dir+im_file_name).shape\n",
    "\n",
    "#rle to mask conversion\n",
    "mask = rle2mask(rle,(img_shape[0],img_shape[1]))\n",
    "\n",
    "#comment this if not required\n",
    "plt.imshow(mask)\n",
    "plt.show()\n",
    "\n",
    "#saving masK as png\n",
    "Image.fromarray(mask*255).save(\"test.png\")\n",
    "\n"
   ]
  }
 ],
 "metadata": {
  "kernelspec": {
   "display_name": "Python 3",
   "language": "python",
   "name": "python3"
  },
  "language_info": {
   "codemirror_mode": {
    "name": "ipython",
    "version": 3
   },
   "file_extension": ".py",
   "mimetype": "text/x-python",
   "name": "python",
   "nbconvert_exporter": "python",
   "pygments_lexer": "ipython3",
   "version": "3.8.10 (default, Nov 14 2022, 12:59:47) \n[GCC 9.4.0]"
  },
  "vscode": {
   "interpreter": {
    "hash": "916dbcbb3f70747c44a77c7bcd40155683ae19c65e1c03b4aa3499c5328201f1"
   }
  }
 },
 "nbformat": 4,
 "nbformat_minor": 5
}
