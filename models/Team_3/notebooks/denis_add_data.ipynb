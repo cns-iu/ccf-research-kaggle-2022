{
 "cells": [
  {
   "cell_type": "code",
   "execution_count": null,
   "id": "9d5b3837-cb1b-42c0-81df-8cb2a0c28d12",
   "metadata": {},
   "outputs": [],
   "source": [
    "import os\n",
    "import cv2\n",
    "import tifffile as tifi\n",
    "import pandas as pd\n",
    "import numpy as np\n",
    "import rasterio\n",
    "from glob import glob\n",
    "from tqdm import tqdm\n",
    "from shutil import copyfile\n",
    "\n",
    "from matplotlib import pyplot as plt\n",
    "\n",
    "from code_base.utils.mask import rle_decode, overlay_mask, rle_decode_multichannel_mask, rle_encode_less_memory\n",
    "from code_base.utils.other import imread_rgb\n",
    "from code_base.constants import CLASSES"
   ]
  },
  {
   "cell_type": "markdown",
   "id": "dcf7586f-9edf-4427-ae7e-187ef3b75fee",
   "metadata": {},
   "source": [
    "# Data"
   ]
  },
  {
   "cell_type": "code",
   "execution_count": null,
   "id": "24f3a546-6a1a-4f78-9dbb-f74a16dcb9c7",
   "metadata": {},
   "outputs": [],
   "source": [
    "# row_df = pd.read_pickle(\"/home/vova/data/exps/hubmap_2022/denis_add_data/HuBMAP_Pseudo_2022-08-03 233641.992715.pkl\")\n",
    "# row_df_2 = pd.read_pickle(\"/home/vova/data/exps/hubmap_2022/denis_add_data/HuBMAP_Pseudo_2022-08-06 101623.892094.pkl\")\n",
    "row_df = pd.read_csv(\"/home/vova/data/exps/hubmap_2022/denis_add_data/v2/train.csv\")"
   ]
  },
  {
   "cell_type": "code",
   "execution_count": null,
   "id": "08dc71fe-b5a3-4c7e-830c-8c65cdd0c8ec",
   "metadata": {},
   "outputs": [],
   "source": [
    "# intersection = set(row_df[\"id\"]) & set(row_df_2[\"id\"])\n",
    "# row_df = pd.concat([row_df[~row_df[\"id\"].isin(intersection)], row_df_2], axis=0).reset_index(drop=True)"
   ]
  },
  {
   "cell_type": "code",
   "execution_count": null,
   "id": "8bea9b72-a291-44a8-b047-a9aab6cb90fe",
   "metadata": {
    "tags": []
   },
   "outputs": [],
   "source": [
    "# for item in row_df[\"mask\"]:\n",
    "#     print(np.unique(item))"
   ]
  },
  {
   "cell_type": "code",
   "execution_count": null,
   "id": "8628f3dd-fa41-4b5e-b6ea-cdb20880ce00",
   "metadata": {},
   "outputs": [],
   "source": [
    "# row_df_normalized = {\n",
    "#     \"id\":[],\n",
    "#     \"rle\": [],\n",
    "#     \"organ\": [],\n",
    "#     \"img_width\": [],\n",
    "#     \"img_height\": []\n",
    "# }\n",
    "# for i in range(len(row_df)):\n",
    "#     new_id = os.path.splitext(row_df.iloc[i].id)[0]\n",
    "#     new_im = row_df[\"image\"].iloc[i][0]\n",
    "#     new_mask = row_df[\"mask\"].iloc[i][0]\n",
    "#     new_organ = row_df[\"organ\"].iloc[i]\n",
    "    \n",
    "#     tifi.imwrite(\n",
    "#         f\"/home/vova/data/exps/hubmap_2022/denis_add_data/v2/images/{new_id}.tiff\",\n",
    "#         new_im\n",
    "#     )\n",
    "#     mask_rle = rle_encode_less_memory(new_mask)\n",
    "    \n",
    "#     row_df_normalized[\"id\"].append(new_id)\n",
    "#     row_df_normalized[\"rle\"].append(mask_rle)\n",
    "#     row_df_normalized[\"organ\"].append(new_organ)\n",
    "#     row_df_normalized[\"img_height\"].append(new_im.shape[0])\n",
    "#     row_df_normalized[\"img_width\"].append(new_im.shape[1])\n",
    "# row_df_normalized = pd.DataFrame(row_df_normalized)\n",
    "\n",
    "# row_df_normalized.to_csv(\"/home/vova/data/exps/hubmap_2022/denis_add_data/v2/train.csv\", index=False)"
   ]
  },
  {
   "cell_type": "code",
   "execution_count": null,
   "id": "b170b8c1-b98b-43e3-a547-139269666039",
   "metadata": {},
   "outputs": [],
   "source": [
    "idx = 20\n",
    "\n",
    "img = imread_rgb(\n",
    "    f\"/home/vova/data/exps/hubmap_2022/denis_add_data/v2/images/{row_df.id.iloc[idx]}.tiff\", \n",
    ")\n",
    "mask = rle_decode_multichannel_mask(\n",
    "    None,\n",
    "    row_df.rle.iloc[idx],\n",
    "    (row_df.img_width.iloc[idx], row_df.img_height.iloc[idx]),\n",
    "    one_channel=True\n",
    ")\n",
    "\n",
    "plt.figure(figsize=(20,20))\n",
    "plt.imshow(overlay_mask(img,mask, color_id=1))\n",
    "plt.show()"
   ]
  },
  {
   "cell_type": "code",
   "execution_count": null,
   "id": "a1b1c3e6-634c-4152-a453-d7b5bbb86260",
   "metadata": {},
   "outputs": [],
   "source": [
    "row_df"
   ]
  },
  {
   "cell_type": "markdown",
   "id": "846dd2c0-e1d1-451e-a32a-bdfaa5a9bb38",
   "metadata": {},
   "source": [
    "# V3 (Adding Kidney and Colon)"
   ]
  },
  {
   "cell_type": "code",
   "execution_count": null,
   "id": "d21c75ca-9c8e-4030-9424-2782e1a966e7",
   "metadata": {},
   "outputs": [],
   "source": [
    "df = pd.read_csv(\"/home/vova/data/exps/hubmap_2022/denis_add_data/v2/train.csv\")"
   ]
  },
  {
   "cell_type": "code",
   "execution_count": null,
   "id": "8c308e32-ba9c-45a6-b8d6-e9b89213ea32",
   "metadata": {},
   "outputs": [],
   "source": [
    "df.head()"
   ]
  },
  {
   "cell_type": "code",
   "execution_count": null,
   "id": "b109b4e9-73f4-4a2a-86dc-28b9365d3f5a",
   "metadata": {},
   "outputs": [],
   "source": [
    "all_masks = glob(\"/home/vova/data/exps/hubmap_2022/denis_add_data/kidneycolon/*.png\")"
   ]
  },
  {
   "cell_type": "code",
   "execution_count": null,
   "id": "3ab4af44-e65b-4417-806d-f6d3bc80407a",
   "metadata": {},
   "outputs": [],
   "source": [
    "all_images = (\n",
    "    glob(\"/home/vova/data/exps/hubmap_2022/gtx_colon/images/*.tif\") + \n",
    "    glob(\"/home/vova/data/exps/hubmap_2022/gtx_kidney/images/*.tif\")\n",
    ")"
   ]
  },
  {
   "cell_type": "code",
   "execution_count": null,
   "id": "7289e573-ee85-4134-81c1-a149f1a533b5",
   "metadata": {},
   "outputs": [],
   "source": [
    "# -5 refers to delete `_mask` at the end\n",
    "masks_basenames = [os.path.splitext(os.path.basename(el))[0][:-5] for el in all_masks]\n",
    "images_basenames = [os.path.splitext(os.path.basename(el))[0] for el in all_images]"
   ]
  },
  {
   "cell_type": "code",
   "execution_count": null,
   "id": "e1838f55-7e37-4eac-bfe4-5662038979e3",
   "metadata": {
    "tags": []
   },
   "outputs": [],
   "source": [
    "set(masks_basenames) - set(images_basenames)"
   ]
  },
  {
   "cell_type": "code",
   "execution_count": null,
   "id": "974d84f5-9166-4475-916a-643278614815",
   "metadata": {},
   "outputs": [],
   "source": [
    "set(images_basenames) - set(masks_basenames)"
   ]
  },
  {
   "cell_type": "code",
   "execution_count": null,
   "id": "70c58be6-1e10-4bb6-a7af-92ad9278701f",
   "metadata": {},
   "outputs": [],
   "source": [
    "# row_df_normalized = {\n",
    "#     \"id\":[],\n",
    "#     \"rle\": [],\n",
    "#     \"organ\": [],\n",
    "#     \"img_width\": [],\n",
    "#     \"img_height\": []\n",
    "# }\n",
    "# for image_fname in tqdm(images_basenames):\n",
    "#     new_id = os.path.splitext(os.path.basename(image_fname))[0]\n",
    "#     mask_fname = f\"/home/vova/data/exps/hubmap_2022/denis_add_data/kidneycolon/{new_id}_mask.png\"\n",
    "#     new_organ = \"kidney\" if \"kidney\" in new_id else \"largeintestine\"\n",
    "    \n",
    "#     new_mask = cv2.imread(mask_fname, -1)\n",
    "#     assert len(np.unique(new_mask)) == 2, mask_fname\n",
    "#     mask_rle = rle_encode_less_memory(new_mask > 0.5)\n",
    "    \n",
    "#     row_df_normalized[\"id\"].append(new_id)\n",
    "#     row_df_normalized[\"rle\"].append(mask_rle)\n",
    "#     row_df_normalized[\"organ\"].append(new_organ)\n",
    "#     row_df_normalized[\"img_height\"].append(new_mask.shape[0])\n",
    "#     row_df_normalized[\"img_width\"].append(new_mask.shape[1])\n",
    "# row_df_normalized = pd.DataFrame(row_df_normalized)\n",
    "\n",
    "# df = pd.concat([df,row_df_normalized]).reset_index(drop=True)\n",
    "\n",
    "# df.to_csv(\"/home/vova/data/exps/hubmap_2022/denis_add_data/v3/train.csv\", index=False)"
   ]
  },
  {
   "cell_type": "code",
   "execution_count": null,
   "id": "f4fa49fc-ac51-4fe9-9cbe-095e736def1f",
   "metadata": {},
   "outputs": [],
   "source": [
    "idx = -1\n",
    "\n",
    "img = imread_rgb(\n",
    "    f\"/home/vova/data/exps/hubmap_2022/denis_add_data/v3/images/{df.id.iloc[idx]}.tiff\", \n",
    "    backend=\"tifi\"\n",
    ")\n",
    "mask = rle_decode_multichannel_mask(\n",
    "    None,\n",
    "    df.rle.iloc[idx],\n",
    "    (df.img_width.iloc[idx], df.img_height.iloc[idx]),\n",
    "    one_channel=True\n",
    ")\n",
    "\n",
    "plt.figure(figsize=(20,20))\n",
    "plt.imshow(overlay_mask(img,mask, color_id=1))\n",
    "plt.show()"
   ]
  },
  {
   "cell_type": "code",
   "execution_count": null,
   "id": "3c91fd72-4727-4ae4-8ad7-7c57b91d7a65",
   "metadata": {},
   "outputs": [],
   "source": [
    "df = pd.read_csv(\"/home/vova/data/exps/hubmap_2022/denis_add_data/v3/train.csv\")"
   ]
  },
  {
   "cell_type": "code",
   "execution_count": null,
   "id": "c2fc235e-d778-4bb7-bcc3-fefb2ec29fae",
   "metadata": {},
   "outputs": [],
   "source": [
    "df.shape"
   ]
  },
  {
   "cell_type": "code",
   "execution_count": null,
   "id": "b1565657-d2c6-4c3b-96c9-2c5ea36348e8",
   "metadata": {},
   "outputs": [],
   "source": [
    "len(glob(\"/home/vova/data/exps/hubmap_2022/denis_add_data/v3/images/*.tiff\"))"
   ]
  },
  {
   "cell_type": "markdown",
   "id": "7345ed78-959c-43f2-81c8-429e4991e0c2",
   "metadata": {},
   "source": [
    "# V4 (new data and new Denis algorithm)"
   ]
  },
  {
   "cell_type": "code",
   "execution_count": null,
   "id": "e3b7f129-e55c-4ea3-bdf5-5a3972636760",
   "metadata": {},
   "outputs": [],
   "source": [
    "def define_organ(input):\n",
    "    input_base = os.path.basename(input)\n",
    "    for organ in CLASSES:\n",
    "        if organ in input_base:\n",
    "            return organ\n",
    "    raise RuntimeError(f\"Not found organ for {input}\")"
   ]
  },
  {
   "cell_type": "code",
   "execution_count": null,
   "id": "15802816-64b6-41c4-8171-741e1f9c7d67",
   "metadata": {
    "tags": []
   },
   "outputs": [],
   "source": [
    "# image_pathes = glob(\"/home/vova/data/exps/hubmap_2022/**/*.t*\", recursive=True)\n",
    "image_pathes = (\n",
    "    glob(\"/home/vova/data/exps/hubmap_2022/gtx_*/**/*.t*\", recursive=True) \n",
    "    # glob(\"/home/vova/data/exps/hubmap_2022/domain_adaptation_data/**/*.t*\", recursive=True) \n",
    ")\n",
    "image_base_2_full = {}\n",
    "for el in image_pathes:\n",
    "    base = os.path.splitext(os.path.basename(el))[0]\n",
    "    if base in image_base_2_full:\n",
    "        image_base_2_full[base].append(el)\n",
    "    else:\n",
    "        image_base_2_full[base] = [el]"
   ]
  },
  {
   "cell_type": "code",
   "execution_count": null,
   "id": "41836ec5-8216-4b36-822a-73b290ef8659",
   "metadata": {},
   "outputs": [],
   "source": [
    "mask_pathes = glob(\"/home/vova/data/exps/hubmap_2022/gtx_new_all_organs/masks/*\")\n",
    "mask_base_2_full = {}\n",
    "for el in mask_pathes:\n",
    "    base = os.path.splitext(os.path.basename(el))[0][:-5]\n",
    "    if base in mask_base_2_full:\n",
    "        mask_base_2_full[base].append(el)\n",
    "    else:\n",
    "        mask_base_2_full[base] = [el]"
   ]
  },
  {
   "cell_type": "code",
   "execution_count": null,
   "id": "24e5125c-1eb5-4811-88d6-62d6be2bf23a",
   "metadata": {},
   "outputs": [],
   "source": [
    "v3_pseudo = pd.read_csv(\"/home/vova/data/exps/hubmap_2022/denis_add_data/v3/train.csv\")\n",
    "set(v3_pseudo[\"id\"]) - set(mask_base_2_full.keys())"
   ]
  },
  {
   "cell_type": "code",
   "execution_count": null,
   "id": "af070c76-b38b-4269-9af1-ce3481f1383c",
   "metadata": {},
   "outputs": [],
   "source": [
    "image_full_2_mask_full = {}\n",
    "for el in mask_base_2_full:\n",
    "    if len(mask_base_2_full[el]) > 1:\n",
    "        raise RuntimeError(\"several masks\")\n",
    "    else:\n",
    "        mask_full = mask_base_2_full[el][0]\n",
    "    if el not in image_base_2_full:\n",
    "        print(f\"Missing image {el}\")\n",
    "        continue\n",
    "    # if len(image_base_2_full[el]) > 1:\n",
    "    #     print(f\"several images: {image_base_2_full[el]}\")\n",
    "    #     image_full = image_base_2_full[el][0]\n",
    "    # else:\n",
    "    image_full = image_base_2_full[el][0]\n",
    "    image_full_2_mask_full[image_full] = mask_full"
   ]
  },
  {
   "cell_type": "code",
   "execution_count": null,
   "id": "9f9527b8-c0b7-4126-bcd7-7fdcb4dca983",
   "metadata": {},
   "outputs": [],
   "source": [
    "os.makedirs(\"/home/vova/data/exps/hubmap_2022/denis_add_data/v4\")\n",
    "os.makedirs(\"/home/vova/data/exps/hubmap_2022/denis_add_data/v4/images\")"
   ]
  },
  {
   "cell_type": "code",
   "execution_count": null,
   "id": "645b8708-ef8c-40f0-8cc9-2fc3e8ac5cdb",
   "metadata": {},
   "outputs": [],
   "source": [
    "row_df_normalized = {\n",
    "    \"id\":[],\n",
    "    \"rle\": [],\n",
    "    \"organ\": [],\n",
    "    \"img_width\": [],\n",
    "    \"img_height\": []\n",
    "}\n",
    "for im_name, mask_name in tqdm(image_full_2_mask_full.items()):\n",
    "    new_id = os.path.splitext(os.path.basename(im_name))[0]\n",
    "    new_organ = define_organ(im_name)\n",
    "    \n",
    "    new_mask = cv2.imread(mask_name, -1)\n",
    "    img = imread_rgb(\n",
    "        im_name,\n",
    "        backend=\"tifi\"\n",
    "    )\n",
    "    assert len(np.unique(new_mask)) == 2, mask_fname\n",
    "    if new_mask.shape[:2] != img.shape[:2]:\n",
    "        print(f\"Shape inconsistencey: mask path: {mask_name}. image path: {im_name}\")\n",
    "        print(\"Trying to take another image ...\")\n",
    "        im_name = image_base_2_full[new_id][1]\n",
    "        img = imread_rgb(\n",
    "            im_name,\n",
    "            backend=\"tifi\"\n",
    "        )\n",
    "    assert new_mask.shape[:2] == img.shape[:2], f\"Shape inconsistencey: mask path: {mask_name}. image path: {im_name}\"\n",
    "    mask_rle = rle_encode_less_memory(new_mask > 0.5)\n",
    "    \n",
    "    row_df_normalized[\"id\"].append(new_id)\n",
    "    row_df_normalized[\"rle\"].append(mask_rle)\n",
    "    row_df_normalized[\"organ\"].append(new_organ)\n",
    "    row_df_normalized[\"img_height\"].append(new_mask.shape[0])\n",
    "    row_df_normalized[\"img_width\"].append(new_mask.shape[1])\n",
    "    \n",
    "    copyfile(\n",
    "        im_name,\n",
    "        os.path.join(\"/home/vova/data/exps/hubmap_2022/denis_add_data/v4/images\", os.path.basename(im_name))\n",
    "    )\n",
    "    \n",
    "row_df_normalized = pd.DataFrame(row_df_normalized)"
   ]
  },
  {
   "cell_type": "code",
   "execution_count": null,
   "id": "b0ea5e78-a08d-4e97-92e7-bd7d85c1948d",
   "metadata": {},
   "outputs": [],
   "source": [
    "row_df_normalized"
   ]
  },
  {
   "cell_type": "code",
   "execution_count": null,
   "id": "ef692280-0897-4e48-a8d7-def226b71fdf",
   "metadata": {},
   "outputs": [],
   "source": [
    "row_df_normalized[row_df_normalized[\"organ\"] == CLASSES[1]]"
   ]
  },
  {
   "cell_type": "code",
   "execution_count": null,
   "id": "2786f364-7078-4078-a42f-f7b591fb9c4e",
   "metadata": {},
   "outputs": [],
   "source": [
    "row_df_normalized = pd.read_csv(\"/home/vova/data/exps/hubmap_2022/denis_add_data/v4/train.csv\")"
   ]
  },
  {
   "cell_type": "code",
   "execution_count": null,
   "id": "26c4fcfd-18ce-4981-8cdd-5c54aaef741a",
   "metadata": {},
   "outputs": [],
   "source": [
    "len(row_df_normalized)"
   ]
  },
  {
   "cell_type": "code",
   "execution_count": null,
   "id": "e86f9b2e-e518-4cbf-9bb6-a690f373f10b",
   "metadata": {
    "tags": []
   },
   "outputs": [],
   "source": [
    "idx = 117\n",
    "for idx in range(80,140):\n",
    "    img = imread_rgb(\n",
    "        f\"/home/vova/data/exps/hubmap_2022/denis_add_data/v4/images/{row_df_normalized.id.iloc[idx]}.tif\",\n",
    "        backend=\"tifi\"\n",
    "    )\n",
    "    mask = rle_decode(row_df_normalized.rle.iloc[idx], shape=(row_df_normalized.iloc[idx].img_width, row_df_normalized.iloc[idx].img_height))\n",
    "    # plt.figure(figsize=(10,10))\n",
    "    # plt.title(\"Mask\")\n",
    "    # plt.imshow(mask)\n",
    "    # plt.show()\n",
    "    plt.figure(figsize=(10,10))\n",
    "    plt.title(\"Mask Overlay\")\n",
    "    plt.imshow(overlay_mask(img, mask, color_id=0))\n",
    "    plt.show()"
   ]
  },
  {
   "cell_type": "code",
   "execution_count": null,
   "id": "b6ef4f96-afca-4296-9d6a-e6dce64d6333",
   "metadata": {},
   "outputs": [],
   "source": [
    "# !rm /home/vova/data/exps/hubmap_2022/denis_add_data/v4 -rf"
   ]
  },
  {
   "cell_type": "code",
   "execution_count": null,
   "id": "0e723bbf-3845-4e3d-a220-9f01e90d47a8",
   "metadata": {},
   "outputs": [],
   "source": [
    "# row_df_normalized.to_csv(\"/home/vova/data/exps/hubmap_2022/denis_add_data/v4/train.csv\", index=False)"
   ]
  },
  {
   "cell_type": "code",
   "execution_count": null,
   "id": "3134d594-bf5d-4584-8b9c-91b0787377cd",
   "metadata": {},
   "outputs": [],
   "source": []
  }
 ],
 "metadata": {
  "kernelspec": {
   "display_name": "Python 3 (ipykernel)",
   "language": "python",
   "name": "python3"
  },
  "language_info": {
   "codemirror_mode": {
    "name": "ipython",
    "version": 3
   },
   "file_extension": ".py",
   "mimetype": "text/x-python",
   "name": "python",
   "nbconvert_exporter": "python",
   "pygments_lexer": "ipython3",
   "version": "3.8.8"
  }
 },
 "nbformat": 4,
 "nbformat_minor": 5
}
