{
 "cells": [
  {
   "cell_type": "code",
   "execution_count": null,
   "id": "e642c778",
   "metadata": {
    "papermill": {
     "duration": 14.590998,
     "end_time": "2022-08-12T07:49:11.698590",
     "exception": false,
     "start_time": "2022-08-12T07:48:57.107592",
     "status": "completed"
    },
    "tags": []
   },
   "outputs": [],
   "source": [
    "import os\n",
    "os.environ[\"CUDA_VISIBLE_DEVICES\"]=\"7\"\n",
    "\n",
    "import pandas as pd\n",
    "import numpy as np\n",
    "import seaborn as sns\n",
    "import os\n",
    "import torch\n",
    "import cv2\n",
    "import gc\n",
    "import torchvision\n",
    "import ttach as tta\n",
    "import albumentations as A\n",
    "\n",
    "from glob import glob\n",
    "from tqdm import tqdm\n",
    "from matplotlib import pyplot as plt\n",
    "from itertools import chain\n",
    "from os.path import join as pjoin\n",
    "from copy import deepcopy\n",
    "from albumentations.pytorch import ToTensorV2\n",
    "from PIL import Image\n",
    "\n",
    "from code_base.models import SMPWrapper, TransformerWrapper\n",
    "from code_base.datasets import HubMapDataset\n",
    "from code_base.utils.mask import rle_decode, overlay_mask\n",
    "from code_base.utils.other import imread_rgb\n",
    "from code_base.inference import apply_avarage_weights_on_swa_path, HubMapInference\n",
    "from code_base.constants import CLASSES, PIXEL_SCALE\n",
    "from code_base.utils.metrics import dice_coeff\n",
    "from code_base.models import SegmentationTTAWrapperKwargs"
   ]
  },
  {
   "cell_type": "code",
   "execution_count": null,
   "id": "5f841d6e-8c36-409d-a9dc-1931abd569a2",
   "metadata": {},
   "outputs": [],
   "source": [
    "!nvidia-smi"
   ]
  },
  {
   "cell_type": "markdown",
   "id": "4c99bc5b",
   "metadata": {
    "papermill": {
     "duration": 0.007305,
     "end_time": "2022-08-12T07:49:11.713734",
     "exception": false,
     "start_time": "2022-08-12T07:49:11.706429",
     "status": "completed"
    },
    "tags": []
   },
   "source": [
    "# Config"
   ]
  },
  {
   "cell_type": "code",
   "execution_count": null,
   "id": "67508f67",
   "metadata": {
    "papermill": {
     "duration": 0.027208,
     "end_time": "2022-08-12T07:49:11.822623",
     "exception": false,
     "start_time": "2022-08-12T07:49:11.795415",
     "status": "completed"
    },
    "tags": []
   },
   "outputs": [],
   "source": [
    "print(\"Possible exps:\\n\\n{}\".format(\"\\n\".join(os.listdir(f\"../logdirs/\"))))"
   ]
  },
  {
   "cell_type": "code",
   "execution_count": null,
   "id": "4b5e3848",
   "metadata": {
    "papermill": {
     "duration": 0.052422,
     "end_time": "2022-08-12T07:49:11.882713",
     "exception": false,
     "start_time": "2022-08-12T07:49:11.830291",
     "status": "completed"
    },
    "tags": []
   },
   "outputs": [],
   "source": [
    "EXP_NAME = \"???\"\n",
    "print(\"Possible checkpoints:\\n\\n{}\".format(\"\\n\".join(set([os.path.basename(el) for el in glob(\n",
    "    f\"../logdirs/{EXP_NAME}/*/checkpoints/*.pt*\"\n",
    ") if \"train\" not in os.path.basename(el)]))))"
   ]
  },
  {
   "cell_type": "code",
   "execution_count": null,
   "id": "b9647089",
   "metadata": {
    "papermill": {
     "duration": 0.024636,
     "end_time": "2022-08-12T07:49:11.960141",
     "exception": false,
     "start_time": "2022-08-12T07:49:11.935505",
     "status": "completed"
    },
    "tags": []
   },
   "outputs": [],
   "source": [
    "CONFIG = {\n",
    "    # Main\n",
    "    \"sliding_window_config\": None,\n",
    "#     {\n",
    "#         \"roi_size\": (512, 512),\n",
    "#         \"sw_batch_size\": 16,\n",
    "#         \"overlap\": 0.75,\n",
    "#         \"padding_mode\": \"reflect\"\n",
    "#     },\n",
    "    \"fill_binary_holes\": True,\n",
    "    \"test_tresh\": 0.4,\n",
    "#     {\n",
    "#         'Hubmap': {\n",
    "#             'kidney'        : 0.35,\n",
    "#             'prostate'      : 0.35,\n",
    "#             'largeintestine': 0.35,\n",
    "#             'spleen'        : 0.35,\n",
    "#             'lung'          : 0.075,\n",
    "#         },\n",
    "#         'HPA': {\n",
    "#             'kidney'        : 0.45,\n",
    "#             'prostate'      : 0.45,\n",
    "#             'largeintestine': 0.45,\n",
    "#             'spleen'        : 0.45,\n",
    "#             'lung'          : 0.075,\n",
    "#         },\n",
    "#     },\n",
    "    \"use_amp\": True,\n",
    "    # Class names refers to CLASSES.index\n",
    "    \"min_area\": [\n",
    "        0.001, 0.0005, 0.0001, \n",
    "        0.001, 1e-06\n",
    "    ],\n",
    "    \"is_relative_min_area\": True,\n",
    "    # Data config\n",
    "    \"n_folds\":5,\n",
    "    \"train_data_root\":\"data/hpa/train_images/\",\n",
    "    \"batch_size\": 1,\n",
    "    \"num_workers\": 0,\n",
    "    \"pad_config\": dict(\n",
    "        min_height=None, \n",
    "        min_width=None, \n",
    "        pad_height_divisor=32, \n",
    "        pad_width_divisor=32, \n",
    "    ),\n",
    "    \"use_one_channel_mask\": True,\n",
    "    \"to_rgb\": True,\n",
    "    \"additional_scalers\": {\n",
    "        'prostate': 0.15 * 2,\n",
    "        'spleen': 1 * 2,\n",
    "        'lung': 0.5 * 2,\n",
    "        'kidney': 1 * 2,\n",
    "        'largeintestine': 1 * 2\n",
    "    },\n",
    "    # Model config\n",
    "    \"exp_name\":EXP_NAME,\n",
    "    \"model_class\": SMPWrapper,\n",
    "    \"model_config\": { \n",
    "#         \"backbone_name\": \"timm-efficientnet-b5\",\n",
    "        \"backbone_name\": \"timm-efficientnet-b7\",\n",
    "        # \"num_classes\": len(CLASSES),\n",
    "        \"num_classes\": 1,\n",
    "#         \"arch_name\": \"Unet\",\n",
    "        \"arch_name\": \"UnetPP\",\n",
    "#         \"arch_name\": \"UnetGC\",\n",
    "        # \"arch_name\": \"FPN\",\n",
    "        \"pretrained\":False,\n",
    "#         \"use_slice_idx\": True,\n",
    "#         \"aux_params\": {\"classes\": len(CLASSES)},\n",
    "#         \"return_only_mask\": True\n",
    "        \n",
    "    },\n",
    "    \"tta_transforms\": tta.aliases.d4_transform(),\n",
    "    \"batched_tta\": True,\n",
    "    \"chkp_name\":\"swa_models_valid_dice_score.pt\",\n",
    "    \"swa_checkpoint\": None,\n",
    "    \"distributed_chkp\": True,\n",
    "    \"use_sigmoid\": True,\n",
    "}\n"
   ]
  },
  {
   "cell_type": "code",
   "execution_count": null,
   "id": "3695ddde",
   "metadata": {
    "papermill": {
     "duration": 0.018475,
     "end_time": "2022-08-12T07:49:11.986830",
     "exception": false,
     "start_time": "2022-08-12T07:49:11.968355",
     "status": "completed"
    },
    "tags": []
   },
   "outputs": [],
   "source": [
    "# solo tresh \n",
    "if isinstance(CONFIG[\"test_tresh\"], float):\n",
    "    humbap_tresh = CONFIG[\"test_tresh\"]\n",
    "    hpa_tresh = CONFIG[\"test_tresh\"]\n",
    "# multi tresh\n",
    "elif isinstance(CONFIG[\"test_tresh\"], dict):\n",
    "    humbap_tresh = [CONFIG[\"test_tresh\"][\"Hubmap\"][cls_name] for cls_name in CLASSES]\n",
    "    hpa_tresh = [CONFIG[\"test_tresh\"][\"HPA\"][cls_name] for cls_name in CLASSES]"
   ]
  },
  {
   "cell_type": "code",
   "execution_count": null,
   "id": "2b91b098",
   "metadata": {
    "papermill": {
     "duration": 0.01983,
     "end_time": "2022-08-12T07:49:12.014537",
     "exception": false,
     "start_time": "2022-08-12T07:49:11.994707",
     "status": "completed"
    },
    "tags": []
   },
   "outputs": [],
   "source": [
    "ADITIONAL_MODELS = [\n",
    "    {\n",
    "        \"exp_name\":\"???\",\n",
    "        \"model_config\": {\n",
    "            \"backbone_name\": \"timm-efficientnet-b7\",\n",
    "            \"num_classes\": 1, \n",
    "            \"arch_name\": \"Unet\",\n",
    "            \"pretrained\":False,\n",
    "        },\n",
    "        \"distributed_chkp\": True,\n",
    "        \"chkp_name\":\"swa_models_valid_dice_score.pt\",\n",
    "        \"tta_transforms\": tta.aliases.d4_transform(),\n",
    "        \"batched_tta\": True,\n",
    "    },\n",
    "]\n",
    "\n",
    "# ADITIONAL_MODELS = None"
   ]
  },
  {
   "cell_type": "markdown",
   "id": "5dd9ba06",
   "metadata": {
    "papermill": {
     "duration": 0.007721,
     "end_time": "2022-08-12T07:49:12.030268",
     "exception": false,
     "start_time": "2022-08-12T07:49:12.022547",
     "status": "completed"
    },
    "tags": []
   },
   "source": [
    "# Data"
   ]
  },
  {
   "cell_type": "code",
   "execution_count": null,
   "id": "301455a7-9407-4a86-8db6-6d2c5e24df29",
   "metadata": {},
   "outputs": [],
   "source": [
    "hpa_df = glob(\"data/hpa/hpa_add_prostate/prostate_hpa/prostate_images/*.jpg\")\n",
    "hpa_df = [os.path.splitext(os.path.basename(el))[0] for el in hpa_df]\n",
    "hpa_df = pd.DataFrame({\n",
    "    \"id\": hpa_df,\n",
    "    \"organ\": [\"prostate\"] * len(hpa_df),\n",
    "    \"tissue_thickness\": [4] * len(hpa_df),\n",
    "    \"pixel_size\": [0.4] * len(hpa_df),\n",
    "    \"data_source\": [\"HPA\"] * len(hpa_df),\n",
    "})\n",
    "img_size = [\n",
    "    Image.open(pjoin(\"data/hpa/hpa_add_prostate/prostate_hpa/prostate_images/\", hpa_df.id.iloc[i]) + \".jpg\").size for i in tqdm(range(len(hpa_df)))\n",
    "]\n",
    "hpa_df[\"img_height\"] = [el[1] for el in img_size]\n",
    "hpa_df[\"img_width\"] = [el[0] for el in img_size]\n",
    "hpa_df.head()"
   ]
  },
  {
   "cell_type": "code",
   "execution_count": null,
   "id": "a812f654",
   "metadata": {
    "papermill": {
     "duration": 0.033369,
     "end_time": "2022-08-12T07:49:12.521865",
     "exception": false,
     "start_time": "2022-08-12T07:49:12.488496",
     "status": "completed"
    },
    "tags": []
   },
   "outputs": [],
   "source": [
    "loader_config = {\n",
    "    \"batch_size\": CONFIG[\"batch_size\"],\n",
    "    \"drop_last\": False,\n",
    "    \"shuffle\": False,\n",
    "    \"num_workers\": CONFIG[\"num_workers\"],\n",
    "}\n",
    "hpa_dataset_config = {\n",
    "    \"root\": (\n",
    "        \"data/hpa/hpa_add_prostate/prostate_hpa/prostate_images\"\n",
    "    ),\n",
    "    \"img_size\": None,\n",
    "    \"test_mode\": True,\n",
    "    \"precompute\": False,\n",
    "    \"dynamic_resize_mode\": \"scale_or\",\n",
    "    \"use_one_channel_mask\": CONFIG[\"use_one_channel_mask\"],\n",
    "    \"additional_scalers\": CONFIG.get(\"additional_scalers\", None),\n",
    "    \"to_rgb\": CONFIG[\"to_rgb\"],\n",
    "    \"ext\": \".jpg\",\n",
    "    \"transform\": [\n",
    "        A.PadIfNeeded(\n",
    "            border_mode=4, \n",
    "            value=None, \n",
    "            mask_value=None, \n",
    "            always_apply=True,\n",
    "            **CONFIG[\"pad_config\"]\n",
    "        ),\n",
    "        A.Normalize(), ToTensorV2(transpose_mask=True)\n",
    "    ]\n",
    "}\n",
    "# hubmap_dataset_config = {\n",
    "#     \"root\": \"../input/hubmap-organ-segmentation/test_images/\",\n",
    "#     \"img_size\": None,\n",
    "#     \"test_mode\": True,\n",
    "#     \"precompute\": False,\n",
    "#     \"dynamic_resize_mode\": None,\n",
    "#     \"use_one_channel_mask\": CONFIG[\"use_one_channel_mask\"],\n",
    "#     \"additional_scalers\": CONFIG.get(\"additional_scalers\", None),\n",
    "#     \"to_rgb\": CONFIG[\"to_rgb\"],\n",
    "#     \"transform\": [\n",
    "#         A.PadIfNeeded(\n",
    "#             border_mode=4, \n",
    "#             value=None, \n",
    "#             mask_value=None, \n",
    "#             always_apply=True,\n",
    "#             **CONFIG[\"pad_config\"]\n",
    "#         ),\n",
    "#         A.Normalize(), ToTensorV2(transpose_mask=True)\n",
    "#     ]\n",
    "# }\n",
    "hpa_loader = torch.utils.data.DataLoader(\n",
    "    HubMapDataset(df=hpa_df, **hpa_dataset_config),\n",
    "    **loader_config\n",
    ")\n",
    "# hubmap_loader = torch.utils.data.DataLoader(\n",
    "#     HubMapDataset(df=hubmap_df, **hubmap_dataset_config),\n",
    "#     **loader_config\n",
    "# )"
   ]
  },
  {
   "cell_type": "markdown",
   "id": "08dd8704",
   "metadata": {
    "papermill": {
     "duration": 0.008394,
     "end_time": "2022-08-12T07:49:12.539623",
     "exception": false,
     "start_time": "2022-08-12T07:49:12.531229",
     "status": "completed"
    },
    "tags": []
   },
   "source": [
    "# Model"
   ]
  },
  {
   "cell_type": "code",
   "execution_count": null,
   "id": "15d1a82c",
   "metadata": {
    "papermill": {
     "duration": 0.019689,
     "end_time": "2022-08-12T07:49:12.567928",
     "exception": false,
     "start_time": "2022-08-12T07:49:12.548239",
     "status": "completed"
    },
    "tags": []
   },
   "outputs": [],
   "source": [
    "def set_dropout_zero(model):\n",
    "    for name, child in model.named_children():\n",
    "        if isinstance(child, (torch.nn.Dropout, torch.nn.Dropout2d, torch.nn.Dropout3d)):\n",
    "            child.p = 0.0\n",
    "        set_dropout_zero(child)\n",
    "\n",
    "def create_model_and_upload_chkp(\n",
    "    model_class,\n",
    "    model_config,\n",
    "    model_device,\n",
    "    model_chkp,\n",
    "    use_distributed=False,\n",
    "    swa_checkpoint=None,\n",
    "    tta_transform=None,\n",
    "    tta_merge_mode=\"mean\",\n",
    "    batched_tta=False,\n",
    "    instance_norm_mode=False\n",
    "):\n",
    "    if \"swa\" in model_chkp:\n",
    "        print(\"swa by {}\".format(os.path.splitext(os.path.basename(model_chkp))[0]))\n",
    "        t_chkp = apply_avarage_weights_on_swa_path(model_chkp, use_distributed=use_distributed, take_best=swa_checkpoint)\n",
    "    else:\n",
    "        print(\"vanilla model\")\n",
    "        t_chkp = torch.load(model_chkp, map_location=\"cpu\")\n",
    "        \n",
    "    t_model = model_class(**model_config, device=model_device)\n",
    "    t_model.load_state_dict(t_chkp)\n",
    "    if instance_norm_mode:\n",
    "        t_model.train()\n",
    "        set_dropout_zero(t_model)\n",
    "    else:\n",
    "        t_model.eval()\n",
    "    if tta_transform is not None:\n",
    "        print(\"Wrapping model in TTA\")\n",
    "        t_model = SegmentationTTAWrapperKwargs(t_model, tta_transform, merge_mode=tta_merge_mode)\n",
    "    return t_model"
   ]
  },
  {
   "cell_type": "code",
   "execution_count": null,
   "id": "8b00d033",
   "metadata": {
    "papermill": {
     "duration": 53.35029,
     "end_time": "2022-08-12T07:50:05.926497",
     "exception": false,
     "start_time": "2022-08-12T07:49:12.576207",
     "status": "completed"
    },
    "tags": []
   },
   "outputs": [],
   "source": [
    "model = [create_model_and_upload_chkp(\n",
    "        model_class=CONFIG[\"model_class\"],\n",
    "        model_config=CONFIG['model_config'],\n",
    "        model_device=\"cuda\",\n",
    "        model_chkp=f\"../logdirs/{EXP_NAME}/fold_{m_i}/checkpoints/{CONFIG['chkp_name']}\",\n",
    "        swa_checkpoint=CONFIG['swa_checkpoint'],\n",
    "        use_distributed=CONFIG['distributed_chkp'],\n",
    "        tta_transform=CONFIG.get(\"tta_transforms\", None),\n",
    "        batched_tta=CONFIG.get(\"batched_tta\", False)\n",
    ") for m_i in range(CONFIG[\"n_folds\"])]"
   ]
  },
  {
   "cell_type": "code",
   "execution_count": null,
   "id": "7ba4d853",
   "metadata": {
    "papermill": {
     "duration": 68.311149,
     "end_time": "2022-08-12T07:51:14.247270",
     "exception": false,
     "start_time": "2022-08-12T07:50:05.936121",
     "status": "completed"
    },
    "tags": []
   },
   "outputs": [],
   "source": [
    "if ADITIONAL_MODELS is not None:\n",
    "    for add_conf in ADITIONAL_MODELS:\n",
    "        model += [create_model_and_upload_chkp(\n",
    "                model_class=CONFIG[\"model_class\"],\n",
    "                model_config=add_conf['model_config'],\n",
    "                model_device=\"cuda\",\n",
    "                model_chkp=f\"../logdirs/{add_conf['exp_name']}/fold_{m_i}/checkpoints/{add_conf['chkp_name']}\",\n",
    "                swa_checkpoint=CONFIG['swa_checkpoint'],\n",
    "                use_distributed=add_conf['distributed_chkp'],\n",
    "                tta_transform=add_conf.get(\"tta_transforms\", None),\n",
    "                batched_tta=add_conf.get(\"batched_tta\", False)\n",
    "        ) for m_i in range(CONFIG[\"n_folds\"])]\n"
   ]
  },
  {
   "cell_type": "code",
   "execution_count": null,
   "id": "9c716050",
   "metadata": {
    "papermill": {
     "duration": 0.303255,
     "end_time": "2022-08-12T07:51:14.563084",
     "exception": false,
     "start_time": "2022-08-12T07:51:14.259829",
     "status": "completed"
    },
    "tags": []
   },
   "outputs": [],
   "source": [
    "print(f\"Total models in Blend = {len(model)}\")\n",
    "gc.collect()"
   ]
  },
  {
   "cell_type": "markdown",
   "id": "462819dc",
   "metadata": {
    "papermill": {
     "duration": 0.010999,
     "end_time": "2022-08-12T07:51:14.585691",
     "exception": false,
     "start_time": "2022-08-12T07:51:14.574692",
     "status": "completed"
    },
    "tags": []
   },
   "source": [
    "# Inference"
   ]
  },
  {
   "cell_type": "code",
   "execution_count": null,
   "id": "b34a8826",
   "metadata": {
    "papermill": {
     "duration": 0.022138,
     "end_time": "2022-08-12T07:51:14.619500",
     "exception": false,
     "start_time": "2022-08-12T07:51:14.597362",
     "status": "completed"
    },
    "tags": []
   },
   "outputs": [],
   "source": [
    "inference_class = HubMapInference(\n",
    "    device=\"cuda\",\n",
    "    verbose=True,\n",
    "    verbose_tqdm=True,\n",
    "    use_sigmoid=CONFIG[\"use_sigmoid\"],\n",
    "    use_amp=CONFIG[\"use_amp\"]\n",
    ")"
   ]
  },
  {
   "cell_type": "code",
   "execution_count": null,
   "id": "2a56bc8e",
   "metadata": {
    "papermill": {
     "duration": 9.34434,
     "end_time": "2022-08-12T07:51:23.974494",
     "exception": false,
     "start_time": "2022-08-12T07:51:14.630154",
     "status": "completed"
    },
    "tags": []
   },
   "outputs": [],
   "source": [
    "# hubmap_test_pred = inference_class.predict_test_loader(\n",
    "#     nn_models=model,\n",
    "#     test_loader=hubmap_loader,\n",
    "#     tresh=humbap_tresh,\n",
    "#     pad_config=CONFIG[\"pad_config\"],\n",
    "#     min_area=CONFIG.get(\"min_area\", None),\n",
    "#     is_relative_min_area=CONFIG.get(\"is_relative_min_area\", False),\n",
    "#     # For HubMap we do not need to resize something. Just crop padding (to X32)\n",
    "#     # In case of additional_scalers we have to rescale\n",
    "#     use_rescaled=CONFIG.get(\"additional_scalers\", None) is not None,\n",
    "#     scale_back=CONFIG.get(\"additional_scalers\", None) is not None,\n",
    "#     fill_binary_holes=CONFIG[\"fill_binary_holes\"],\n",
    "#     sliding_window_config=CONFIG[\"sliding_window_config\"],\n",
    "#     print_input_shape=True\n",
    "# )"
   ]
  },
  {
   "cell_type": "code",
   "execution_count": null,
   "id": "8cac2d7d",
   "metadata": {
    "papermill": {
     "duration": 75.640031,
     "end_time": "2022-08-12T07:52:39.626298",
     "exception": false,
     "start_time": "2022-08-12T07:51:23.986267",
     "status": "completed"
    },
    "tags": []
   },
   "outputs": [],
   "source": [
    "hpa_test_pred = inference_class.predict_test_loader(\n",
    "    nn_models=model,\n",
    "    test_loader=hpa_loader,\n",
    "    tresh=hpa_tresh,\n",
    "    pad_config=CONFIG[\"pad_config\"],\n",
    "    min_area=CONFIG.get(\"min_area\", None),\n",
    "    is_relative_min_area=CONFIG.get(\"is_relative_min_area\", False),\n",
    "    # For HPA we have to crop padding (to X32) in rescaled domain and then scale back to original sizes\n",
    "    use_rescaled=True,\n",
    "    scale_back=True,\n",
    "    fill_binary_holes=CONFIG[\"fill_binary_holes\"],\n",
    "    sliding_window_config=CONFIG[\"sliding_window_config\"],\n",
    "    print_input_shape=False,\n",
    "    mean_type=CONFIG.get(\"mean_type\", \"mean\"),\n",
    "    save_mask_path=\"data/hpa/hpa_add_prostate/ensem_083\"\n",
    ")"
   ]
  },
  {
   "cell_type": "code",
   "execution_count": null,
   "id": "7820cc63-f0c2-48c8-80f2-cccc17287405",
   "metadata": {},
   "outputs": [],
   "source": [
    "hpa_test_pred = hpa_df.merge(hpa_test_pred[[\"id\", \"rle\"]], on=\"id\")\n",
    "hpa_test_pred"
   ]
  },
  {
   "cell_type": "code",
   "execution_count": null,
   "id": "837028c0-b7c5-47d8-a7e4-58829b5dfecf",
   "metadata": {},
   "outputs": [],
   "source": [
    "hpa_test_pred.to_csv(\"data/hpa/hpa_add_prostate/ensem_083.csv\", index=False)"
   ]
  },
  {
   "cell_type": "markdown",
   "id": "2ea29a68",
   "metadata": {
    "papermill": {
     "duration": 0.01316,
     "end_time": "2022-08-12T07:52:39.653210",
     "exception": false,
     "start_time": "2022-08-12T07:52:39.640050",
     "status": "completed"
    },
    "tags": []
   },
   "source": [
    "# Visualise"
   ]
  },
  {
   "cell_type": "code",
   "execution_count": null,
   "id": "ac577b7b",
   "metadata": {
    "papermill": {
     "duration": 1.653457,
     "end_time": "2022-08-12T07:52:41.423345",
     "exception": false,
     "start_time": "2022-08-12T07:52:39.769888",
     "status": "completed"
    },
    "tags": []
   },
   "outputs": [],
   "source": [
    "idx = 6000\n",
    "\n",
    "img = imread_rgb(\n",
    "    f\"data/hpa/hpa_add_prostate/prostate_hpa/prostate_images/{hpa_test_pred.id.iloc[idx]}.jpg\"\n",
    ")\n",
    "mask = rle_decode(hpa_test_pred.rle.iloc[idx], shape=(hpa_test_pred.iloc[idx].img_width, hpa_test_pred.iloc[idx].img_height))\n",
    "plt.figure(figsize=(10,10))\n",
    "plt.title(\"Mask\")\n",
    "plt.imshow(mask)\n",
    "plt.show()\n",
    "plt.figure(figsize=(10,10))\n",
    "plt.title(\"Mask Overlay\")\n",
    "plt.imshow(overlay_mask(img, mask, color_id=0))\n",
    "plt.show()"
   ]
  },
  {
   "cell_type": "code",
   "execution_count": null,
   "id": "e1a11823",
   "metadata": {
    "papermill": {
     "duration": 0.030835,
     "end_time": "2022-08-12T07:52:41.565580",
     "exception": false,
     "start_time": "2022-08-12T07:52:41.534745",
     "status": "completed"
    },
    "tags": []
   },
   "outputs": [],
   "source": []
  }
 ],
 "metadata": {
  "kernelspec": {
   "display_name": "Python 3 (ipykernel)",
   "language": "python",
   "name": "python3"
  },
  "language_info": {
   "codemirror_mode": {
    "name": "ipython",
    "version": 3
   },
   "file_extension": ".py",
   "mimetype": "text/x-python",
   "name": "python",
   "nbconvert_exporter": "python",
   "pygments_lexer": "ipython3",
   "version": "3.8.8"
  },
  "papermill": {
   "default_parameters": {},
   "duration": 237.833938,
   "end_time": "2022-08-12T07:52:44.984964",
   "environment_variables": {},
   "exception": null,
   "input_path": "__notebook__.ipynb",
   "output_path": "__notebook__.ipynb",
   "parameters": {},
   "start_time": "2022-08-12T07:48:47.151026",
   "version": "2.3.4"
  }
 },
 "nbformat": 4,
 "nbformat_minor": 5
}
