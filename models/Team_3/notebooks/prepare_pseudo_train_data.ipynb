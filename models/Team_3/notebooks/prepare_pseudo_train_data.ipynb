{
 "cells": [
  {
   "cell_type": "code",
   "execution_count": null,
   "id": "9cc01df1-577b-489f-a161-ed6e8d36c696",
   "metadata": {},
   "outputs": [],
   "source": [
    "import pandas as pd\n",
    "import numpy as np\n",
    "import os\n",
    "\n",
    "from glob import glob\n",
    "from shutil import copyfile\n",
    "from tqdm import tqdm\n",
    "\n",
    "from code_base.constants import CLASSES"
   ]
  },
  {
   "cell_type": "markdown",
   "id": "1cf21e7a-e903-40ad-82fe-f065b00f2c95",
   "metadata": {},
   "source": [
    "# Data"
   ]
  },
  {
   "cell_type": "markdown",
   "id": "489cdf7c-efc8-45b0-a855-4f5bcc111105",
   "metadata": {},
   "source": [
    "## V1"
   ]
  },
  {
   "cell_type": "code",
   "execution_count": null,
   "id": "678c2be4-b43e-454d-ba65-d387274087c0",
   "metadata": {},
   "outputs": [],
   "source": [
    "df_spleen = pd.read_csv(\"data/hpa/hpa_add_spleen/ensem_082.csv\")\n",
    "df_lungs = pd.read_csv(\"data/hpa/hpa_add_lungs/ensem_082.csv\")\n",
    "df_corrected_lungs = pd.read_csv(\"data/hpa/hpa_corrected_lungs/ensem_082.csv\")\n",
    "\n",
    "dups = pd.read_csv(\"data/hpa/train_with_lungs_prostate_spleen_dups.csv\")"
   ]
  },
  {
   "cell_type": "code",
   "execution_count": null,
   "id": "d30c2a6c-a868-4416-8288-8584b0fee2cf",
   "metadata": {},
   "outputs": [],
   "source": [
    "dup_ids = [os.path.splitext(el)[0] for el in dups.loc[~dups.duplicates.isna(), \"duplicates\"].to_list()]\n",
    "\n",
    "df_spleen = df_spleen[~df_spleen.id.isin(dup_ids)].reset_index(drop=True)\n",
    "df_lungs = df_lungs[~df_lungs.id.isin(dup_ids)].reset_index(drop=True)\n",
    "\n",
    "df_spleen[\"id\"] = df_spleen[\"id\"].astype(str) + \".jpg\"\n",
    "df_lungs[\"id\"] = df_lungs[\"id\"].astype(str) + \".jpg\"\n",
    "df_corrected_lungs[\"id\"] = df_corrected_lungs[\"id\"].astype(str) + \".tiff\""
   ]
  },
  {
   "cell_type": "code",
   "execution_count": null,
   "id": "2c42cac6-8696-46dc-854f-0a99c6a2edbd",
   "metadata": {},
   "outputs": [],
   "source": [
    "all_pseudo_images_pathes = (\n",
    "    glob(\"data/hpa/hpa_add_spleen/spleen_images/*.jpg\") + \n",
    "    glob(\"data/hpa/hpa_add_lungs/lung_images/*.jpg\") +\n",
    "    glob(\"data/hpa/hpa_corrected_lungs/images/*.tiff\")\n",
    ")\n",
    "assert len(all_pseudo_images_pathes) == len(set([os.path.basename(el) for el in all_pseudo_images_pathes]))\n",
    "print(f\"{len(all_pseudo_images_pathes)} images found in the folders\")"
   ]
  },
  {
   "cell_type": "code",
   "execution_count": null,
   "id": "27c3cb97-8f51-4052-9bf4-bb5cee5da4a8",
   "metadata": {},
   "outputs": [],
   "source": [
    "new_root = \"data/hpa/hpa_add/images\"\n",
    "os.makedirs(new_root)\n",
    "for path in tqdm(all_pseudo_images_pathes):\n",
    "    copyfile(\n",
    "        path,\n",
    "        os.path.join(new_root, os.path.basename(path))\n",
    "    )"
   ]
  },
  {
   "cell_type": "code",
   "execution_count": null,
   "id": "7452ffc8-9652-421f-953a-7cfb2ab4dd7d",
   "metadata": {},
   "outputs": [],
   "source": [
    "df_spleen = df_spleen[~df_spleen.rle.isna()].reset_index(drop=True)\n",
    "df_lungs = df_lungs[~df_lungs.rle.isna()].reset_index(drop=True)\n",
    "df_corrected_lungs = df_corrected_lungs[~df_corrected_lungs.rle.isna()].reset_index(drop=True)\n",
    "\n",
    "pseudo_df = pd.concat([df_spleen, df_lungs, df_corrected_lungs]).reset_index(drop=True)"
   ]
  },
  {
   "cell_type": "code",
   "execution_count": null,
   "id": "87eae61f-0696-4b4c-8926-bf2394d64b2a",
   "metadata": {},
   "outputs": [],
   "source": [
    "pseudo_df"
   ]
  },
  {
   "cell_type": "code",
   "execution_count": null,
   "id": "72bdac8b-2746-4d19-a246-d205c9399770",
   "metadata": {},
   "outputs": [],
   "source": [
    "pseudo_df"
   ]
  },
  {
   "cell_type": "code",
   "execution_count": null,
   "id": "d26adec4-cf85-477b-b34a-cff9fa7420c8",
   "metadata": {},
   "outputs": [],
   "source": [
    "pseudo_df.to_csv(\"data/hpa/hpa_add/v1.csv\", index=False)"
   ]
  },
  {
   "cell_type": "markdown",
   "id": "9cb30201-11b5-45e1-883b-7f3e356c8aa9",
   "metadata": {},
   "source": [
    "## V2"
   ]
  },
  {
   "cell_type": "code",
   "execution_count": null,
   "id": "32f649ba-9c45-4d69-804b-bca3e32da44e",
   "metadata": {},
   "outputs": [],
   "source": [
    "pseudo_df = pd.read_csv(\"data/hpa/hpa_add/v1.csv\")\n",
    "pseudo_df"
   ]
  },
  {
   "cell_type": "code",
   "execution_count": null,
   "id": "be4f9582-0a01-4b28-9fa2-85766435cc3f",
   "metadata": {},
   "outputs": [],
   "source": [
    "CLASSES"
   ]
  },
  {
   "cell_type": "code",
   "execution_count": null,
   "id": "afca9571-92f3-4e40-98ed-41eb6f16c646",
   "metadata": {},
   "outputs": [],
   "source": [
    "df_largeintestine = pd.read_csv(\"data/hpa/hpa_add_colon/ensem_082.csv\")\n",
    "df_kidney = pd.read_csv(\"data/hpa/hpa_add_kidney/ensem_082.csv\")\n",
    "df_prostate = pd.read_csv(\"data/hpa/hpa_add_prostate/ensem_082.csv\")\n",
    "\n",
    "dups = pd.read_csv(\"train_with_lungs_prostate_spleen_colon_kidney_dups.csv\")"
   ]
  },
  {
   "cell_type": "code",
   "execution_count": null,
   "id": "172d2aaf-f7f3-4604-b336-043eceb31cb3",
   "metadata": {},
   "outputs": [],
   "source": [
    "dup_ids = [os.path.splitext(el)[0] for el in dups.loc[~dups.duplicates.isna(), \"duplicates\"].to_list()]"
   ]
  },
  {
   "cell_type": "code",
   "execution_count": null,
   "id": "1af478eb-ab45-4555-a0db-a5273a1b4fd5",
   "metadata": {},
   "outputs": [],
   "source": [
    "df_largeintestine = df_largeintestine[~df_largeintestine.id.isin(dup_ids)].reset_index(drop=True)\n",
    "df_largeintestine = df_largeintestine[~(df_largeintestine.rle.isna() | (df_largeintestine.rle == \"\"))].reset_index(drop=True)\n",
    "\n",
    "df_kidney = df_kidney[~df_kidney.id.isin(dup_ids)].reset_index(drop=True)\n",
    "df_kidney = df_kidney[~(df_kidney.rle.isna() | (df_kidney.rle == \"\"))].reset_index(drop=True)\n",
    "\n",
    "df_prostate = df_prostate[~df_prostate.id.isin(dup_ids)].reset_index(drop=True)\n",
    "df_prostate = df_prostate[~(df_prostate.rle.isna() | (df_prostate.rle == \"\"))].reset_index(drop=True)\n",
    "\n",
    "df_largeintestine[\"id\"] = df_largeintestine[\"id\"].astype(str) + \".jpg\"\n",
    "df_kidney[\"id\"] = df_kidney[\"id\"].astype(str) + \".jpg\"\n",
    "df_prostate[\"id\"] = df_prostate[\"id\"].astype(str) + \".jpg\""
   ]
  },
  {
   "cell_type": "code",
   "execution_count": null,
   "id": "de8d2493-252d-4763-9e5f-65f58bb08d9f",
   "metadata": {},
   "outputs": [],
   "source": [
    "all_pseudo_images_pathes = (\n",
    "    glob(\"data/hpa/hpa_add_colon/colon_images/*.jpg\") + \n",
    "    glob(\"data/hpa/hpa_add_kidney/kidney_images/*.jpg\") +\n",
    "    glob(\"data/hpa/hpa_add_prostate/prostate_hpa/prostate_images/*.jpg\")\n",
    ")\n",
    "assert len(all_pseudo_images_pathes) == len(set([os.path.basename(el) for el in all_pseudo_images_pathes]))\n",
    "print(f\"{len(all_pseudo_images_pathes)} images found in the folders\")"
   ]
  },
  {
   "cell_type": "code",
   "execution_count": null,
   "id": "207512c7-fdfc-4931-9d83-e3d394e833d7",
   "metadata": {},
   "outputs": [],
   "source": [
    "new_root = \"data/hpa/hpa_add/v2/\"\n",
    "for path in tqdm(all_pseudo_images_pathes):\n",
    "    copyfile(\n",
    "        path,\n",
    "        os.path.join(new_root, os.path.basename(path))\n",
    "    )"
   ]
  },
  {
   "cell_type": "code",
   "execution_count": null,
   "id": "90c9a7f4-d1be-4ed0-8c55-79339e3817d0",
   "metadata": {},
   "outputs": [],
   "source": [
    "pseudo_df = pd.concat([pseudo_df, df_largeintestine, df_kidney, df_prostate]).reset_index(drop=True)"
   ]
  },
  {
   "cell_type": "code",
   "execution_count": null,
   "id": "01c415ad-c87a-4872-bdae-837a19e2ae3e",
   "metadata": {},
   "outputs": [],
   "source": [
    "pseudo_df.to_csv(\"data/hpa/hpa_add/v2.csv\", index=False)"
   ]
  },
  {
   "cell_type": "markdown",
   "id": "4aa9a640-1e13-4300-a8fd-236ee841315b",
   "metadata": {},
   "source": [
    "# V3 (and v3 full)"
   ]
  },
  {
   "cell_type": "code",
   "execution_count": null,
   "id": "9294a497-ba38-44d0-ab13-441aa6aad94d",
   "metadata": {},
   "outputs": [],
   "source": [
    "df_largeintestine = pd.read_csv(\"data/hpa/hpa_add_colon/ensem_083_full.csv\")\n",
    "df_kidney = pd.read_csv(\"data/hpa/hpa_add_kidney/ensem_083.csv\")\n",
    "df_prostate = pd.read_csv(\"data/hpa/hpa_add_prostate/ensem_083.csv\")\n",
    "df_spleen = pd.read_csv(\"data/hpa/hpa_add_spleen/ensem_083.csv\")\n",
    "df_lungs = pd.read_csv(\"data/hpa/hpa_add_lungs/ensem_083.csv\")\n",
    "df_corrected_lungs = pd.read_csv(\"data/hpa/hpa_corrected_lungs/ensem_083.csv\")\n",
    "\n",
    "dups = pd.read_csv(\"data/hpa/train_with_lungs_prostate_spleen_colon_kidney_dups.csv\")\n",
    "dup_ids = [os.path.splitext(el)[0] for el in dups.loc[~dups.duplicates.isna(), \"duplicates\"].to_list()]"
   ]
  },
  {
   "cell_type": "code",
   "execution_count": null,
   "id": "ad25c4cb-5f71-45e4-add3-b0d8316ada16",
   "metadata": {},
   "outputs": [],
   "source": [
    "df_largeintestine = df_largeintestine[~df_largeintestine.id.isin(dup_ids)].reset_index(drop=True)\n",
    "df_largeintestine = df_largeintestine[~(df_largeintestine.rle.isna() | (df_largeintestine.rle == \"\"))].reset_index(drop=True)\n",
    "\n",
    "df_kidney = df_kidney[~df_kidney.id.isin(dup_ids)].reset_index(drop=True)\n",
    "df_kidney = df_kidney[~(df_kidney.rle.isna() | (df_kidney.rle == \"\"))].reset_index(drop=True)\n",
    "\n",
    "df_prostate = df_prostate[~df_prostate.id.isin(dup_ids)].reset_index(drop=True)\n",
    "df_prostate = df_prostate[~(df_prostate.rle.isna() | (df_prostate.rle == \"\"))].reset_index(drop=True)\n",
    "\n",
    "df_spleen = df_spleen[~df_spleen.id.isin(dup_ids)].reset_index(drop=True)\n",
    "df_spleen = df_spleen[~(df_spleen.rle.isna() | (df_spleen.rle == \"\"))].reset_index(drop=True)\n",
    "\n",
    "df_lungs = df_lungs[~df_lungs.id.isin(dup_ids)].reset_index(drop=True)\n",
    "df_lungs = df_lungs[~(df_lungs.rle.isna() | (df_lungs.rle == \"\"))].reset_index(drop=True)\n",
    "\n",
    "df_corrected_lungs = df_corrected_lungs[~df_corrected_lungs.id.isin(dup_ids)].reset_index(drop=True)\n",
    "df_corrected_lungs = df_corrected_lungs[~(df_corrected_lungs.rle.isna() | (df_corrected_lungs.rle == \"\"))].reset_index(drop=True)\n",
    "\n",
    "df_largeintestine[\"id\"] = df_largeintestine[\"id\"].astype(str) + \".jpg\"\n",
    "df_kidney[\"id\"] = df_kidney[\"id\"].astype(str) + \".jpg\"\n",
    "df_prostate[\"id\"] = df_prostate[\"id\"].astype(str) + \".jpg\"\n",
    "df_spleen[\"id\"] = df_spleen[\"id\"].astype(str) + \".jpg\"\n",
    "df_lungs[\"id\"] = df_lungs[\"id\"].astype(str) + \".jpg\"\n",
    "df_corrected_lungs[\"id\"] = df_corrected_lungs[\"id\"].astype(str) + \".tiff\""
   ]
  },
  {
   "cell_type": "code",
   "execution_count": null,
   "id": "4c2193be-8a4f-4833-99e5-01f88647f071",
   "metadata": {},
   "outputs": [],
   "source": [
    "pseudo_df = pd.concat([\n",
    "    df_largeintestine, \n",
    "    df_kidney, \n",
    "    df_prostate, \n",
    "    df_spleen,\n",
    "    df_lungs,\n",
    "    df_corrected_lungs\n",
    "]).reset_index(drop=True)"
   ]
  },
  {
   "cell_type": "code",
   "execution_count": null,
   "id": "8c2f0d3e-405e-464e-ade8-64a1105f0b80",
   "metadata": {},
   "outputs": [],
   "source": [
    "pseudo_df.shape"
   ]
  },
  {
   "cell_type": "code",
   "execution_count": null,
   "id": "af36ed0d-9f13-42d5-8052-250977f605e4",
   "metadata": {},
   "outputs": [],
   "source": [
    "pseudo_df.to_csv(\"data/hpa/hpa_add/v3_full.csv\", index=False)"
   ]
  },
  {
   "cell_type": "code",
   "execution_count": null,
   "id": "37f0e75f-3973-4945-a26d-a99942aba7b9",
   "metadata": {},
   "outputs": [],
   "source": []
  }
 ],
 "metadata": {
  "kernelspec": {
   "display_name": "Python 3 (ipykernel)",
   "language": "python",
   "name": "python3"
  },
  "language_info": {
   "codemirror_mode": {
    "name": "ipython",
    "version": 3
   },
   "file_extension": ".py",
   "mimetype": "text/x-python",
   "name": "python",
   "nbconvert_exporter": "python",
   "pygments_lexer": "ipython3",
   "version": "3.8.8"
  }
 },
 "nbformat": 4,
 "nbformat_minor": 5
}
