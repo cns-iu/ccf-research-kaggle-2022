{
 "cells": [
  {
   "cell_type": "code",
   "execution_count": 1,
   "metadata": {},
   "outputs": [],
   "source": [
    "#import packages\n",
    "\n",
    "import os\n",
    "import glob\n",
    "import pandas as pd\n",
    "import numpy as np"
   ]
  },
  {
   "cell_type": "code",
   "execution_count": 2,
   "metadata": {},
   "outputs": [
    {
     "name": "stdout",
     "output_type": "stream",
     "text": [
      "['TeamMemberships.csv', 'Competitions.csv', 'ForumMessageVotes.csv', 'Teams.csv', 'Datasets.csv', 'ForumMessages.csv', 'Users.csv', 'ForumTopics.csv', 'Forums.csv', 'ForumMessagesForTopTopics.csv', 'Submissions.csv', 'KernelVersionCompetitionSources.csv', 'Kernels.csv', 'targetKernels.csv'] 14\n"
     ]
    }
   ],
   "source": [
    "#set base directory and point to files\n",
    "BASE = \"/Users/adarsh_23/CNS/Envisioning-Kaggle-main/Metadata\"\n",
    "extension = 'csv'\n",
    "os.chdir(BASE)\n",
    "meta_files = glob.glob('*.{}'.format(extension))\n",
    "print(meta_files, len(meta_files))"
   ]
  },
  {
   "cell_type": "code",
   "execution_count": 3,
   "metadata": {},
   "outputs": [
    {
     "data": {
      "text/html": [
       "<div>\n",
       "<style scoped>\n",
       "    .dataframe tbody tr th:only-of-type {\n",
       "        vertical-align: middle;\n",
       "    }\n",
       "\n",
       "    .dataframe tbody tr th {\n",
       "        vertical-align: top;\n",
       "    }\n",
       "\n",
       "    .dataframe thead th {\n",
       "        text-align: right;\n",
       "    }\n",
       "</style>\n",
       "<table border=\"1\" class=\"dataframe\">\n",
       "  <thead>\n",
       "    <tr style=\"text-align: right;\">\n",
       "      <th></th>\n",
       "      <th>Id</th>\n",
       "      <th>Slug</th>\n",
       "      <th>Title</th>\n",
       "      <th>Subtitle</th>\n",
       "      <th>HostSegmentTitle</th>\n",
       "      <th>ForumId</th>\n",
       "      <th>OrganizationId</th>\n",
       "      <th>CompetitionTypeId</th>\n",
       "      <th>HostName</th>\n",
       "      <th>EnabledDate</th>\n",
       "      <th>...</th>\n",
       "      <th>EnableSubmissionModelHashes</th>\n",
       "      <th>EnableSubmissionModelAttachments</th>\n",
       "      <th>RewardType</th>\n",
       "      <th>RewardQuantity</th>\n",
       "      <th>NumPrizes</th>\n",
       "      <th>UserRankMultiplier</th>\n",
       "      <th>CanQualifyTiers</th>\n",
       "      <th>TotalTeams</th>\n",
       "      <th>TotalCompetitors</th>\n",
       "      <th>TotalSubmissions</th>\n",
       "    </tr>\n",
       "  </thead>\n",
       "  <tbody>\n",
       "    <tr>\n",
       "      <th>5254</th>\n",
       "      <td>34547</td>\n",
       "      <td>hubmap-organ-segmentation</td>\n",
       "      <td>HuBMAP + HPA - Hacking the Human Body</td>\n",
       "      <td>Segment multi-organ functional tissue units</td>\n",
       "      <td>Research</td>\n",
       "      <td>1960467.0</td>\n",
       "      <td>3808.0</td>\n",
       "      <td>1</td>\n",
       "      <td>NaN</td>\n",
       "      <td>06/22/2022 18:34:11</td>\n",
       "      <td>...</td>\n",
       "      <td>False</td>\n",
       "      <td>False</td>\n",
       "      <td>USD</td>\n",
       "      <td>60000.0</td>\n",
       "      <td>3</td>\n",
       "      <td>1.0</td>\n",
       "      <td>True</td>\n",
       "      <td>1175</td>\n",
       "      <td>1517</td>\n",
       "      <td>39568</td>\n",
       "    </tr>\n",
       "  </tbody>\n",
       "</table>\n",
       "<p>1 rows × 42 columns</p>\n",
       "</div>"
      ],
      "text/plain": [
       "         Id                       Slug                                  Title  \\\n",
       "5254  34547  hubmap-organ-segmentation  HuBMAP + HPA - Hacking the Human Body   \n",
       "\n",
       "                                         Subtitle HostSegmentTitle    ForumId  \\\n",
       "5254  Segment multi-organ functional tissue units         Research  1960467.0   \n",
       "\n",
       "      OrganizationId  CompetitionTypeId HostName          EnabledDate  ...  \\\n",
       "5254          3808.0                  1      NaN  06/22/2022 18:34:11  ...   \n",
       "\n",
       "     EnableSubmissionModelHashes EnableSubmissionModelAttachments RewardType  \\\n",
       "5254                       False                            False        USD   \n",
       "\n",
       "     RewardQuantity NumPrizes  UserRankMultiplier  CanQualifyTiers  \\\n",
       "5254        60000.0         3                 1.0             True   \n",
       "\n",
       "      TotalTeams  TotalCompetitors  TotalSubmissions  \n",
       "5254        1175              1517             39568  \n",
       "\n",
       "[1 rows x 42 columns]"
      ]
     },
     "execution_count": 3,
     "metadata": {},
     "output_type": "execute_result"
    }
   ],
   "source": [
    "#read in dfs and declare variables to select competition of interest\n",
    "\n",
    "comps_df = pd.read_csv(BASE+'/Competitions.csv', parse_dates=['DeadlineDate'])\n",
    "\n",
    "### This is the line that is changes to select a competition ###\n",
    "\n",
    "comp_title = \"HuBMAP + HPA - Hacking the Human Body\"\n",
    "comp_overview = comps_df[comps_df.Title==comp_title]\n",
    "comp_id = comp_overview.iloc[0]['Id']\n",
    "comp_forum_id = comp_overview.iloc[0]['ForumId']\n",
    "comp_overview\n"
   ]
  },
  {
   "cell_type": "code",
   "execution_count": 4,
   "metadata": {},
   "outputs": [
    {
     "data": {
      "text/plain": [
       "(808059, 16)"
      ]
     },
     "execution_count": 4,
     "metadata": {},
     "output_type": "execute_result"
    }
   ],
   "source": [
    "# read in dataframe of kernels\n",
    "\n",
    "kernels_df = pd.read_csv(BASE+'/Kernels.csv', infer_datetime_format=True)\n",
    "kernels_df.shape"
   ]
  },
  {
   "cell_type": "code",
   "execution_count": 5,
   "metadata": {},
   "outputs": [],
   "source": [
    "# manually get info on a notebook\n",
    "\n",
    "#unknown_node = kernels_df[kernels_df.ForkParentKernelVersionId==48242891]\n",
    "#unknown_node\n"
   ]
  },
  {
   "cell_type": "code",
   "execution_count": 6,
   "metadata": {},
   "outputs": [
    {
     "data": {
      "text/plain": [
       "(1894626, 3)"
      ]
     },
     "execution_count": 6,
     "metadata": {},
     "output_type": "execute_result"
    }
   ],
   "source": [
    "#filter KernelVersionCompetitionSources.csv to get KernelVersionIds associated with CompetitionId\n",
    "kernelVersionCompetitionSources_df = pd.read_csv(BASE+'/KernelVersionCompetitionSources.csv', infer_datetime_format=True)\n",
    "#kernelVersionCompetitionSources_df.head()\n",
    "kernelVersionCompetitionSources_df.shape"
   ]
  },
  {
   "cell_type": "code",
   "execution_count": 7,
   "metadata": {},
   "outputs": [
    {
     "data": {
      "text/plain": [
       "(8248, 3)"
      ]
     },
     "execution_count": 7,
     "metadata": {},
     "output_type": "execute_result"
    }
   ],
   "source": [
    "kernels_in_comp_df = kernelVersionCompetitionSources_df[kernelVersionCompetitionSources_df.SourceCompetitionId==comp_id]\n",
    "kernels_in_comp_df.shape"
   ]
  },
  {
   "cell_type": "code",
   "execution_count": 8,
   "metadata": {},
   "outputs": [
    {
     "data": {
      "text/plain": [
       "8248"
      ]
     },
     "execution_count": 8,
     "metadata": {},
     "output_type": "execute_result"
    }
   ],
   "source": [
    "# make list of kernels in competition\n",
    "\n",
    "kernels_in_comp_list = list(kernels_in_comp_df.KernelVersionId)\n",
    "len(kernels_in_comp_list)"
   ]
  },
  {
   "cell_type": "code",
   "execution_count": 9,
   "metadata": {},
   "outputs": [
    {
     "name": "stderr",
     "output_type": "stream",
     "text": [
      "/var/folders/hc/1stky0sd2_z9nqk66bk22rs80000gn/T/ipykernel_53737/4156703257.py:3: FutureWarning: The frame.append method is deprecated and will be removed from pandas in a future version. Use pandas.concat instead.\n",
      "  target_kernels_df = kernels_df[kernels_df.FirstKernelVersionId.isin(kernels_in_comp_list)].append(kernels_df[kernels_df.CurrentKernelVersionId.isin(kernels_in_comp_list)]).append(kernels_df[kernels_df.ForkParentKernelVersionId.isin(kernels_in_comp_list)])\n",
      "/var/folders/hc/1stky0sd2_z9nqk66bk22rs80000gn/T/ipykernel_53737/4156703257.py:3: FutureWarning: The frame.append method is deprecated and will be removed from pandas in a future version. Use pandas.concat instead.\n",
      "  target_kernels_df = kernels_df[kernels_df.FirstKernelVersionId.isin(kernels_in_comp_list)].append(kernels_df[kernels_df.CurrentKernelVersionId.isin(kernels_in_comp_list)]).append(kernels_df[kernels_df.ForkParentKernelVersionId.isin(kernels_in_comp_list)])\n"
     ]
    },
    {
     "data": {
      "text/plain": [
       "(772, 16)"
      ]
     },
     "execution_count": 9,
     "metadata": {},
     "output_type": "execute_result"
    }
   ],
   "source": [
    "#filter kernels.csv by the list of kernels in competition\n",
    "\n",
    "target_kernels_df = kernels_df[kernels_df.FirstKernelVersionId.isin(kernels_in_comp_list)].append(kernels_df[kernels_df.CurrentKernelVersionId.isin(kernels_in_comp_list)]).append(kernels_df[kernels_df.ForkParentKernelVersionId.isin(kernels_in_comp_list)])\n",
    "\n",
    "target_kernels_df.shape"
   ]
  },
  {
   "cell_type": "code",
   "execution_count": 10,
   "metadata": {},
   "outputs": [],
   "source": [
    "# write filtered kernels df to csv file\n",
    "\n",
    "target_kernels_df.to_csv('targetKernels.csv')"
   ]
  },
  {
   "cell_type": "code",
   "execution_count": null,
   "metadata": {},
   "outputs": [],
   "source": []
  },
  {
   "cell_type": "code",
   "execution_count": null,
   "metadata": {},
   "outputs": [],
   "source": []
  }
 ],
 "metadata": {
  "kernelspec": {
   "display_name": "Python 3 (ipykernel)",
   "language": "python",
   "name": "python3"
  },
  "language_info": {
   "codemirror_mode": {
    "name": "ipython",
    "version": 3
   },
   "file_extension": ".py",
   "mimetype": "text/x-python",
   "name": "python",
   "nbconvert_exporter": "python",
   "pygments_lexer": "ipython3",
   "version": "3.9.7"
  },
  "vscode": {
   "interpreter": {
    "hash": "40d3a090f54c6569ab1632332b64b2c03c39dcf918b08424e98f38b5ae0af88f"
   }
  }
 },
 "nbformat": 4,
 "nbformat_minor": 4
}
