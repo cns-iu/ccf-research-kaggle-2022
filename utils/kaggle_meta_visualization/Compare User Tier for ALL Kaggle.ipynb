{
 "cells": [
  {
   "cell_type": "code",
   "execution_count": 1,
   "metadata": {},
   "outputs": [
    {
     "data": {
      "image/png": "[encoded data removed]",
      "text/plain": [
       "<Figure size 432x288 with 1 Axes>"
      ]
     },
     "metadata": {
      "needs_background": "light"
     },
     "output_type": "display_data"
    }
   ],
   "source": [
    "import pandas as pd\n",
    "import numpy as np\n",
    "import matplotlib.pyplot as plt\n",
    "\n",
    "DIR = '/Users/adarsh_23/CNS/Envisioning-Kaggle-main/Metadata'\n",
    "users_df = pd.read_csv(DIR+'/Users.csv', infer_datetime_format=True)\n",
    "\n",
    "hist_of_tier_all = plt.hist(users_df['PerformanceTier'], bins=[0, 1, 2, 3, 4, 5], rwidth=0.8)\n"
   ]
  },
  {
   "cell_type": "code",
   "execution_count": 9,
   "metadata": {},
   "outputs": [
    {
     "data": {
      "image/png": "[encoded data removed]",
      "text/plain": [
       "<Figure size 432x216 with 1 Axes>"
      ]
     },
     "metadata": {
      "needs_background": "light"
     },
     "output_type": "display_data"
    }
   ],
   "source": [
    "counts_all, bins, bars = hist_of_tier_all\n",
    "#counts_all\n",
    "tiers = ['Novice', 'Contributor', 'Expert', 'Master', 'Grand Master']\n",
    "#tiers\n",
    "tier_counts_all_df = pd.DataFrame(data={'Tier': tiers, 'NumOfUsers': counts_all})\n",
    "#tier_counts_all_df\n",
    "fig_all = plt.figure(figsize=(6,3))\n",
    "axes_all= fig_all.add_axes((0.2, 0.1, 0.75, 0.8))\n",
    "axes_all.barh(tier_counts_all_df.Tier, tier_counts_all_df.NumOfUsers, color=['limegreen', 'deepskyblue', 'mediumpurple', 'tomato', 'gold'])\n",
    "\n",
    "for i, v in enumerate(tier_counts_all_df.NumOfUsers):\n",
    "    plt.text(v + 0, i + .1, str(int(v)), color='white', fontsize='small')\n",
    "    \n",
    "plt.title(\"Barplot of All User Tier\")\n",
    "plt.savefig('All user tier barplot.png')\n",
    "plt.show()"
   ]
  },
  {
   "cell_type": "code",
   "execution_count": 10,
   "metadata": {},
   "outputs": [
    {
     "data": {
      "text/plain": [
       "11749261.65"
      ]
     },
     "execution_count": 10,
     "metadata": {},
     "output_type": "execute_result"
    },
    {
     "data": {
      "image/png": "[encoded data removed]",
      "text/plain": [
       "<Figure size 432x288 with 1 Axes>"
      ]
     },
     "metadata": {
      "needs_background": "light"
     },
     "output_type": "display_data"
    }
   ],
   "source": [
    "tier_bins=5\n",
    "hist_of_tier_all = plt.hist(users_df['PerformanceTier'], bins=[0, 1, 2, 3, 4, 5], rwidth=0.8)\n",
    "plt.title(\"Histogram of All Kaggle User Tier\")\n",
    "plt.xlabel(\"Tier\")\n",
    "plt.ylabel(\"Number of Users\")\n",
    "for i in range(tier_bins):\n",
    "    plt.text(hist_of_tier_all[1][i],hist_of_tier_all[0][i],int((hist_of_tier_all[0][i])))\n",
    "    \n",
    "bottom, top = plt.ylim()\n",
    "top"
   ]
  },
  {
   "cell_type": "code",
   "execution_count": null,
   "metadata": {},
   "outputs": [],
   "source": []
  },
  {
   "cell_type": "code",
   "execution_count": 11,
   "metadata": {},
   "outputs": [
    {
     "data": {
      "text/plain": [
       "34547"
      ]
     },
     "execution_count": 11,
     "metadata": {},
     "output_type": "execute_result"
    }
   ],
   "source": [
    "# Now for HPA\n",
    "\n",
    "#read in dfs and declare variables to select competition of interest\n",
    "\n",
    "comps_df = pd.read_csv(DIR+'/Competitions.csv', parse_dates=['DeadlineDate'])\n",
    "\n",
    "#comp_title = \"Human Protein Atlas - Single Cell Classification\"\n",
    "comp_title = \"HuBMAP + HPA - Hacking the Human Body\"\n",
    "comp_overview = comps_df[comps_df.Title==comp_title]\n",
    "comp_id = comp_overview.iloc[0]['Id']\n",
    "\n",
    "comp_id"
   ]
  },
  {
   "cell_type": "code",
   "execution_count": 12,
   "metadata": {},
   "outputs": [
    {
     "name": "stderr",
     "output_type": "stream",
     "text": [
      "/var/folders/hc/1stky0sd2_z9nqk66bk22rs80000gn/T/ipykernel_54050/1484400735.py:1: DtypeWarning: Columns (5,10) have mixed types. Specify dtype option on import or set low_memory=False.\n",
      "  teams_df = pd.read_csv(DIR+'/Teams.csv', infer_datetime_format=True)\n"
     ]
    },
    {
     "data": {
      "text/plain": [
       "1175"
      ]
     },
     "execution_count": 12,
     "metadata": {},
     "output_type": "execute_result"
    }
   ],
   "source": [
    "teams_df = pd.read_csv(DIR+'/Teams.csv', infer_datetime_format=True)\n",
    "\n",
    "comp_teams_df = teams_df[teams_df.CompetitionId==comp_id].dropna(subset=['LastSubmissionDate'])\n",
    "\n",
    "team_ids_list = comp_teams_df.Id.unique().tolist()\n",
    "len(team_ids_list)"
   ]
  },
  {
   "cell_type": "code",
   "execution_count": 13,
   "metadata": {},
   "outputs": [
    {
     "data": {
      "text/plain": [
       "(5908972, 4)"
      ]
     },
     "execution_count": 13,
     "metadata": {},
     "output_type": "execute_result"
    }
   ],
   "source": [
    "team_memberships_df = pd.read_csv(DIR+'/TeamMemberships.csv', infer_datetime_format=True)\n",
    "team_memberships_df.shape"
   ]
  },
  {
   "cell_type": "code",
   "execution_count": 14,
   "metadata": {},
   "outputs": [
    {
     "data": {
      "text/html": [
       "<div>\n",
       "<style scoped>\n",
       "    .dataframe tbody tr th:only-of-type {\n",
       "        vertical-align: middle;\n",
       "    }\n",
       "\n",
       "    .dataframe tbody tr th {\n",
       "        vertical-align: top;\n",
       "    }\n",
       "\n",
       "    .dataframe thead th {\n",
       "        text-align: right;\n",
       "    }\n",
       "</style>\n",
       "<table border=\"1\" class=\"dataframe\">\n",
       "  <thead>\n",
       "    <tr style=\"text-align: right;\">\n",
       "      <th></th>\n",
       "      <th>Id</th>\n",
       "      <th>TeamId</th>\n",
       "      <th>UserId</th>\n",
       "      <th>RequestDate</th>\n",
       "    </tr>\n",
       "  </thead>\n",
       "  <tbody>\n",
       "    <tr>\n",
       "      <th>5813492</th>\n",
       "      <td>9069105</td>\n",
       "      <td>8805826</td>\n",
       "      <td>2132795</td>\n",
       "      <td>06/22/2022</td>\n",
       "    </tr>\n",
       "    <tr>\n",
       "      <th>5813497</th>\n",
       "      <td>9069126</td>\n",
       "      <td>8805846</td>\n",
       "      <td>1107630</td>\n",
       "      <td>06/22/2022</td>\n",
       "    </tr>\n",
       "    <tr>\n",
       "      <th>5813499</th>\n",
       "      <td>9069134</td>\n",
       "      <td>8805854</td>\n",
       "      <td>6537187</td>\n",
       "      <td>06/22/2022</td>\n",
       "    </tr>\n",
       "    <tr>\n",
       "      <th>5813505</th>\n",
       "      <td>9069170</td>\n",
       "      <td>8805890</td>\n",
       "      <td>10654180</td>\n",
       "      <td>06/22/2022</td>\n",
       "    </tr>\n",
       "    <tr>\n",
       "      <th>5813506</th>\n",
       "      <td>9069174</td>\n",
       "      <td>8805894</td>\n",
       "      <td>4212496</td>\n",
       "      <td>06/22/2022</td>\n",
       "    </tr>\n",
       "  </tbody>\n",
       "</table>\n",
       "</div>"
      ],
      "text/plain": [
       "              Id   TeamId    UserId RequestDate\n",
       "5813492  9069105  8805826   2132795  06/22/2022\n",
       "5813497  9069126  8805846   1107630  06/22/2022\n",
       "5813499  9069134  8805854   6537187  06/22/2022\n",
       "5813505  9069170  8805890  10654180  06/22/2022\n",
       "5813506  9069174  8805894   4212496  06/22/2022"
      ]
     },
     "execution_count": 14,
     "metadata": {},
     "output_type": "execute_result"
    }
   ],
   "source": [
    "comp_team_memberships_df = team_memberships_df[team_memberships_df.TeamId.isin(team_ids_list)]\n",
    "comp_team_memberships_df.head(5)"
   ]
  },
  {
   "cell_type": "code",
   "execution_count": 15,
   "metadata": {},
   "outputs": [],
   "source": [
    "comp_users_list = list(comp_team_memberships_df.UserId.unique())\n",
    "#comp_users_list\n",
    "comp_users_df = users_df[users_df.Id.isin(comp_users_list)]"
   ]
  },
  {
   "cell_type": "code",
   "execution_count": 16,
   "metadata": {},
   "outputs": [
    {
     "data": {
      "text/plain": [
       "1516"
      ]
     },
     "execution_count": 16,
     "metadata": {},
     "output_type": "execute_result"
    }
   ],
   "source": [
    "\n",
    "len(comp_users_list)"
   ]
  },
  {
   "cell_type": "code",
   "execution_count": 25,
   "metadata": {},
   "outputs": [
    {
     "data": {
      "image/png": "[encoded data removed]",
      "text/plain": [
       "<Figure size 432x288 with 1 Axes>"
      ]
     },
     "metadata": {
      "needs_background": "light"
     },
     "output_type": "display_data"
    }
   ],
   "source": [
    "tier_bins=5\n",
    "hist_of_tier_hpa = plt.hist(comp_users_df['PerformanceTier'], bins=[0, 1, 2, 3, 4, 5], rwidth=0.8)\n",
    "#plt.title(\"Histogram of HPA - Single Cell Classification User Tier\")\n",
    "plt.title(\"HuBMAP + HPA - Hacking the Human Body\")\n",
    "plt.xlabel(\"Tier\")\n",
    "plt.ylabel(\"Number of Users\")\n",
    "for i in range(tier_bins):\n",
    "    plt.text(hist_of_tier_hpa[1][i]+.3\n",
    "             ,hist_of_tier_hpa[0][i]+1,int(hist_of_tier_hpa[0][i]))\n",
    "    \n",
    "plt.ylim(top=768.6)\n",
    "plt.savefig('HPA user another.png')\n",
    "plt.show()"
   ]
  },
  {
   "cell_type": "code",
   "execution_count": 34,
   "metadata": {},
   "outputs": [
    {
     "data": {
      "image/png": "[encoded data removed]",
      "text/plain": [
       "<Figure size 504x360 with 1 Axes>"
      ]
     },
     "metadata": {
      "needs_background": "light"
     },
     "output_type": "display_data"
    }
   ],
   "source": [
    "counts_hpa, bins, bars = hist_of_tier_hpa\n",
    "#counts_all\n",
    "tiers = ['Novice', 'Contributor', 'Expert', 'Master', 'Grand Master']\n",
    "#tiers\n",
    "tier_counts_hpa_df = pd.DataFrame(data={'Tier': tiers, 'NumOfUsers': counts_hpa})\n",
    "#tier_counts_hpa_df\n",
    "fig_hpa = plt.figure(figsize=(7,5))\n",
    "axes_hpa= fig_hpa.add_axes((0.2, 0.1, 0.75, 0.8))\n",
    "axes_hpa.barh(tier_counts_hpa_df.Tier, tier_counts_hpa_df.NumOfUsers, color=['limegreen', 'deepskyblue', 'mediumpurple', 'tomato', 'gold'])\n",
    "\n",
    "for i, v in enumerate(tier_counts_hpa_df.NumOfUsers):\n",
    "    plt.text(v + 1, i - .1, str(int(v)), color='black', fontsize='medium')\n",
    "    \n",
    "plt.xlim(right=768.6)\n",
    "#plt.title(\"Barplot of HPA - Single Cell Classification User Tier\")\n",
    "plt.title(\"Barplot of HuBMAP + HPA - Hacking the Human Body\")\n",
    "plt.savefig('HPA user tier barplot.png')\n",
    "plt.savefig('HPA user tier barplot.svg')\n",
    "plt.show()"
   ]
  },
  {
   "cell_type": "code",
   "execution_count": null,
   "metadata": {},
   "outputs": [],
   "source": []
  },
  {
   "cell_type": "code",
   "execution_count": null,
   "metadata": {},
   "outputs": [],
   "source": []
  }
 ],
 "metadata": {
  "kernelspec": {
   "display_name": "Python 3 (ipykernel)",
   "language": "python",
   "name": "python3"
  },
  "language_info": {
   "codemirror_mode": {
    "name": "ipython",
    "version": 3
   },
   "file_extension": ".py",
   "mimetype": "text/x-python",
   "name": "python",
   "nbconvert_exporter": "python",
   "pygments_lexer": "ipython3",
   "version": "3.9.7"
  },
  "vscode": {
   "interpreter": {
    "hash": "40d3a090f54c6569ab1632332b64b2c03c39dcf918b08424e98f38b5ae0af88f"
   }
  }
 },
 "nbformat": 4,
 "nbformat_minor": 4
}
