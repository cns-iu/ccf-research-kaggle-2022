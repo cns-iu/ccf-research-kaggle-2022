{
 "cells": [
  {
   "cell_type": "code",
   "execution_count": 25,
   "metadata": {},
   "outputs": [],
   "source": [
    "import numpy as np\n",
    "import pandas as pd\n",
    "from pathlib import Path\n",
    "import os\n",
    "import json \n",
    "import matplotlib\n",
    "import matplotlib.pyplot as plt\n",
    "\n",
    "\n",
    "from sklearn.metrics import jaccard_score\n",
    "from scipy.spatial.distance import directed_hausdorff\n",
    "\n",
    "import cv2\n",
    "import tifffile\n",
    "import seaborn as sns\n",
    "from itertools import chain\n",
    "from PIL import Image\n",
    "from PIL import ImageDraw\n",
    "\n",
    "import skimage\n",
    "from sklearn.metrics import confusion_matrix, ConfusionMatrixDisplay\n",
    "\n",
    "import scipy.stats as stats"
   ]
  },
  {
   "cell_type": "code",
   "execution_count": null,
   "metadata": {},
   "outputs": [],
   "source": [
    "#Read Metrics file for the team\n",
    "BASE_PATH = os.getcwd()+'/'\n",
    "INPUT_PATH = BASE_PATH\n",
    "print(INPUT_PATH)\n",
    "\n",
    "team = \"team_1\"\n",
    "df_metrics_team1 = pd.read_csv(INPUT_PATH+f'winning-submissions/{team}/metrics.csv')\n",
    "\n",
    "team = \"team_2\"\n",
    "df_metrics_team2 = pd.read_csv(INPUT_PATH+f'winning-submissions/{team}/metrics.csv')\n",
    "\n",
    "team = \"team_3\"\n",
    "df_metrics_team3 = pd.read_csv(INPUT_PATH+f'winning-submissions/{team}/metrics.csv')\n"
   ]
  },
  {
   "cell_type": "code",
   "execution_count": 3,
   "metadata": {},
   "outputs": [
    {
     "data": {
      "text/html": [
       "<div>\n",
       "<style scoped>\n",
       "    .dataframe tbody tr th:only-of-type {\n",
       "        vertical-align: middle;\n",
       "    }\n",
       "\n",
       "    .dataframe tbody tr th {\n",
       "        vertical-align: top;\n",
       "    }\n",
       "\n",
       "    .dataframe thead th {\n",
       "        text-align: right;\n",
       "    }\n",
       "</style>\n",
       "<table border=\"1\" class=\"dataframe\">\n",
       "  <thead>\n",
       "    <tr style=\"text-align: right;\">\n",
       "      <th></th>\n",
       "      <th>id</th>\n",
       "      <th>dice_score</th>\n",
       "      <th>iou_score</th>\n",
       "      <th>hd_score</th>\n",
       "      <th>hd95_score</th>\n",
       "      <th>filename</th>\n",
       "      <th>tissue_name</th>\n",
       "    </tr>\n",
       "  </thead>\n",
       "  <tbody>\n",
       "    <tr>\n",
       "      <th>0</th>\n",
       "      <td>3417</td>\n",
       "      <td>0.818191</td>\n",
       "      <td>0.692320</td>\n",
       "      <td>157.581725</td>\n",
       "      <td>155.066639</td>\n",
       "      <td>D116-RML-BPS-2-2_0_0_22_lung</td>\n",
       "      <td>lung</td>\n",
       "    </tr>\n",
       "    <tr>\n",
       "      <th>1</th>\n",
       "      <td>9077</td>\n",
       "      <td>0.651993</td>\n",
       "      <td>0.483672</td>\n",
       "      <td>180.693110</td>\n",
       "      <td>246.861231</td>\n",
       "      <td>D071-RLL-17B5-2_1323_1323_27_lung</td>\n",
       "      <td>lung</td>\n",
       "    </tr>\n",
       "    <tr>\n",
       "      <th>2</th>\n",
       "      <td>474</td>\n",
       "      <td>0.704360</td>\n",
       "      <td>0.543639</td>\n",
       "      <td>517.000967</td>\n",
       "      <td>499.022386</td>\n",
       "      <td>D356-RLL-12A3-2_0_0_16_lung</td>\n",
       "      <td>lung</td>\n",
       "    </tr>\n",
       "  </tbody>\n",
       "</table>\n",
       "</div>"
      ],
      "text/plain": [
       "     id  dice_score  iou_score    hd_score  hd95_score  \\\n",
       "0  3417    0.818191   0.692320  157.581725  155.066639   \n",
       "1  9077    0.651993   0.483672  180.693110  246.861231   \n",
       "2   474    0.704360   0.543639  517.000967  499.022386   \n",
       "\n",
       "                            filename tissue_name  \n",
       "0       D116-RML-BPS-2-2_0_0_22_lung        lung  \n",
       "1  D071-RLL-17B5-2_1323_1323_27_lung        lung  \n",
       "2        D356-RLL-12A3-2_0_0_16_lung        lung  "
      ]
     },
     "execution_count": 3,
     "metadata": {},
     "output_type": "execute_result"
    }
   ],
   "source": [
    "df_metrics_team1.head(3)"
   ]
  },
  {
   "cell_type": "code",
   "execution_count": 4,
   "metadata": {},
   "outputs": [
    {
     "name": "stdout",
     "output_type": "stream",
     "text": [
      "0.8356159833475378\n",
      "0.8339292939248892\n",
      "0.8326609412139847\n"
     ]
    }
   ],
   "source": [
    "print(df_metrics_team1[\"dice_score\"].mean())\n",
    "print(df_metrics_team2[\"dice_score\"].mean())\n",
    "print(df_metrics_team3[\"dice_score\"].mean())"
   ]
  },
  {
   "cell_type": "code",
   "execution_count": 5,
   "metadata": {},
   "outputs": [
    {
     "name": "stdout",
     "output_type": "stream",
     "text": [
      "0.7384615995430411\n",
      "0.7362468557228992\n",
      "0.7333478375569404\n"
     ]
    }
   ],
   "source": [
    "print(df_metrics_team1[\"iou_score\"].mean())\n",
    "print(df_metrics_team2[\"iou_score\"].mean())\n",
    "print(df_metrics_team3[\"iou_score\"].mean())"
   ]
  },
  {
   "cell_type": "code",
   "execution_count": 6,
   "metadata": {},
   "outputs": [
    {
     "name": "stdout",
     "output_type": "stream",
     "text": [
      "201.99175323853962\n",
      "261.016577773816\n",
      "268.1459310778021\n"
     ]
    }
   ],
   "source": [
    "print(df_metrics_team1[\"hd_score\"].mean())\n",
    "print(df_metrics_team2[\"hd_score\"].mean())\n",
    "print(df_metrics_team3[\"hd_score\"].mean())"
   ]
  },
  {
   "cell_type": "code",
   "execution_count": 7,
   "metadata": {},
   "outputs": [
    {
     "name": "stdout",
     "output_type": "stream",
     "text": [
      "380.92824735591137\n",
      "392.336002327034\n",
      "406.3626494362451\n"
     ]
    }
   ],
   "source": [
    "print(df_metrics_team1[\"hd95_score\"].mean())\n",
    "print(df_metrics_team2[\"hd95_score\"].mean())\n",
    "print(df_metrics_team3[\"hd95_score\"].mean())"
   ]
  },
  {
   "cell_type": "code",
   "execution_count": 8,
   "metadata": {},
   "outputs": [
    {
     "data": {
      "text/html": [
       "<div>\n",
       "<style scoped>\n",
       "    .dataframe tbody tr th:only-of-type {\n",
       "        vertical-align: middle;\n",
       "    }\n",
       "\n",
       "    .dataframe tbody tr th {\n",
       "        vertical-align: top;\n",
       "    }\n",
       "\n",
       "    .dataframe thead th {\n",
       "        text-align: right;\n",
       "    }\n",
       "</style>\n",
       "<table border=\"1\" class=\"dataframe\">\n",
       "  <thead>\n",
       "    <tr style=\"text-align: right;\">\n",
       "      <th></th>\n",
       "      <th>id</th>\n",
       "      <th>dice_score</th>\n",
       "      <th>iou_score</th>\n",
       "      <th>hd_score</th>\n",
       "      <th>hd95_score</th>\n",
       "      <th>filename</th>\n",
       "      <th>tissue_name</th>\n",
       "      <th>team</th>\n",
       "    </tr>\n",
       "  </thead>\n",
       "  <tbody>\n",
       "    <tr>\n",
       "      <th>0</th>\n",
       "      <td>3417</td>\n",
       "      <td>0.796006</td>\n",
       "      <td>0.661138</td>\n",
       "      <td>311.852529</td>\n",
       "      <td>299.903047</td>\n",
       "      <td>D116-RML-BPS-2-2_0_0_22_lung</td>\n",
       "      <td>lung</td>\n",
       "      <td>Team 3</td>\n",
       "    </tr>\n",
       "    <tr>\n",
       "      <th>1</th>\n",
       "      <td>9077</td>\n",
       "      <td>0.757720</td>\n",
       "      <td>0.609943</td>\n",
       "      <td>157.543645</td>\n",
       "      <td>178.041250</td>\n",
       "      <td>D071-RLL-17B5-2_1323_1323_27_lung</td>\n",
       "      <td>lung</td>\n",
       "      <td>Team 3</td>\n",
       "    </tr>\n",
       "    <tr>\n",
       "      <th>2</th>\n",
       "      <td>474</td>\n",
       "      <td>0.655108</td>\n",
       "      <td>0.487108</td>\n",
       "      <td>210.800854</td>\n",
       "      <td>208.958512</td>\n",
       "      <td>D356-RLL-12A3-2_0_0_16_lung</td>\n",
       "      <td>lung</td>\n",
       "      <td>Team 3</td>\n",
       "    </tr>\n",
       "    <tr>\n",
       "      <th>3</th>\n",
       "      <td>22423</td>\n",
       "      <td>0.793068</td>\n",
       "      <td>0.657094</td>\n",
       "      <td>606.469290</td>\n",
       "      <td>583.745332</td>\n",
       "      <td>D231-RLL-13B4-2_0_0_32_lung</td>\n",
       "      <td>lung</td>\n",
       "      <td>Team 3</td>\n",
       "    </tr>\n",
       "    <tr>\n",
       "      <th>4</th>\n",
       "      <td>16724</td>\n",
       "      <td>0.594874</td>\n",
       "      <td>0.423360</td>\n",
       "      <td>450.165525</td>\n",
       "      <td>430.694517</td>\n",
       "      <td>D239-RLL-23C4-2_0_0_45_lung</td>\n",
       "      <td>lung</td>\n",
       "      <td>Team 3</td>\n",
       "    </tr>\n",
       "  </tbody>\n",
       "</table>\n",
       "</div>"
      ],
      "text/plain": [
       "      id  dice_score  iou_score    hd_score  hd95_score  \\\n",
       "0   3417    0.796006   0.661138  311.852529  299.903047   \n",
       "1   9077    0.757720   0.609943  157.543645  178.041250   \n",
       "2    474    0.655108   0.487108  210.800854  208.958512   \n",
       "3  22423    0.793068   0.657094  606.469290  583.745332   \n",
       "4  16724    0.594874   0.423360  450.165525  430.694517   \n",
       "\n",
       "                            filename tissue_name    team  \n",
       "0       D116-RML-BPS-2-2_0_0_22_lung        lung  Team 3  \n",
       "1  D071-RLL-17B5-2_1323_1323_27_lung        lung  Team 3  \n",
       "2        D356-RLL-12A3-2_0_0_16_lung        lung  Team 3  \n",
       "3        D231-RLL-13B4-2_0_0_32_lung        lung  Team 3  \n",
       "4        D239-RLL-23C4-2_0_0_45_lung        lung  Team 3  "
      ]
     },
     "execution_count": 8,
     "metadata": {},
     "output_type": "execute_result"
    }
   ],
   "source": [
    "df_metrics_team1[\"team\"] = \"Team 1\"\n",
    "df_metrics_team2[\"team\"] = \"Team 2\"\n",
    "df_metrics_team3[\"team\"] = \"Team 3\"\n",
    "df_metrics_team3.head()"
   ]
  },
  {
   "cell_type": "code",
   "execution_count": 49,
   "metadata": {},
   "outputs": [],
   "source": [
    "def print_stats(df_metrics_team1, df_metrics_team2, df_metrics_team3, metric, case, per_organ):\n",
    "    if case == \"best\":\n",
    "        if per_organ is True:\n",
    "            indices_to_drop = df_metrics_team1.groupby('tissue_name')[metric].nlargest(1).index.get_level_values(1)\n",
    "            team1_stats = df_metrics_team1.drop(indices_to_drop, inplace=False)\n",
    "\n",
    "            indices_to_drop = df_metrics_team2.groupby('tissue_name')[metric].nlargest(1).index.get_level_values(1)\n",
    "            team2_stats = df_metrics_team2.drop(indices_to_drop, inplace=False)\n",
    "\n",
    "            indices_to_drop = df_metrics_team3.groupby('tissue_name')[metric].nlargest(1).index.get_level_values(1)\n",
    "            team3_stats = df_metrics_team3.drop(indices_to_drop, inplace=False)\n",
    "        \n",
    "        elif per_organ is False:\n",
    "            df_metrics_team1_sorted = df_metrics_team1.sort_values(metric, ascending=False)\n",
    "            df_metrics_team1_sorted = df_metrics_team1_sorted.reset_index(drop=True)\n",
    "            team1_stats = df_metrics_team1_sorted.drop(df_metrics_team1_sorted[df_metrics_team1_sorted['id'] == df_metrics_team1_sorted.id[0]].index)\n",
    "\n",
    "            df_metrics_team2_sorted = df_metrics_team2.sort_values(metric, ascending=False)\n",
    "            df_metrics_team2_sorted = df_metrics_team2_sorted.reset_index(drop=True)\n",
    "            team2_stats = df_metrics_team2_sorted.drop(df_metrics_team2_sorted[df_metrics_team2_sorted['id'] == df_metrics_team2_sorted.id[0]].index)\n",
    "\n",
    "            df_metrics_team3_sorted = df_metrics_team3.sort_values(metric, ascending=False)\n",
    "            df_metrics_team3_sorted = df_metrics_team3_sorted.reset_index(drop=True)\n",
    "            team3_stats = df_metrics_team3_sorted.drop(df_metrics_team3_sorted[df_metrics_team3_sorted['id'] == df_metrics_team3_sorted.id[0]].index)\n",
    "\n",
    "    elif case == \"worst\":\n",
    "        if per_organ is True:\n",
    "            indices_to_drop = df_metrics_team1.groupby('tissue_name')[metric].nsmallest(1).index.get_level_values(1)\n",
    "            team1_stats = df_metrics_team1.drop(indices_to_drop, inplace=False)\n",
    "\n",
    "            indices_to_drop = df_metrics_team2.groupby('tissue_name')[metric].nsmallest(1).index.get_level_values(1)\n",
    "            team2_stats = df_metrics_team2.drop(indices_to_drop, inplace=False)\n",
    "\n",
    "            indices_to_drop = df_metrics_team3.groupby('tissue_name')[metric].nsmallest(1).index.get_level_values(1)\n",
    "            team3_stats = df_metrics_team3.drop(indices_to_drop, inplace=False)\n",
    "        \n",
    "        elif per_organ is False:\n",
    "            df_metrics_team1_sorted = df_metrics_team1.sort_values(metric, ascending=True)\n",
    "            df_metrics_team1_sorted = df_metrics_team1_sorted.reset_index(drop=True)\n",
    "            team1_stats = df_metrics_team1_sorted.drop(df_metrics_team1_sorted[df_metrics_team1_sorted['id'] == df_metrics_team1_sorted.id[0]].index)\n",
    "            \n",
    "            df_metrics_team2_sorted = df_metrics_team2.sort_values(metric, ascending=True)\n",
    "            df_metrics_team2_sorted = df_metrics_team2_sorted.reset_index(drop=True)\n",
    "            team2_stats = df_metrics_team2_sorted.drop(df_metrics_team2_sorted[df_metrics_team2_sorted['id'] == df_metrics_team2_sorted.id[0]].index)\n",
    "\n",
    "            df_metrics_team3_sorted = df_metrics_team3.sort_values(metric, ascending=True)\n",
    "            df_metrics_team3_sorted = df_metrics_team3_sorted.reset_index(drop=True)\n",
    "            team3_stats = df_metrics_team3_sorted.drop(df_metrics_team3_sorted[df_metrics_team3_sorted['id'] == df_metrics_team3_sorted.id[0]].index)\n",
    "\n",
    "    print(\"Team 1: \", team1_stats[metric].mean())\n",
    "    print(\"Team 2: \", team2_stats[metric].mean())\n",
    "    print(\"Team 3: \", team3_stats[metric].mean())"
   ]
  },
  {
   "cell_type": "code",
   "execution_count": 10,
   "metadata": {},
   "outputs": [
    {
     "name": "stdout",
     "output_type": "stream",
     "text": [
      "Team 1:  0.8390049417488906\n",
      "Team 2:  0.8371305822731747\n",
      "Team 3:  0.8359230797012543\n"
     ]
    }
   ],
   "source": [
    "# Case: Remove worst 1\n",
    "metric = \"dice_score\"\n",
    "case = \"worst\"\n",
    "per_organ = False\n",
    "print_stats(df_metrics_team1, df_metrics_team2, df_metrics_team3, metric, case, per_organ)\n"
   ]
  },
  {
   "cell_type": "code",
   "execution_count": 11,
   "metadata": {},
   "outputs": [
    {
     "name": "stdout",
     "output_type": "stream",
     "text": [
      "Team 1:  0.8349805926277769\n",
      "Team 2:  0.8332769934647581\n",
      "Team 3:  0.8320261150047805\n"
     ]
    }
   ],
   "source": [
    "# Case: Remove top 1\n",
    "metric = \"dice_score\"\n",
    "case = \"best\"\n",
    "per_organ = False\n",
    "print_stats(df_metrics_team1, df_metrics_team2, df_metrics_team3, metric, case, per_organ)\n"
   ]
  },
  {
   "cell_type": "code",
   "execution_count": 32,
   "metadata": {},
   "outputs": [
    {
     "name": "stdout",
     "output_type": "stream",
     "text": [
      "Team 1:  0.8421404631583568\n",
      "Team 2:  0.8418451263026939\n",
      "Team 3:  0.8413001279427224\n"
     ]
    }
   ],
   "source": [
    "# Case: Remove worst 1 per organ (total 5)\n",
    "metric = \"dice_score\"\n",
    "case = \"worst\"\n",
    "per_organ = True\n",
    "print_stats(df_metrics_team1, df_metrics_team2, df_metrics_team3, metric, case, per_organ)"
   ]
  },
  {
   "cell_type": "code",
   "execution_count": 33,
   "metadata": {},
   "outputs": [
    {
     "name": "stdout",
     "output_type": "stream",
     "text": [
      "Team 1:  0.7452622222838429\n",
      "Team 2:  0.7446923328236542\n",
      "Team 3:  0.7423267174791883\n"
     ]
    }
   ],
   "source": [
    "# Case: Remove worst 1 per organ (total 5)\n",
    "metric = \"iou_score\"\n",
    "case = \"worst\"\n",
    "per_organ = True\n",
    "print_stats(df_metrics_team1, df_metrics_team2, df_metrics_team3, metric, case, per_organ)"
   ]
  },
  {
   "cell_type": "code",
   "execution_count": 13,
   "metadata": {},
   "outputs": [
    {
     "name": "stdout",
     "output_type": "stream",
     "text": [
      "Team 1:  0.8332129926957113\n",
      "Team 2:  0.8314839180250487\n",
      "Team 3:  0.8301547648991853\n"
     ]
    }
   ],
   "source": [
    "# Case: Remove best 1 per organ (total 5)\n",
    "metric = \"dice_score\"\n",
    "case = \"best\"\n",
    "per_organ = True\n",
    "print_stats(df_metrics_team1, df_metrics_team2, df_metrics_team3, metric, case, per_organ)"
   ]
  },
  {
   "cell_type": "code",
   "execution_count": 14,
   "metadata": {},
   "outputs": [
    {
     "name": "stdout",
     "output_type": "stream",
     "text": [
      "Team 1:  365.716080585105\n",
      "Team 2:  376.51077072259056\n",
      "Team 3:  390.4159526441003\n"
     ]
    }
   ],
   "source": [
    "# Case: Remove worst 1 per organ (total 5), Use case=\"best\" since for HD, lower is better.\n",
    "metric = \"hd95_score\"\n",
    "case = \"best\"\n",
    "per_organ = True\n",
    "print_stats(df_metrics_team1, df_metrics_team2, df_metrics_team3, metric, case, per_organ)"
   ]
  },
  {
   "cell_type": "code",
   "execution_count": 15,
   "metadata": {},
   "outputs": [
    {
     "name": "stdout",
     "output_type": "stream",
     "text": [
      "Team 1:  387.5384541536713\n",
      "Team 2:  399.0265691585663\n",
      "Team 3:  413.1090463732476\n"
     ]
    }
   ],
   "source": [
    "# Case: Remove best 1 per organ (total 5), Use case=\"best\" since for HD, lower is better.\n",
    "metric = \"hd95_score\"\n",
    "case = \"worst\"\n",
    "per_organ = True\n",
    "print_stats(df_metrics_team1, df_metrics_team2, df_metrics_team3, metric, case, per_organ)"
   ]
  },
  {
   "cell_type": "code",
   "execution_count": 47,
   "metadata": {},
   "outputs": [
    {
     "name": "stdout",
     "output_type": "stream",
     "text": [
      "Team 1:  0.8505948863771244\n",
      "Team 2:  0.8503647579377415\n",
      "Team 3:  0.8508701207444114\n"
     ]
    }
   ],
   "source": [
    "# Case: Remove worst 3 per organ (total 15) [need to change n to 3 in print_stats function for this]\n",
    "metric = \"dice_score\"\n",
    "case = \"worst\"\n",
    "per_organ = True\n",
    "print_stats(df_metrics_team1, df_metrics_team2, df_metrics_team3, metric, case, per_organ)"
   ]
  },
  {
   "cell_type": "code",
   "execution_count": 48,
   "metadata": {},
   "outputs": [
    {
     "name": "stdout",
     "output_type": "stream",
     "text": [
      "Team 1:  0.7554817330409723\n",
      "Team 2:  0.7548293042908264\n",
      "Team 3:  0.7538377446873296\n"
     ]
    }
   ],
   "source": [
    "# Case: Remove worst 3 per organ (total 15) [need to change n to 3 in print_stats function for this]\n",
    "metric = \"iou_score\"\n",
    "case = \"worst\"\n",
    "per_organ = True\n",
    "print_stats(df_metrics_team1, df_metrics_team2, df_metrics_team3, metric, case, per_organ)"
   ]
  },
  {
   "cell_type": "code",
   "execution_count": 40,
   "metadata": {},
   "outputs": [
    {
     "data": {
      "text/plain": [
       "0.8463438907519583"
      ]
     },
     "execution_count": 40,
     "metadata": {},
     "output_type": "execute_result"
    }
   ],
   "source": [
    "metric=\"dice_score\"\n",
    "indices_to_drop = df_metrics_team1[metric].nsmallest(5).index.get_level_values(0)\n",
    "team1_stats = df_metrics_team1.drop(indices_to_drop, inplace=False)\n",
    "team1_stats[metric].mean()"
   ]
  },
  {
   "cell_type": "code",
   "execution_count": 41,
   "metadata": {},
   "outputs": [
    {
     "data": {
      "text/plain": [
       "0.8452835771231538"
      ]
     },
     "execution_count": 41,
     "metadata": {},
     "output_type": "execute_result"
    }
   ],
   "source": [
    "metric=\"dice_score\"\n",
    "indices_to_drop = df_metrics_team2[metric].nsmallest(5).index.get_level_values(0)\n",
    "team2_stats = df_metrics_team2.drop(indices_to_drop, inplace=False)\n",
    "team2_stats[metric].mean()"
   ]
  },
  {
   "cell_type": "code",
   "execution_count": 42,
   "metadata": {},
   "outputs": [
    {
     "data": {
      "text/plain": [
       "0.844147576376886"
      ]
     },
     "execution_count": 42,
     "metadata": {},
     "output_type": "execute_result"
    }
   ],
   "source": [
    "metric=\"dice_score\"\n",
    "indices_to_drop = df_metrics_team3[metric].nsmallest(5).index.get_level_values(0)\n",
    "team3_stats = df_metrics_team3.drop(indices_to_drop, inplace=False)\n",
    "team3_stats[metric].mean()"
   ]
  },
  {
   "cell_type": "code",
   "execution_count": 43,
   "metadata": {},
   "outputs": [
    {
     "data": {
      "text/plain": [
       "0.7497321521745767"
      ]
     },
     "execution_count": 43,
     "metadata": {},
     "output_type": "execute_result"
    }
   ],
   "source": [
    "metric=\"iou_score\"\n",
    "indices_to_drop = df_metrics_team1[metric].nsmallest(5).index.get_level_values(0)\n",
    "team1_stats = df_metrics_team1.drop(indices_to_drop, inplace=False)\n",
    "team1_stats[metric].mean()"
   ]
  },
  {
   "cell_type": "code",
   "execution_count": 44,
   "metadata": {},
   "outputs": [
    {
     "data": {
      "text/plain": [
       "0.7480103939957221"
      ]
     },
     "execution_count": 44,
     "metadata": {},
     "output_type": "execute_result"
    }
   ],
   "source": [
    "metric=\"iou_score\"\n",
    "indices_to_drop = df_metrics_team2[metric].nsmallest(5).index.get_level_values(0)\n",
    "team2_stats = df_metrics_team2.drop(indices_to_drop, inplace=False)\n",
    "team2_stats[metric].mean()"
   ]
  },
  {
   "cell_type": "code",
   "execution_count": 45,
   "metadata": {},
   "outputs": [
    {
     "data": {
      "text/plain": [
       "0.7451230813785811"
      ]
     },
     "execution_count": 45,
     "metadata": {},
     "output_type": "execute_result"
    }
   ],
   "source": [
    "metric=\"iou_score\"\n",
    "indices_to_drop = df_metrics_team3[metric].nsmallest(5).index.get_level_values(0)\n",
    "team3_stats = df_metrics_team3.drop(indices_to_drop, inplace=False)\n",
    "team3_stats[metric].mean()"
   ]
  },
  {
   "cell_type": "code",
   "execution_count": null,
   "metadata": {},
   "outputs": [],
   "source": []
  },
  {
   "cell_type": "code",
   "execution_count": null,
   "metadata": {},
   "outputs": [],
   "source": []
  },
  {
   "attachments": {},
   "cell_type": "markdown",
   "metadata": {},
   "source": [
    "# Kendall's Tau between public and private leaderboard"
   ]
  },
  {
   "cell_type": "code",
   "execution_count": 27,
   "metadata": {},
   "outputs": [
    {
     "data": {
      "text/html": [
       "<div>\n",
       "<style scoped>\n",
       "    .dataframe tbody tr th:only-of-type {\n",
       "        vertical-align: middle;\n",
       "    }\n",
       "\n",
       "    .dataframe tbody tr th {\n",
       "        vertical-align: top;\n",
       "    }\n",
       "\n",
       "    .dataframe thead th {\n",
       "        text-align: right;\n",
       "    }\n",
       "</style>\n",
       "<table border=\"1\" class=\"dataframe\">\n",
       "  <thead>\n",
       "    <tr style=\"text-align: right;\">\n",
       "      <th></th>\n",
       "      <th>DateSubmitted</th>\n",
       "      <th>SubmissionId</th>\n",
       "      <th>TeamId</th>\n",
       "      <th>UserName</th>\n",
       "      <th>TeamName</th>\n",
       "      <th>IsSelected</th>\n",
       "      <th>PublicScore</th>\n",
       "      <th>PrivateScore</th>\n",
       "    </tr>\n",
       "  </thead>\n",
       "  <tbody>\n",
       "    <tr>\n",
       "      <th>0</th>\n",
       "      <td>2022-06-23 02:15:53</td>\n",
       "      <td>27177301</td>\n",
       "      <td>8805846</td>\n",
       "      <td>grapestone5321</td>\n",
       "      <td>Naruhiko Nakanishi</td>\n",
       "      <td>False</td>\n",
       "      <td>0.000178</td>\n",
       "      <td>0.000168</td>\n",
       "    </tr>\n",
       "    <tr>\n",
       "      <th>1</th>\n",
       "      <td>2022-06-23 02:44:43</td>\n",
       "      <td>27177527</td>\n",
       "      <td>8806966</td>\n",
       "      <td>nuoyanchen</td>\n",
       "      <td>Alvin Chen</td>\n",
       "      <td>False</td>\n",
       "      <td>0.000178</td>\n",
       "      <td>0.000168</td>\n",
       "    </tr>\n",
       "    <tr>\n",
       "      <th>2</th>\n",
       "      <td>2022-06-23 03:34:59</td>\n",
       "      <td>27177973</td>\n",
       "      <td>8806540</td>\n",
       "      <td>tanakar</td>\n",
       "      <td>tk</td>\n",
       "      <td>False</td>\n",
       "      <td>0.195355</td>\n",
       "      <td>0.193622</td>\n",
       "    </tr>\n",
       "    <tr>\n",
       "      <th>3</th>\n",
       "      <td>2022-06-23 04:12:12</td>\n",
       "      <td>27178221</td>\n",
       "      <td>8806540</td>\n",
       "      <td>tanakar</td>\n",
       "      <td>tk</td>\n",
       "      <td>False</td>\n",
       "      <td>0.462739</td>\n",
       "      <td>0.344833</td>\n",
       "    </tr>\n",
       "    <tr>\n",
       "      <th>4</th>\n",
       "      <td>2022-06-23 08:32:20</td>\n",
       "      <td>27180469</td>\n",
       "      <td>8806540</td>\n",
       "      <td>tanakar</td>\n",
       "      <td>tk</td>\n",
       "      <td>False</td>\n",
       "      <td>0.567092</td>\n",
       "      <td>0.467679</td>\n",
       "    </tr>\n",
       "  </tbody>\n",
       "</table>\n",
       "</div>"
      ],
      "text/plain": [
       "         DateSubmitted  SubmissionId   TeamId        UserName  \\\n",
       "0  2022-06-23 02:15:53      27177301  8805846  grapestone5321   \n",
       "1  2022-06-23 02:44:43      27177527  8806966      nuoyanchen   \n",
       "2  2022-06-23 03:34:59      27177973  8806540         tanakar   \n",
       "3  2022-06-23 04:12:12      27178221  8806540         tanakar   \n",
       "4  2022-06-23 08:32:20      27180469  8806540         tanakar   \n",
       "\n",
       "             TeamName  IsSelected  PublicScore  PrivateScore  \n",
       "0  Naruhiko Nakanishi       False     0.000178      0.000168  \n",
       "1          Alvin Chen       False     0.000178      0.000168  \n",
       "2                  tk       False     0.195355      0.193622  \n",
       "3                  tk       False     0.462739      0.344833  \n",
       "4                  tk       False     0.567092      0.467679  "
      ]
     },
     "execution_count": 27,
     "metadata": {},
     "output_type": "execute_result"
    }
   ],
   "source": [
    "\n",
    "df_all_teams = pd.read_csv(INPUT_PATH+f'winning-submissions/all-team-scores.csv')\n",
    "df_all_teams.head(5)"
   ]
  },
  {
   "cell_type": "code",
   "execution_count": 28,
   "metadata": {},
   "outputs": [
    {
     "data": {
      "text/plain": [
       "35402"
      ]
     },
     "execution_count": 28,
     "metadata": {},
     "output_type": "execute_result"
    }
   ],
   "source": [
    "df_all_teams.SubmissionId.count()"
   ]
  },
  {
   "cell_type": "code",
   "execution_count": 29,
   "metadata": {},
   "outputs": [
    {
     "data": {
      "text/plain": [
       "1174"
      ]
     },
     "execution_count": 29,
     "metadata": {},
     "output_type": "execute_result"
    }
   ],
   "source": [
    "len(df_all_teams.TeamId.unique())"
   ]
  },
  {
   "cell_type": "code",
   "execution_count": 30,
   "metadata": {},
   "outputs": [
    {
     "data": {
      "text/html": [
       "<div>\n",
       "<style scoped>\n",
       "    .dataframe tbody tr th:only-of-type {\n",
       "        vertical-align: middle;\n",
       "    }\n",
       "\n",
       "    .dataframe tbody tr th {\n",
       "        vertical-align: top;\n",
       "    }\n",
       "\n",
       "    .dataframe thead th {\n",
       "        text-align: right;\n",
       "    }\n",
       "</style>\n",
       "<table border=\"1\" class=\"dataframe\">\n",
       "  <thead>\n",
       "    <tr style=\"text-align: right;\">\n",
       "      <th></th>\n",
       "      <th>DateSubmitted</th>\n",
       "      <th>SubmissionId</th>\n",
       "      <th>TeamId</th>\n",
       "      <th>UserName</th>\n",
       "      <th>TeamName</th>\n",
       "      <th>IsSelected</th>\n",
       "      <th>PublicScore</th>\n",
       "      <th>PrivateScore</th>\n",
       "    </tr>\n",
       "  </thead>\n",
       "  <tbody>\n",
       "    <tr>\n",
       "      <th>10</th>\n",
       "      <td>2022-06-24 00:34:14</td>\n",
       "      <td>27188747</td>\n",
       "      <td>8805846</td>\n",
       "      <td>grapestone5321</td>\n",
       "      <td>Naruhiko Nakanishi</td>\n",
       "      <td>True</td>\n",
       "      <td>0.000178</td>\n",
       "      <td>0.000168</td>\n",
       "    </tr>\n",
       "    <tr>\n",
       "      <th>22</th>\n",
       "      <td>2022-06-24 07:31:25</td>\n",
       "      <td>27191942</td>\n",
       "      <td>8805826</td>\n",
       "      <td>kaerunantoka</td>\n",
       "      <td>kaerururu</td>\n",
       "      <td>True</td>\n",
       "      <td>0.491458</td>\n",
       "      <td>0.414213</td>\n",
       "    </tr>\n",
       "    <tr>\n",
       "      <th>201</th>\n",
       "      <td>2022-06-27 07:26:20</td>\n",
       "      <td>27226232</td>\n",
       "      <td>8814397</td>\n",
       "      <td>arnavr10880</td>\n",
       "      <td>ArnavR</td>\n",
       "      <td>True</td>\n",
       "      <td>0.644654</td>\n",
       "      <td>0.614323</td>\n",
       "    </tr>\n",
       "    <tr>\n",
       "      <th>244</th>\n",
       "      <td>2022-06-27 18:44:19</td>\n",
       "      <td>27232444</td>\n",
       "      <td>8818117</td>\n",
       "      <td>susnato</td>\n",
       "      <td>Susnato Dhar</td>\n",
       "      <td>True</td>\n",
       "      <td>0.535654</td>\n",
       "      <td>0.469059</td>\n",
       "    </tr>\n",
       "    <tr>\n",
       "      <th>285</th>\n",
       "      <td>2022-06-28 06:58:31</td>\n",
       "      <td>27237116</td>\n",
       "      <td>8807562</td>\n",
       "      <td>alexandergod</td>\n",
       "      <td>alex</td>\n",
       "      <td>True</td>\n",
       "      <td>0.644654</td>\n",
       "      <td>0.614323</td>\n",
       "    </tr>\n",
       "  </tbody>\n",
       "</table>\n",
       "</div>"
      ],
      "text/plain": [
       "           DateSubmitted  SubmissionId   TeamId        UserName  \\\n",
       "10   2022-06-24 00:34:14      27188747  8805846  grapestone5321   \n",
       "22   2022-06-24 07:31:25      27191942  8805826    kaerunantoka   \n",
       "201  2022-06-27 07:26:20      27226232  8814397     arnavr10880   \n",
       "244  2022-06-27 18:44:19      27232444  8818117         susnato   \n",
       "285  2022-06-28 06:58:31      27237116  8807562    alexandergod   \n",
       "\n",
       "               TeamName  IsSelected  PublicScore  PrivateScore  \n",
       "10   Naruhiko Nakanishi        True     0.000178      0.000168  \n",
       "22            kaerururu        True     0.491458      0.414213  \n",
       "201              ArnavR        True     0.644654      0.614323  \n",
       "244        Susnato Dhar        True     0.535654      0.469059  \n",
       "285                alex        True     0.644654      0.614323  "
      ]
     },
     "execution_count": 30,
     "metadata": {},
     "output_type": "execute_result"
    }
   ],
   "source": [
    "df_all_teams_submission = df_all_teams[df_all_teams[\"IsSelected\"] == True]\n",
    "df_all_teams_submission.head()"
   ]
  },
  {
   "cell_type": "code",
   "execution_count": 31,
   "metadata": {},
   "outputs": [
    {
     "data": {
      "text/plain": [
       "647"
      ]
     },
     "execution_count": 31,
     "metadata": {},
     "output_type": "execute_result"
    }
   ],
   "source": [
    "df_all_teams_submission.SubmissionId.count()"
   ]
  },
  {
   "cell_type": "code",
   "execution_count": 32,
   "metadata": {},
   "outputs": [
    {
     "data": {
      "text/plain": [
       "647"
      ]
     },
     "execution_count": 32,
     "metadata": {},
     "output_type": "execute_result"
    }
   ],
   "source": [
    "df_all_teams_submission.TeamId.count()"
   ]
  },
  {
   "cell_type": "code",
   "execution_count": 33,
   "metadata": {},
   "outputs": [
    {
     "data": {
      "text/plain": [
       "365"
      ]
     },
     "execution_count": 33,
     "metadata": {},
     "output_type": "execute_result"
    }
   ],
   "source": [
    "len(df_all_teams_submission.TeamId.unique())"
   ]
  },
  {
   "cell_type": "code",
   "execution_count": null,
   "metadata": {},
   "outputs": [],
   "source": [
    "# ranking based on private vs ranking based on public\n",
    "df_all_teams_sorted_private = df_all_teams.sort_values(\"PrivateScore\", ascending=False)\n",
    "df_all_teams_sorted_private.reset_index(drop=True, inplace=True)\n",
    "\n",
    "df_all_teams_sorted_public = df_all_teams.sort_values(\"PublicScore\", ascending=False)\n",
    "df_all_teams_sorted_public.reset_index(drop=True, inplace=True)\n",
    "\n",
    "public_lb = df_all_teams_sorted_public['TeamName']\n",
    "\n",
    "private_lb = df_all_teams_sorted_private['TeamName']\n",
    "\n",
    "tau, p_value = stats.kendalltau(public_lb, private_lb)\n",
    "\n",
    "# Print the calculated tau and p-value\n",
    "print(\"Kendall's tau:\", tau)\n",
    "print(\"p-value:\", p_value)"
   ]
  },
  {
   "cell_type": "code",
   "execution_count": 68,
   "metadata": {},
   "outputs": [
    {
     "name": "stdout",
     "output_type": "stream",
     "text": [
      "Kendall's tau: 0.7526500663696196\n",
      "p-value: 0.0\n"
     ]
    }
   ],
   "source": [
    "public_lb = df_all_teams['PublicScore']\n",
    "\n",
    "private_lb = df_all_teams['PrivateScore']\n",
    "\n",
    "tau, p_value = stats.kendalltau(public_lb, private_lb)\n",
    "\n",
    "# Print the calculated tau and p-value\n",
    "print(\"Kendall's tau:\", tau)\n",
    "print(\"p-value:\", p_value)"
   ]
  },
  {
   "cell_type": "code",
   "execution_count": 69,
   "metadata": {},
   "outputs": [
    {
     "name": "stdout",
     "output_type": "stream",
     "text": [
      "Kendall's tau: 0.8430560440855659\n",
      "p-value: 9.032270074512553e-226\n"
     ]
    }
   ],
   "source": [
    "public_lb = df_all_teams_submission['PublicScore']\n",
    "private_lb = df_all_teams_submission['PrivateScore']\n",
    "tau, p_value = stats.kendalltau(public_lb, private_lb)\n",
    "\n",
    "# Print the calculated tau and p-value\n",
    "print(\"Kendall's tau:\", tau)\n",
    "print(\"p-value:\", p_value)"
   ]
  },
  {
   "cell_type": "code",
   "execution_count": 70,
   "metadata": {},
   "outputs": [
    {
     "name": "stdout",
     "output_type": "stream",
     "text": [
      "Kendall's tau: 0.1532396714549361\n",
      "p-value: 0.023977519998514583\n"
     ]
    }
   ],
   "source": [
    "sorted_df = df_all_teams.sort_values(by='PrivateScore', ascending=False)\n",
    "n_cases = sorted_df.head(100)\n",
    "\n",
    "public_lb = n_cases['PublicScore']\n",
    "private_lb = n_cases['PrivateScore']\n",
    "tau, p_value = stats.kendalltau(public_lb, private_lb)\n",
    "\n",
    "# Print the calculated tau and p-value\n",
    "print(\"Kendall's tau:\", tau)\n",
    "print(\"p-value:\", p_value)"
   ]
  },
  {
   "cell_type": "code",
   "execution_count": 71,
   "metadata": {},
   "outputs": [
    {
     "name": "stdout",
     "output_type": "stream",
     "text": [
      "Kendall's tau: 0.7115254154360408\n",
      "p-value: 1.293608721140627e-50\n"
     ]
    }
   ],
   "source": [
    "sorted_df = df_all_teams_submission.sort_values(by='PrivateScore', ascending=False)\n",
    "n_cases = sorted_df.head(200)\n",
    "\n",
    "public_lb = n_cases['PublicScore']\n",
    "private_lb = n_cases['PrivateScore']\n",
    "tau, p_value = stats.kendalltau(public_lb, private_lb)\n",
    "\n",
    "# Print the calculated tau and p-value\n",
    "print(\"Kendall's tau:\", tau)\n",
    "print(\"p-value:\", p_value)"
   ]
  },
  {
   "cell_type": "code",
   "execution_count": 72,
   "metadata": {},
   "outputs": [
    {
     "name": "stdout",
     "output_type": "stream",
     "text": [
      "365\n",
      "Kendall's tau: 0.8381381064928418\n",
      "p-value: 2.8370895200241017e-126\n"
     ]
    }
   ],
   "source": [
    "sorted_df = df_all_teams_submission.sort_values(by='PrivateScore', ascending=False)\n",
    "\n",
    "df_all_teams_submission_unique_teams = sorted_df.drop_duplicates(subset='TeamName', inplace=False)\n",
    "print(len(df_all_teams_submission_unique_teams.TeamName.unique()))\n",
    "public_lb = df_all_teams_submission_unique_teams['PublicScore']\n",
    "private_lb = df_all_teams_submission_unique_teams['PrivateScore']\n",
    "tau, p_value = stats.kendalltau(public_lb, private_lb)\n",
    "\n",
    "# Print the calculated tau and p-value\n",
    "print(\"Kendall's tau:\", tau)\n",
    "print(\"p-value:\", p_value)"
   ]
  },
  {
   "cell_type": "code",
   "execution_count": 40,
   "metadata": {},
   "outputs": [
    {
     "name": "stdout",
     "output_type": "stream",
     "text": [
      "364 364\n",
      "Kendall's tau: 0.04988950443495899\n",
      "p-value: 0.1553420757986034\n"
     ]
    }
   ],
   "source": [
    "# top submission from all teams, private vs public ranking\n",
    "indices_to_keep = df_all_teams_submission.groupby('TeamName')['PrivateScore'].nlargest(1).index.get_level_values(1)\n",
    "df_top_submission_per_team = df_all_teams.iloc[indices_to_keep]\n",
    "\n",
    "private_sorted_df = df_top_submission_per_team.sort_values(by='PrivateScore', ascending=False)\n",
    "private_sorted_df = private_sorted_df.reset_index(drop=True)\n",
    "\n",
    "count = 1\n",
    "for index, row in private_sorted_df.iterrows():\n",
    "    private_sorted_df.loc[index, 'TeamRank'] = count\n",
    "    count +=1\n",
    "# n_cases = sorted_df.head(15)\n",
    "\n",
    "indices_to_keep1 = df_all_teams_submission.groupby('TeamName')['PublicScore'].nlargest(1).index.get_level_values(1)\n",
    "df_top_submission_per_team1 = df_all_teams.iloc[indices_to_keep1]\n",
    "\n",
    "public_sorted_df = df_top_submission_per_team1.sort_values(by='PublicScore', ascending=False)\n",
    "\n",
    "# n_cases.head()\n",
    "print(public_sorted_df.TeamId.count(), private_sorted_df.TeamId.count())\n",
    "\n",
    "public_lb = public_sorted_df['TeamId']\n",
    "private_lb = private_sorted_df['TeamId']\n",
    "tau, p_value = stats.kendalltau(public_lb, private_lb)\n",
    "\n",
    "# Print the calculated tau and p-value\n",
    "print(\"Kendall's tau:\", tau)\n",
    "print(\"p-value:\", p_value)"
   ]
  },
  {
   "cell_type": "code",
   "execution_count": 45,
   "metadata": {},
   "outputs": [
    {
     "data": {
      "text/html": [
       "<div>\n",
       "<style scoped>\n",
       "    .dataframe tbody tr th:only-of-type {\n",
       "        vertical-align: middle;\n",
       "    }\n",
       "\n",
       "    .dataframe tbody tr th {\n",
       "        vertical-align: top;\n",
       "    }\n",
       "\n",
       "    .dataframe thead th {\n",
       "        text-align: right;\n",
       "    }\n",
       "</style>\n",
       "<table border=\"1\" class=\"dataframe\">\n",
       "  <thead>\n",
       "    <tr style=\"text-align: right;\">\n",
       "      <th></th>\n",
       "      <th>DateSubmitted</th>\n",
       "      <th>SubmissionId</th>\n",
       "      <th>TeamId</th>\n",
       "      <th>UserName</th>\n",
       "      <th>TeamName</th>\n",
       "      <th>IsSelected</th>\n",
       "      <th>PublicScore</th>\n",
       "      <th>PrivateScore</th>\n",
       "    </tr>\n",
       "  </thead>\n",
       "  <tbody>\n",
       "    <tr>\n",
       "      <th>35285</th>\n",
       "      <td>2022-09-22 17:45:15</td>\n",
       "      <td>28201344</td>\n",
       "      <td>8809559</td>\n",
       "      <td>opusen</td>\n",
       "      <td>I need SegFormer</td>\n",
       "      <td>True</td>\n",
       "      <td>0.827166</td>\n",
       "      <td>0.835625</td>\n",
       "    </tr>\n",
       "    <tr>\n",
       "      <th>34657</th>\n",
       "      <td>2022-09-22 01:32:27</td>\n",
       "      <td>28188836</td>\n",
       "      <td>8807737</td>\n",
       "      <td>victorsd</td>\n",
       "      <td>Victor Durnov</td>\n",
       "      <td>True</td>\n",
       "      <td>0.841786</td>\n",
       "      <td>0.833936</td>\n",
       "    </tr>\n",
       "    <tr>\n",
       "      <th>35075</th>\n",
       "      <td>2022-09-22 13:09:08</td>\n",
       "      <td>28198390</td>\n",
       "      <td>8893081</td>\n",
       "      <td>vladimirsydor</td>\n",
       "      <td>Human Torus Team</td>\n",
       "      <td>True</td>\n",
       "      <td>0.839835</td>\n",
       "      <td>0.832669</td>\n",
       "    </tr>\n",
       "    <tr>\n",
       "      <th>35136</th>\n",
       "      <td>2022-09-22 14:27:08</td>\n",
       "      <td>28199042</td>\n",
       "      <td>9015880</td>\n",
       "      <td>rock139</td>\n",
       "      <td>Rock</td>\n",
       "      <td>True</td>\n",
       "      <td>0.839608</td>\n",
       "      <td>0.827177</td>\n",
       "    </tr>\n",
       "    <tr>\n",
       "      <th>34970</th>\n",
       "      <td>2022-09-22 10:05:35</td>\n",
       "      <td>28196147</td>\n",
       "      <td>8807628</td>\n",
       "      <td>carnozhao</td>\n",
       "      <td>Carno&amp;Roc</td>\n",
       "      <td>True</td>\n",
       "      <td>0.613091</td>\n",
       "      <td>0.825959</td>\n",
       "    </tr>\n",
       "    <tr>\n",
       "      <th>...</th>\n",
       "      <td>...</td>\n",
       "      <td>...</td>\n",
       "      <td>...</td>\n",
       "      <td>...</td>\n",
       "      <td>...</td>\n",
       "      <td>...</td>\n",
       "      <td>...</td>\n",
       "      <td>...</td>\n",
       "    </tr>\n",
       "    <tr>\n",
       "      <th>32962</th>\n",
       "      <td>2022-09-19 16:20:49</td>\n",
       "      <td>28164612</td>\n",
       "      <td>9115139</td>\n",
       "      <td>josephmuddle</td>\n",
       "      <td>Joseph Muddle</td>\n",
       "      <td>True</td>\n",
       "      <td>0.221049</td>\n",
       "      <td>0.109414</td>\n",
       "    </tr>\n",
       "    <tr>\n",
       "      <th>1755</th>\n",
       "      <td>2022-07-12 23:42:22</td>\n",
       "      <td>27417541</td>\n",
       "      <td>8815063</td>\n",
       "      <td>ubutton</td>\n",
       "      <td>ubutton</td>\n",
       "      <td>True</td>\n",
       "      <td>0.117173</td>\n",
       "      <td>0.084077</td>\n",
       "    </tr>\n",
       "    <tr>\n",
       "      <th>25159</th>\n",
       "      <td>2022-09-08 06:12:45</td>\n",
       "      <td>28045408</td>\n",
       "      <td>9125850</td>\n",
       "      <td>del=834dc156a8f21839</td>\n",
       "      <td>[Deleted] c1cc31d2-b73c-496a-a91d-03df453aa2ca</td>\n",
       "      <td>True</td>\n",
       "      <td>0.000000</td>\n",
       "      <td>0.000000</td>\n",
       "    </tr>\n",
       "    <tr>\n",
       "      <th>14653</th>\n",
       "      <td>2022-08-22 11:20:56</td>\n",
       "      <td>27888041</td>\n",
       "      <td>9040694</td>\n",
       "      <td>hidetotsuzuki</td>\n",
       "      <td>hideto_tsuzuki</td>\n",
       "      <td>True</td>\n",
       "      <td>0.000000</td>\n",
       "      <td>0.000000</td>\n",
       "    </tr>\n",
       "    <tr>\n",
       "      <th>26601</th>\n",
       "      <td>2022-09-10 07:40:50</td>\n",
       "      <td>28062569</td>\n",
       "      <td>9089687</td>\n",
       "      <td>zhenhuanhuang</td>\n",
       "      <td>zhenhuan huang</td>\n",
       "      <td>True</td>\n",
       "      <td>0.000000</td>\n",
       "      <td>0.000000</td>\n",
       "    </tr>\n",
       "  </tbody>\n",
       "</table>\n",
       "<p>364 rows × 8 columns</p>\n",
       "</div>"
      ],
      "text/plain": [
       "             DateSubmitted  SubmissionId   TeamId              UserName  \\\n",
       "35285  2022-09-22 17:45:15      28201344  8809559                opusen   \n",
       "34657  2022-09-22 01:32:27      28188836  8807737              victorsd   \n",
       "35075  2022-09-22 13:09:08      28198390  8893081         vladimirsydor   \n",
       "35136  2022-09-22 14:27:08      28199042  9015880               rock139   \n",
       "34970  2022-09-22 10:05:35      28196147  8807628             carnozhao   \n",
       "...                    ...           ...      ...                   ...   \n",
       "32962  2022-09-19 16:20:49      28164612  9115139          josephmuddle   \n",
       "1755   2022-07-12 23:42:22      27417541  8815063               ubutton   \n",
       "25159  2022-09-08 06:12:45      28045408  9125850  del=834dc156a8f21839   \n",
       "14653  2022-08-22 11:20:56      27888041  9040694         hidetotsuzuki   \n",
       "26601  2022-09-10 07:40:50      28062569  9089687         zhenhuanhuang   \n",
       "\n",
       "                                             TeamName  IsSelected  \\\n",
       "35285                                I need SegFormer        True   \n",
       "34657                                   Victor Durnov        True   \n",
       "35075                                Human Torus Team        True   \n",
       "35136                                            Rock        True   \n",
       "34970                                       Carno&Roc        True   \n",
       "...                                               ...         ...   \n",
       "32962                                   Joseph Muddle        True   \n",
       "1755                                          ubutton        True   \n",
       "25159  [Deleted] c1cc31d2-b73c-496a-a91d-03df453aa2ca        True   \n",
       "14653                                  hideto_tsuzuki        True   \n",
       "26601                                  zhenhuan huang        True   \n",
       "\n",
       "       PublicScore  PrivateScore  \n",
       "35285     0.827166      0.835625  \n",
       "34657     0.841786      0.833936  \n",
       "35075     0.839835      0.832669  \n",
       "35136     0.839608      0.827177  \n",
       "34970     0.613091      0.825959  \n",
       "...            ...           ...  \n",
       "32962     0.221049      0.109414  \n",
       "1755      0.117173      0.084077  \n",
       "25159     0.000000      0.000000  \n",
       "14653     0.000000      0.000000  \n",
       "26601     0.000000      0.000000  \n",
       "\n",
       "[364 rows x 8 columns]"
      ]
     },
     "metadata": {},
     "output_type": "display_data"
    },
    {
     "data": {
      "text/html": [
       "<div>\n",
       "<style scoped>\n",
       "    .dataframe tbody tr th:only-of-type {\n",
       "        vertical-align: middle;\n",
       "    }\n",
       "\n",
       "    .dataframe tbody tr th {\n",
       "        vertical-align: top;\n",
       "    }\n",
       "\n",
       "    .dataframe thead th {\n",
       "        text-align: right;\n",
       "    }\n",
       "</style>\n",
       "<table border=\"1\" class=\"dataframe\">\n",
       "  <thead>\n",
       "    <tr style=\"text-align: right;\">\n",
       "      <th></th>\n",
       "      <th>DateSubmitted</th>\n",
       "      <th>SubmissionId</th>\n",
       "      <th>TeamId</th>\n",
       "      <th>UserName</th>\n",
       "      <th>TeamName</th>\n",
       "      <th>IsSelected</th>\n",
       "      <th>PublicScore</th>\n",
       "      <th>PrivateScore</th>\n",
       "    </tr>\n",
       "  </thead>\n",
       "  <tbody>\n",
       "    <tr>\n",
       "      <th>34657</th>\n",
       "      <td>2022-09-22 01:32:27</td>\n",
       "      <td>28188836</td>\n",
       "      <td>8807737</td>\n",
       "      <td>victorsd</td>\n",
       "      <td>Victor Durnov</td>\n",
       "      <td>True</td>\n",
       "      <td>0.841786</td>\n",
       "      <td>0.833936</td>\n",
       "    </tr>\n",
       "    <tr>\n",
       "      <th>34749</th>\n",
       "      <td>2022-09-22 04:09:44</td>\n",
       "      <td>28191185</td>\n",
       "      <td>8993571</td>\n",
       "      <td>qdv206</td>\n",
       "      <td>HCMUT_Alumni</td>\n",
       "      <td>True</td>\n",
       "      <td>0.839835</td>\n",
       "      <td>0.822673</td>\n",
       "    </tr>\n",
       "    <tr>\n",
       "      <th>35075</th>\n",
       "      <td>2022-09-22 13:09:08</td>\n",
       "      <td>28198390</td>\n",
       "      <td>8893081</td>\n",
       "      <td>vladimirsydor</td>\n",
       "      <td>Human Torus Team</td>\n",
       "      <td>True</td>\n",
       "      <td>0.839835</td>\n",
       "      <td>0.832669</td>\n",
       "    </tr>\n",
       "    <tr>\n",
       "      <th>35136</th>\n",
       "      <td>2022-09-22 14:27:08</td>\n",
       "      <td>28199042</td>\n",
       "      <td>9015880</td>\n",
       "      <td>rock139</td>\n",
       "      <td>Rock</td>\n",
       "      <td>True</td>\n",
       "      <td>0.839608</td>\n",
       "      <td>0.827177</td>\n",
       "    </tr>\n",
       "    <tr>\n",
       "      <th>34900</th>\n",
       "      <td>2022-09-22 07:57:42</td>\n",
       "      <td>28194378</td>\n",
       "      <td>8928461</td>\n",
       "      <td>qtakka</td>\n",
       "      <td>Q_takka</td>\n",
       "      <td>True</td>\n",
       "      <td>0.836843</td>\n",
       "      <td>0.825170</td>\n",
       "    </tr>\n",
       "    <tr>\n",
       "      <th>...</th>\n",
       "      <td>...</td>\n",
       "      <td>...</td>\n",
       "      <td>...</td>\n",
       "      <td>...</td>\n",
       "      <td>...</td>\n",
       "      <td>...</td>\n",
       "      <td>...</td>\n",
       "      <td>...</td>\n",
       "    </tr>\n",
       "    <tr>\n",
       "      <th>2152</th>\n",
       "      <td>2022-07-15 09:10:42</td>\n",
       "      <td>27464296</td>\n",
       "      <td>8856260</td>\n",
       "      <td>riverdeer</td>\n",
       "      <td>Byeonghun</td>\n",
       "      <td>True</td>\n",
       "      <td>0.170309</td>\n",
       "      <td>0.162811</td>\n",
       "    </tr>\n",
       "    <tr>\n",
       "      <th>1755</th>\n",
       "      <td>2022-07-12 23:42:22</td>\n",
       "      <td>27417541</td>\n",
       "      <td>8815063</td>\n",
       "      <td>ubutton</td>\n",
       "      <td>ubutton</td>\n",
       "      <td>True</td>\n",
       "      <td>0.117173</td>\n",
       "      <td>0.084077</td>\n",
       "    </tr>\n",
       "    <tr>\n",
       "      <th>14653</th>\n",
       "      <td>2022-08-22 11:20:56</td>\n",
       "      <td>27888041</td>\n",
       "      <td>9040694</td>\n",
       "      <td>hidetotsuzuki</td>\n",
       "      <td>hideto_tsuzuki</td>\n",
       "      <td>True</td>\n",
       "      <td>0.000000</td>\n",
       "      <td>0.000000</td>\n",
       "    </tr>\n",
       "    <tr>\n",
       "      <th>26601</th>\n",
       "      <td>2022-09-10 07:40:50</td>\n",
       "      <td>28062569</td>\n",
       "      <td>9089687</td>\n",
       "      <td>zhenhuanhuang</td>\n",
       "      <td>zhenhuan huang</td>\n",
       "      <td>True</td>\n",
       "      <td>0.000000</td>\n",
       "      <td>0.000000</td>\n",
       "    </tr>\n",
       "    <tr>\n",
       "      <th>25159</th>\n",
       "      <td>2022-09-08 06:12:45</td>\n",
       "      <td>28045408</td>\n",
       "      <td>9125850</td>\n",
       "      <td>del=834dc156a8f21839</td>\n",
       "      <td>[Deleted] c1cc31d2-b73c-496a-a91d-03df453aa2ca</td>\n",
       "      <td>True</td>\n",
       "      <td>0.000000</td>\n",
       "      <td>0.000000</td>\n",
       "    </tr>\n",
       "  </tbody>\n",
       "</table>\n",
       "<p>364 rows × 8 columns</p>\n",
       "</div>"
      ],
      "text/plain": [
       "             DateSubmitted  SubmissionId   TeamId              UserName  \\\n",
       "34657  2022-09-22 01:32:27      28188836  8807737              victorsd   \n",
       "34749  2022-09-22 04:09:44      28191185  8993571                qdv206   \n",
       "35075  2022-09-22 13:09:08      28198390  8893081         vladimirsydor   \n",
       "35136  2022-09-22 14:27:08      28199042  9015880               rock139   \n",
       "34900  2022-09-22 07:57:42      28194378  8928461                qtakka   \n",
       "...                    ...           ...      ...                   ...   \n",
       "2152   2022-07-15 09:10:42      27464296  8856260             riverdeer   \n",
       "1755   2022-07-12 23:42:22      27417541  8815063               ubutton   \n",
       "14653  2022-08-22 11:20:56      27888041  9040694         hidetotsuzuki   \n",
       "26601  2022-09-10 07:40:50      28062569  9089687         zhenhuanhuang   \n",
       "25159  2022-09-08 06:12:45      28045408  9125850  del=834dc156a8f21839   \n",
       "\n",
       "                                             TeamName  IsSelected  \\\n",
       "34657                                   Victor Durnov        True   \n",
       "34749                                    HCMUT_Alumni        True   \n",
       "35075                                Human Torus Team        True   \n",
       "35136                                            Rock        True   \n",
       "34900                                         Q_takka        True   \n",
       "...                                               ...         ...   \n",
       "2152                                        Byeonghun        True   \n",
       "1755                                          ubutton        True   \n",
       "14653                                  hideto_tsuzuki        True   \n",
       "26601                                  zhenhuan huang        True   \n",
       "25159  [Deleted] c1cc31d2-b73c-496a-a91d-03df453aa2ca        True   \n",
       "\n",
       "       PublicScore  PrivateScore  \n",
       "34657     0.841786      0.833936  \n",
       "34749     0.839835      0.822673  \n",
       "35075     0.839835      0.832669  \n",
       "35136     0.839608      0.827177  \n",
       "34900     0.836843      0.825170  \n",
       "...            ...           ...  \n",
       "2152      0.170309      0.162811  \n",
       "1755      0.117173      0.084077  \n",
       "14653     0.000000      0.000000  \n",
       "26601     0.000000      0.000000  \n",
       "25159     0.000000      0.000000  \n",
       "\n",
       "[364 rows x 8 columns]"
      ]
     },
     "metadata": {},
     "output_type": "display_data"
    }
   ],
   "source": [
    "display(private_sorted_df, public_sorted_df)"
   ]
  },
  {
   "cell_type": "code",
   "execution_count": 62,
   "metadata": {},
   "outputs": [
    {
     "name": "stdout",
     "output_type": "stream",
     "text": [
      "15\n",
      "Kendall's tau: 0.18095238095238098\n",
      "p-value: 0.3794503959627968\n"
     ]
    }
   ],
   "source": [
    "\n",
    "# Top 50 teams best submission\n",
    "indices_to_keep = df_all_teams_submission.groupby('TeamName')['PrivateScore'].nlargest(1).index.get_level_values(1)\n",
    "df_top_submission_per_team = df_all_teams.iloc[indices_to_keep]\n",
    "\n",
    "sorted_df = df_top_submission_per_team.sort_values(by='PrivateScore', ascending=False)\n",
    "n_cases = sorted_df.head(15)\n",
    "\n",
    "n_cases.head()\n",
    "print(n_cases.TeamId.count())\n",
    "\n",
    "public_lb = n_cases['PublicScore']\n",
    "private_lb = n_cases['PrivateScore']\n",
    "tau, p_value = stats.kendalltau(public_lb, private_lb)\n",
    "\n",
    "# Print the calculated tau and p-value\n",
    "print(\"Kendall's tau:\", tau)\n",
    "print(\"p-value:\", p_value)"
   ]
  },
  {
   "cell_type": "code",
   "execution_count": null,
   "metadata": {},
   "outputs": [],
   "source": [
    "n_cases"
   ]
  },
  {
   "attachments": {},
   "cell_type": "markdown",
   "metadata": {},
   "source": [
    "# Top 50 teams analysis"
   ]
  },
  {
   "cell_type": "code",
   "execution_count": 17,
   "metadata": {},
   "outputs": [
    {
     "data": {
      "text/html": [
       "<div>\n",
       "<style scoped>\n",
       "    .dataframe tbody tr th:only-of-type {\n",
       "        vertical-align: middle;\n",
       "    }\n",
       "\n",
       "    .dataframe tbody tr th {\n",
       "        vertical-align: top;\n",
       "    }\n",
       "\n",
       "    .dataframe thead th {\n",
       "        text-align: right;\n",
       "    }\n",
       "</style>\n",
       "<table border=\"1\" class=\"dataframe\">\n",
       "  <thead>\n",
       "    <tr style=\"text-align: right;\">\n",
       "      <th></th>\n",
       "      <th>TeamName</th>\n",
       "      <th>dice_score</th>\n",
       "      <th>iou_score</th>\n",
       "      <th>hd_score</th>\n",
       "      <th>hd95_score</th>\n",
       "    </tr>\n",
       "  </thead>\n",
       "  <tbody>\n",
       "  </tbody>\n",
       "</table>\n",
       "</div>"
      ],
      "text/plain": [
       "Empty DataFrame\n",
       "Columns: [TeamName, dice_score, iou_score, hd_score, hd95_score]\n",
       "Index: []"
      ]
     },
     "execution_count": 17,
     "metadata": {},
     "output_type": "execute_result"
    }
   ],
   "source": [
    "column_names = ['TeamName', 'dice_score', 'iou_score', 'hd_score', 'hd95_score']\n",
    "df_all_metrics_top50 = pd.DataFrame(columns=column_names)\n",
    "df_all_metrics_top50"
   ]
  },
  {
   "cell_type": "code",
   "execution_count": null,
   "metadata": {},
   "outputs": [],
   "source": [
    "for i in range(1,51):\n",
    "    # metric = \"iou_score\"\n",
    "    team = f\"team_{i}\"\n",
    "    if i == 1 or i == 2 or i == 3:\n",
    "        df_metrics = pd.read_csv(INPUT_PATH+f'winning-submissions/{team}/metrics.csv')\n",
    "    else:\n",
    "        df_metrics = pd.read_csv(INPUT_PATH+f'winning-submissions/other_top50_teams/{team}/metrics.csv')\n",
    "    # sorted_df = df_metrics.sort_values(by='PrivateScore', ascending=False)\n",
    "    dice_mean = df_metrics['dice_score'].mean()\n",
    "    iou_mean = df_metrics['iou_score'].mean()\n",
    "    hd_mean = df_metrics['hd_score'].mean()\n",
    "    hd95_mean = df_metrics['hd95_score'].mean()\n",
    "\n",
    "    new_row = {'TeamName' : team, 'dice_score' : dice_mean, 'iou_score' : iou_mean, 'hd_score' : hd_mean, 'hd95_score' : hd95_mean}\n",
    "\n",
    "    df_all_metrics_top50 = df_all_metrics_top50.append(new_row, ignore_index=True)\n",
    "\n",
    "\n"
   ]
  },
  {
   "cell_type": "code",
   "execution_count": 19,
   "metadata": {},
   "outputs": [
    {
     "data": {
      "text/html": [
       "<div>\n",
       "<style scoped>\n",
       "    .dataframe tbody tr th:only-of-type {\n",
       "        vertical-align: middle;\n",
       "    }\n",
       "\n",
       "    .dataframe tbody tr th {\n",
       "        vertical-align: top;\n",
       "    }\n",
       "\n",
       "    .dataframe thead th {\n",
       "        text-align: right;\n",
       "    }\n",
       "</style>\n",
       "<table border=\"1\" class=\"dataframe\">\n",
       "  <thead>\n",
       "    <tr style=\"text-align: right;\">\n",
       "      <th></th>\n",
       "      <th>TeamName</th>\n",
       "      <th>dice_score</th>\n",
       "      <th>iou_score</th>\n",
       "      <th>hd_score</th>\n",
       "      <th>hd95_score</th>\n",
       "    </tr>\n",
       "  </thead>\n",
       "  <tbody>\n",
       "    <tr>\n",
       "      <th>0</th>\n",
       "      <td>team_1</td>\n",
       "      <td>0.835616</td>\n",
       "      <td>0.738462</td>\n",
       "      <td>201.991753</td>\n",
       "      <td>380.928247</td>\n",
       "    </tr>\n",
       "    <tr>\n",
       "      <th>1</th>\n",
       "      <td>team_2</td>\n",
       "      <td>0.833929</td>\n",
       "      <td>0.736247</td>\n",
       "      <td>261.016578</td>\n",
       "      <td>392.336002</td>\n",
       "    </tr>\n",
       "    <tr>\n",
       "      <th>2</th>\n",
       "      <td>team_3</td>\n",
       "      <td>0.832661</td>\n",
       "      <td>0.733348</td>\n",
       "      <td>268.145931</td>\n",
       "      <td>406.362649</td>\n",
       "    </tr>\n",
       "    <tr>\n",
       "      <th>3</th>\n",
       "      <td>team_4</td>\n",
       "      <td>0.824744</td>\n",
       "      <td>0.724394</td>\n",
       "      <td>202.038490</td>\n",
       "      <td>389.344642</td>\n",
       "    </tr>\n",
       "    <tr>\n",
       "      <th>4</th>\n",
       "      <td>team_5</td>\n",
       "      <td>0.825953</td>\n",
       "      <td>0.727103</td>\n",
       "      <td>186.205165</td>\n",
       "      <td>363.487386</td>\n",
       "    </tr>\n",
       "    <tr>\n",
       "      <th>5</th>\n",
       "      <td>team_6</td>\n",
       "      <td>0.825355</td>\n",
       "      <td>0.727711</td>\n",
       "      <td>212.415925</td>\n",
       "      <td>368.317201</td>\n",
       "    </tr>\n",
       "    <tr>\n",
       "      <th>6</th>\n",
       "      <td>team_7</td>\n",
       "      <td>0.825162</td>\n",
       "      <td>0.725917</td>\n",
       "      <td>289.557443</td>\n",
       "      <td>386.677818</td>\n",
       "    </tr>\n",
       "    <tr>\n",
       "      <th>7</th>\n",
       "      <td>team_8</td>\n",
       "      <td>0.824804</td>\n",
       "      <td>0.724025</td>\n",
       "      <td>240.503372</td>\n",
       "      <td>399.504098</td>\n",
       "    </tr>\n",
       "    <tr>\n",
       "      <th>8</th>\n",
       "      <td>team_9</td>\n",
       "      <td>0.823342</td>\n",
       "      <td>0.724083</td>\n",
       "      <td>178.454873</td>\n",
       "      <td>369.256189</td>\n",
       "    </tr>\n",
       "    <tr>\n",
       "      <th>9</th>\n",
       "      <td>team_10</td>\n",
       "      <td>0.822665</td>\n",
       "      <td>0.722829</td>\n",
       "      <td>249.206046</td>\n",
       "      <td>385.919631</td>\n",
       "    </tr>\n",
       "    <tr>\n",
       "      <th>10</th>\n",
       "      <td>team_11</td>\n",
       "      <td>0.820494</td>\n",
       "      <td>0.718804</td>\n",
       "      <td>217.992671</td>\n",
       "      <td>405.419467</td>\n",
       "    </tr>\n",
       "    <tr>\n",
       "      <th>11</th>\n",
       "      <td>team_12</td>\n",
       "      <td>0.819907</td>\n",
       "      <td>0.720152</td>\n",
       "      <td>247.135002</td>\n",
       "      <td>392.926936</td>\n",
       "    </tr>\n",
       "    <tr>\n",
       "      <th>12</th>\n",
       "      <td>team_13</td>\n",
       "      <td>0.819130</td>\n",
       "      <td>0.717076</td>\n",
       "      <td>227.059749</td>\n",
       "      <td>387.847328</td>\n",
       "    </tr>\n",
       "    <tr>\n",
       "      <th>13</th>\n",
       "      <td>team_14</td>\n",
       "      <td>0.818784</td>\n",
       "      <td>0.717634</td>\n",
       "      <td>204.706534</td>\n",
       "      <td>395.681002</td>\n",
       "    </tr>\n",
       "    <tr>\n",
       "      <th>14</th>\n",
       "      <td>team_15</td>\n",
       "      <td>0.817438</td>\n",
       "      <td>0.717222</td>\n",
       "      <td>231.491122</td>\n",
       "      <td>391.591762</td>\n",
       "    </tr>\n",
       "    <tr>\n",
       "      <th>15</th>\n",
       "      <td>team_16</td>\n",
       "      <td>0.814089</td>\n",
       "      <td>0.713238</td>\n",
       "      <td>297.549747</td>\n",
       "      <td>400.700082</td>\n",
       "    </tr>\n",
       "    <tr>\n",
       "      <th>16</th>\n",
       "      <td>team_17</td>\n",
       "      <td>0.814948</td>\n",
       "      <td>0.713123</td>\n",
       "      <td>186.052207</td>\n",
       "      <td>389.184633</td>\n",
       "    </tr>\n",
       "    <tr>\n",
       "      <th>17</th>\n",
       "      <td>team_18</td>\n",
       "      <td>0.814632</td>\n",
       "      <td>0.713361</td>\n",
       "      <td>207.615358</td>\n",
       "      <td>382.418635</td>\n",
       "    </tr>\n",
       "    <tr>\n",
       "      <th>18</th>\n",
       "      <td>team_19</td>\n",
       "      <td>0.814387</td>\n",
       "      <td>0.713701</td>\n",
       "      <td>232.912989</td>\n",
       "      <td>395.306132</td>\n",
       "    </tr>\n",
       "    <tr>\n",
       "      <th>19</th>\n",
       "      <td>team_20</td>\n",
       "      <td>0.809155</td>\n",
       "      <td>0.702849</td>\n",
       "      <td>218.452792</td>\n",
       "      <td>393.905871</td>\n",
       "    </tr>\n",
       "    <tr>\n",
       "      <th>20</th>\n",
       "      <td>team_21</td>\n",
       "      <td>0.803650</td>\n",
       "      <td>0.695938</td>\n",
       "      <td>284.742850</td>\n",
       "      <td>424.306677</td>\n",
       "    </tr>\n",
       "    <tr>\n",
       "      <th>21</th>\n",
       "      <td>team_22</td>\n",
       "      <td>0.811637</td>\n",
       "      <td>0.711210</td>\n",
       "      <td>202.285737</td>\n",
       "      <td>380.324503</td>\n",
       "    </tr>\n",
       "    <tr>\n",
       "      <th>22</th>\n",
       "      <td>team_23</td>\n",
       "      <td>0.812580</td>\n",
       "      <td>0.710890</td>\n",
       "      <td>246.335312</td>\n",
       "      <td>385.094240</td>\n",
       "    </tr>\n",
       "    <tr>\n",
       "      <th>23</th>\n",
       "      <td>team_24</td>\n",
       "      <td>0.812443</td>\n",
       "      <td>0.710357</td>\n",
       "      <td>213.810102</td>\n",
       "      <td>390.964773</td>\n",
       "    </tr>\n",
       "    <tr>\n",
       "      <th>24</th>\n",
       "      <td>team_25</td>\n",
       "      <td>0.812318</td>\n",
       "      <td>0.709355</td>\n",
       "      <td>214.882000</td>\n",
       "      <td>388.143541</td>\n",
       "    </tr>\n",
       "    <tr>\n",
       "      <th>25</th>\n",
       "      <td>team_26</td>\n",
       "      <td>0.810068</td>\n",
       "      <td>0.700955</td>\n",
       "      <td>199.847898</td>\n",
       "      <td>424.342796</td>\n",
       "    </tr>\n",
       "    <tr>\n",
       "      <th>26</th>\n",
       "      <td>team_27</td>\n",
       "      <td>0.808477</td>\n",
       "      <td>0.703046</td>\n",
       "      <td>218.373962</td>\n",
       "      <td>410.532366</td>\n",
       "    </tr>\n",
       "    <tr>\n",
       "      <th>27</th>\n",
       "      <td>team_28</td>\n",
       "      <td>0.805709</td>\n",
       "      <td>0.698541</td>\n",
       "      <td>224.627259</td>\n",
       "      <td>399.475431</td>\n",
       "    </tr>\n",
       "    <tr>\n",
       "      <th>28</th>\n",
       "      <td>team_29</td>\n",
       "      <td>0.796718</td>\n",
       "      <td>0.688948</td>\n",
       "      <td>292.367499</td>\n",
       "      <td>401.951620</td>\n",
       "    </tr>\n",
       "    <tr>\n",
       "      <th>29</th>\n",
       "      <td>team_30</td>\n",
       "      <td>0.789057</td>\n",
       "      <td>0.685176</td>\n",
       "      <td>277.113852</td>\n",
       "      <td>415.653631</td>\n",
       "    </tr>\n",
       "    <tr>\n",
       "      <th>30</th>\n",
       "      <td>team_31</td>\n",
       "      <td>0.802974</td>\n",
       "      <td>0.697731</td>\n",
       "      <td>224.663274</td>\n",
       "      <td>383.007762</td>\n",
       "    </tr>\n",
       "    <tr>\n",
       "      <th>31</th>\n",
       "      <td>team_32</td>\n",
       "      <td>0.806690</td>\n",
       "      <td>0.705497</td>\n",
       "      <td>207.343563</td>\n",
       "      <td>426.735718</td>\n",
       "    </tr>\n",
       "    <tr>\n",
       "      <th>32</th>\n",
       "      <td>team_33</td>\n",
       "      <td>0.800047</td>\n",
       "      <td>0.695258</td>\n",
       "      <td>208.885700</td>\n",
       "      <td>415.768317</td>\n",
       "    </tr>\n",
       "    <tr>\n",
       "      <th>33</th>\n",
       "      <td>team_34</td>\n",
       "      <td>0.805063</td>\n",
       "      <td>0.699041</td>\n",
       "      <td>229.914329</td>\n",
       "      <td>385.041357</td>\n",
       "    </tr>\n",
       "    <tr>\n",
       "      <th>34</th>\n",
       "      <td>team_35</td>\n",
       "      <td>0.805182</td>\n",
       "      <td>0.701083</td>\n",
       "      <td>260.332331</td>\n",
       "      <td>402.818789</td>\n",
       "    </tr>\n",
       "    <tr>\n",
       "      <th>35</th>\n",
       "      <td>team_36</td>\n",
       "      <td>0.805535</td>\n",
       "      <td>0.699149</td>\n",
       "      <td>263.969398</td>\n",
       "      <td>412.066932</td>\n",
       "    </tr>\n",
       "    <tr>\n",
       "      <th>36</th>\n",
       "      <td>team_37</td>\n",
       "      <td>0.798853</td>\n",
       "      <td>0.695286</td>\n",
       "      <td>220.187121</td>\n",
       "      <td>387.029635</td>\n",
       "    </tr>\n",
       "    <tr>\n",
       "      <th>37</th>\n",
       "      <td>team_38</td>\n",
       "      <td>0.797459</td>\n",
       "      <td>0.694136</td>\n",
       "      <td>248.173746</td>\n",
       "      <td>398.959532</td>\n",
       "    </tr>\n",
       "    <tr>\n",
       "      <th>38</th>\n",
       "      <td>team_39</td>\n",
       "      <td>0.802248</td>\n",
       "      <td>0.694805</td>\n",
       "      <td>223.639009</td>\n",
       "      <td>399.993394</td>\n",
       "    </tr>\n",
       "    <tr>\n",
       "      <th>39</th>\n",
       "      <td>team_40</td>\n",
       "      <td>0.791561</td>\n",
       "      <td>0.686860</td>\n",
       "      <td>263.074228</td>\n",
       "      <td>399.848914</td>\n",
       "    </tr>\n",
       "    <tr>\n",
       "      <th>40</th>\n",
       "      <td>team_41</td>\n",
       "      <td>0.781748</td>\n",
       "      <td>0.671092</td>\n",
       "      <td>181.805899</td>\n",
       "      <td>427.378148</td>\n",
       "    </tr>\n",
       "    <tr>\n",
       "      <th>41</th>\n",
       "      <td>team_42</td>\n",
       "      <td>0.801776</td>\n",
       "      <td>0.697441</td>\n",
       "      <td>201.102812</td>\n",
       "      <td>411.581264</td>\n",
       "    </tr>\n",
       "    <tr>\n",
       "      <th>42</th>\n",
       "      <td>team_43</td>\n",
       "      <td>0.801306</td>\n",
       "      <td>0.697886</td>\n",
       "      <td>242.613483</td>\n",
       "      <td>426.833951</td>\n",
       "    </tr>\n",
       "    <tr>\n",
       "      <th>43</th>\n",
       "      <td>team_44</td>\n",
       "      <td>0.799077</td>\n",
       "      <td>0.692350</td>\n",
       "      <td>269.192476</td>\n",
       "      <td>402.303824</td>\n",
       "    </tr>\n",
       "    <tr>\n",
       "      <th>44</th>\n",
       "      <td>team_45</td>\n",
       "      <td>0.799950</td>\n",
       "      <td>0.696150</td>\n",
       "      <td>248.719175</td>\n",
       "      <td>418.170210</td>\n",
       "    </tr>\n",
       "    <tr>\n",
       "      <th>45</th>\n",
       "      <td>team_46</td>\n",
       "      <td>0.799475</td>\n",
       "      <td>0.691390</td>\n",
       "      <td>325.103230</td>\n",
       "      <td>417.373343</td>\n",
       "    </tr>\n",
       "    <tr>\n",
       "      <th>46</th>\n",
       "      <td>team_47</td>\n",
       "      <td>0.799184</td>\n",
       "      <td>0.694519</td>\n",
       "      <td>230.150532</td>\n",
       "      <td>414.007400</td>\n",
       "    </tr>\n",
       "    <tr>\n",
       "      <th>47</th>\n",
       "      <td>team_48</td>\n",
       "      <td>0.798772</td>\n",
       "      <td>0.691864</td>\n",
       "      <td>198.788254</td>\n",
       "      <td>427.842202</td>\n",
       "    </tr>\n",
       "    <tr>\n",
       "      <th>48</th>\n",
       "      <td>team_49</td>\n",
       "      <td>0.786115</td>\n",
       "      <td>0.677700</td>\n",
       "      <td>232.265139</td>\n",
       "      <td>428.378092</td>\n",
       "    </tr>\n",
       "    <tr>\n",
       "      <th>49</th>\n",
       "      <td>team_50</td>\n",
       "      <td>0.796606</td>\n",
       "      <td>0.690417</td>\n",
       "      <td>205.167460</td>\n",
       "      <td>419.790811</td>\n",
       "    </tr>\n",
       "  </tbody>\n",
       "</table>\n",
       "</div>"
      ],
      "text/plain": [
       "   TeamName  dice_score  iou_score    hd_score  hd95_score\n",
       "0    team_1    0.835616   0.738462  201.991753  380.928247\n",
       "1    team_2    0.833929   0.736247  261.016578  392.336002\n",
       "2    team_3    0.832661   0.733348  268.145931  406.362649\n",
       "3    team_4    0.824744   0.724394  202.038490  389.344642\n",
       "4    team_5    0.825953   0.727103  186.205165  363.487386\n",
       "5    team_6    0.825355   0.727711  212.415925  368.317201\n",
       "6    team_7    0.825162   0.725917  289.557443  386.677818\n",
       "7    team_8    0.824804   0.724025  240.503372  399.504098\n",
       "8    team_9    0.823342   0.724083  178.454873  369.256189\n",
       "9   team_10    0.822665   0.722829  249.206046  385.919631\n",
       "10  team_11    0.820494   0.718804  217.992671  405.419467\n",
       "11  team_12    0.819907   0.720152  247.135002  392.926936\n",
       "12  team_13    0.819130   0.717076  227.059749  387.847328\n",
       "13  team_14    0.818784   0.717634  204.706534  395.681002\n",
       "14  team_15    0.817438   0.717222  231.491122  391.591762\n",
       "15  team_16    0.814089   0.713238  297.549747  400.700082\n",
       "16  team_17    0.814948   0.713123  186.052207  389.184633\n",
       "17  team_18    0.814632   0.713361  207.615358  382.418635\n",
       "18  team_19    0.814387   0.713701  232.912989  395.306132\n",
       "19  team_20    0.809155   0.702849  218.452792  393.905871\n",
       "20  team_21    0.803650   0.695938  284.742850  424.306677\n",
       "21  team_22    0.811637   0.711210  202.285737  380.324503\n",
       "22  team_23    0.812580   0.710890  246.335312  385.094240\n",
       "23  team_24    0.812443   0.710357  213.810102  390.964773\n",
       "24  team_25    0.812318   0.709355  214.882000  388.143541\n",
       "25  team_26    0.810068   0.700955  199.847898  424.342796\n",
       "26  team_27    0.808477   0.703046  218.373962  410.532366\n",
       "27  team_28    0.805709   0.698541  224.627259  399.475431\n",
       "28  team_29    0.796718   0.688948  292.367499  401.951620\n",
       "29  team_30    0.789057   0.685176  277.113852  415.653631\n",
       "30  team_31    0.802974   0.697731  224.663274  383.007762\n",
       "31  team_32    0.806690   0.705497  207.343563  426.735718\n",
       "32  team_33    0.800047   0.695258  208.885700  415.768317\n",
       "33  team_34    0.805063   0.699041  229.914329  385.041357\n",
       "34  team_35    0.805182   0.701083  260.332331  402.818789\n",
       "35  team_36    0.805535   0.699149  263.969398  412.066932\n",
       "36  team_37    0.798853   0.695286  220.187121  387.029635\n",
       "37  team_38    0.797459   0.694136  248.173746  398.959532\n",
       "38  team_39    0.802248   0.694805  223.639009  399.993394\n",
       "39  team_40    0.791561   0.686860  263.074228  399.848914\n",
       "40  team_41    0.781748   0.671092  181.805899  427.378148\n",
       "41  team_42    0.801776   0.697441  201.102812  411.581264\n",
       "42  team_43    0.801306   0.697886  242.613483  426.833951\n",
       "43  team_44    0.799077   0.692350  269.192476  402.303824\n",
       "44  team_45    0.799950   0.696150  248.719175  418.170210\n",
       "45  team_46    0.799475   0.691390  325.103230  417.373343\n",
       "46  team_47    0.799184   0.694519  230.150532  414.007400\n",
       "47  team_48    0.798772   0.691864  198.788254  427.842202\n",
       "48  team_49    0.786115   0.677700  232.265139  428.378092\n",
       "49  team_50    0.796606   0.690417  205.167460  419.790811"
      ]
     },
     "metadata": {},
     "output_type": "display_data"
    }
   ],
   "source": [
    "display(df_all_metrics_top50)"
   ]
  },
  {
   "cell_type": "code",
   "execution_count": 20,
   "metadata": {},
   "outputs": [],
   "source": [
    "# df_all_metrics_top50_sorted_dice = df_all_metrics_top50.sort_values(by='dice_score', ascending=False)\n",
    "# df_all_metrics_top50_sorted_iou = df_all_metrics_top50.sort_values(by='iou_score', ascending=False)\n",
    "# df_all_metrics_top50_sorted_hd = df_all_metrics_top50.sort_values(by='hd_score', ascending=False)\n",
    "# df_all_metrics_top50_sorted_hd95 = df_all_metrics_top50.sort_values(by='hd95_score', ascending=False)"
   ]
  },
  {
   "cell_type": "code",
   "execution_count": 21,
   "metadata": {},
   "outputs": [
    {
     "name": "stdout",
     "output_type": "stream",
     "text": [
      "Kendall's tau: 0.9232653061224491\n",
      "p-value: 3.060227213394854e-21\n"
     ]
    }
   ],
   "source": [
    "arg1 = df_all_metrics_top50['dice_score']\n",
    "arg2 = df_all_metrics_top50['iou_score']\n",
    "tau, p_value = stats.kendalltau(arg1, arg2)\n",
    "\n",
    "# Print the calculated tau and p-value\n",
    "print(\"Kendall's tau:\", tau)\n",
    "print(\"p-value:\", p_value)"
   ]
  },
  {
   "cell_type": "code",
   "execution_count": 22,
   "metadata": {},
   "outputs": [
    {
     "name": "stdout",
     "output_type": "stream",
     "text": [
      "Kendall's tau: -0.11673469387755102\n",
      "p-value: 0.23162840695170472\n"
     ]
    }
   ],
   "source": [
    "arg1 = df_all_metrics_top50['dice_score']\n",
    "arg2 = df_all_metrics_top50['hd_score']\n",
    "tau, p_value = stats.kendalltau(arg1, arg2)\n",
    "\n",
    "# Print the calculated tau and p-value\n",
    "print(\"Kendall's tau:\", tau)\n",
    "print(\"p-value:\", p_value)"
   ]
  },
  {
   "cell_type": "code",
   "execution_count": 23,
   "metadata": {},
   "outputs": [
    {
     "name": "stdout",
     "output_type": "stream",
     "text": [
      "Kendall's tau: -0.43510204081632653\n",
      "p-value: 8.254705896707545e-06\n"
     ]
    }
   ],
   "source": [
    "arg1 = df_all_metrics_top50['dice_score']\n",
    "arg2 = df_all_metrics_top50['hd95_score']\n",
    "tau, p_value = stats.kendalltau(arg1, arg2)\n",
    "\n",
    "# Print the calculated tau and p-value\n",
    "print(\"Kendall's tau:\", tau)\n",
    "print(\"p-value:\", p_value)"
   ]
  },
  {
   "cell_type": "code",
   "execution_count": null,
   "metadata": {},
   "outputs": [],
   "source": []
  }
 ],
 "metadata": {
  "kernelspec": {
   "display_name": "tom-env",
   "language": "python",
   "name": "python3"
  },
  "language_info": {
   "codemirror_mode": {
    "name": "ipython",
    "version": 3
   },
   "file_extension": ".py",
   "mimetype": "text/x-python",
   "name": "python",
   "nbconvert_exporter": "python",
   "pygments_lexer": "ipython3",
   "version": "3.9.15"
  },
  "orig_nbformat": 4,
  "vscode": {
   "interpreter": {
    "hash": "2b36821e70226ba44ed300b7ad44e27b6d77f6807368f9c95217b0b84df56ccd"
   }
  }
 },
 "nbformat": 4,
 "nbformat_minor": 2
}
