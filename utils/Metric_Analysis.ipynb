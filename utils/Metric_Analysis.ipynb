{
 "cells": [
  {
   "cell_type": "code",
   "execution_count": null,
   "metadata": {},
   "outputs": [],
   "source": [
    "import numpy as np\n",
    "import pandas as pd\n",
    "from pathlib import Path\n",
    "import os\n",
    "import json \n",
    "import matplotlib\n",
    "import matplotlib.pyplot as plt\n",
    "\n",
    "\n",
    "from sklearn.metrics import jaccard_score\n",
    "from scipy.spatial.distance import directed_hausdorff\n",
    "\n",
    "import cv2\n",
    "import tifffile\n",
    "import seaborn as sns\n",
    "from itertools import chain\n",
    "from PIL import Image\n",
    "from PIL import ImageDraw\n",
    "\n",
    "import skimage\n",
    "from sklearn.metrics import confusion_matrix, ConfusionMatrixDisplay"
   ]
  },
  {
   "cell_type": "code",
   "execution_count": null,
   "metadata": {},
   "outputs": [],
   "source": [
    "#Read Metrics file for the team\n",
    "BASE_PATH = os.getcwd()+'/'\n",
    "INPUT_PATH = BASE_PATH\n",
    "print(INPUT_PATH)\n",
    "\n",
    "team = \"team_3\"\n",
    "df_metrics = pd.read_csv(INPUT_PATH+f'winning-submissions/{team}/metrics.csv')\n",
    "df_metrics.head()"
   ]
  },
  {
   "cell_type": "code",
   "execution_count": null,
   "metadata": {},
   "outputs": [],
   "source": [
    "df_masks = pd.read_csv(INPUT_PATH+f'winning-submissions/{team}/masks.csv')\n",
    "df_masks.head()"
   ]
  },
  {
   "cell_type": "code",
   "execution_count": null,
   "metadata": {},
   "outputs": [],
   "source": [
    "df_metadata = pd.read_csv(INPUT_PATH+'dataset_split_metadata/all_metadata_for_publication.csv')\n",
    "df_metadata.head()"
   ]
  },
  {
   "cell_type": "code",
   "execution_count": null,
   "metadata": {},
   "outputs": [],
   "source": [
    "# Utility Methods\n",
    "\n",
    "# Method to convert RLE to binary image mask\n",
    "def enc2mask(encs, shape):\n",
    "    img = np.zeros(shape[0] * shape[1], dtype=np.uint8)\n",
    "    for m, enc in enumerate(encs):\n",
    "        if isinstance(enc, float) and np.isnan(enc):\n",
    "            continue\n",
    "        enc_split = enc.split()\n",
    "        for i in range(len(enc_split) // 2):\n",
    "            start = int(enc_split[2 * i]) - 1\n",
    "            length = int(enc_split[2 * i + 1])\n",
    "            img[start: start + length] = 1 + m\n",
    "   \n",
    "    return img.reshape(shape).T\n",
    "\n",
    "# Method to visualize images and masks\n",
    "def show_image(filename,img_id, rle_truth, rle_pred, img_shape, organ, case, index):\n",
    "    fig, ax = plt.subplots(1,5,figsize=(20,40))\n",
    "\n",
    "    image = plt.imread(INPUT_PATH+f'published_data/data/data/images/{organ}/{filename}.tif')\n",
    "    mask_pred = enc2mask(rle_pred,shape=(img_shape[0],img_shape[1]))\n",
    "    mask_truth = enc2mask(rle_truth,shape=(img_shape[0],img_shape[1]))\n",
    "    mask_diff = mask_truth - mask_pred #np.abs(mask_truth - mask_pred)\n",
    "    # 1 [FN, not predicted]\n",
    "    mask_diff_fn = mask_diff == 1\n",
    "    mask_diff_fn = mask_diff_fn.astype(np.uint8)\n",
    "    # -1 (255) [FP, incorrectly predicted]\n",
    "    mask_diff_fp = mask_diff > 1\n",
    "    mask_diff_fp = mask_diff_fp.astype(np.uint8)\n",
    "    #mask_diff = mask_diff > 0\n",
    "    # mask_diff = mask_diff.astype(np.uint8)\n",
    "   \n",
    "    #display(pd.DataFrame(df_organ.loc[idx,['id','organ','age','sex']]).T)\n",
    "    diff_cmap = matplotlib.colors.ListedColormap(['blue', 'black', 'red'])\n",
    "    ax[0].imshow(image)\n",
    "    ax[0].set_title(f'file id: {img_id}')\n",
    "    ax[0].axis(\"off\")\n",
    "\n",
    "    ax[1].imshow(mask_truth,alpha=0.7,cmap='gray')\n",
    "    #ax[1].imshow(mask_pred,alpha=0.3,cmap='Reds')\n",
    "    ax[1].set_title(\"Ground Truth\")\n",
    "    ax[1].axis(\"off\")\n",
    "\n",
    "    ax[2].imshow(mask_pred,alpha=0.7,cmap='gray')\n",
    "    #ax[2].imshow(mask_pred,alpha=0.3,cmap='Reds')\n",
    "    ax[2].set_title(\"Prediction\")\n",
    "    ax[2].axis(\"off\")\n",
    "\n",
    "    ax[3].imshow(mask_diff_fn,alpha=0.9,cmap='Reds')\n",
    "    ax[3].imshow(mask_diff_fp,alpha=0.9,cmap='Blues')\n",
    "    #ax[3].imshow(mask_pred,alpha=0.3,cmap='Reds')\n",
    "    ax[3].set_title(\"Mask Difference (FN: Red, FP: Blue)\")\n",
    "    ax[3].axis(\"off\")\n",
    "\n",
    "    ax[4].imshow(image)\n",
    "    ax[4].imshow(mask_pred,alpha=0.5,cmap='gray')\n",
    "    ax[4].set_title(\"Prediction Overlay\")\n",
    "    ax[4].axis(\"off\")\n",
    "\n",
    "    # plt.savefig(INPUT_PATH+f'winning-submissions/{team}/viz/viz_{organ}_{case}_{index}.png', bbox_inches='tight')\n",
    "    # plt.close(fig)\n",
    "    plt.show()\n",
    "    print('-'*50)\n",
    "\n",
    "# Method to get n best or worst cases for an organ\n",
    "def get_n_cases(df, organ, metric, ascending, n=5):\n",
    "    if metric == 'dice':\n",
    "        m = 'dice_score'\n",
    "    elif metric == \"iou\":\n",
    "        m = 'iou_score'\n",
    "    # Select kidney images\n",
    "    selected_rows = df[df['tissue_name'] == organ]\n",
    "    # sort the dataframe in decreasing order based on the 'dice_score' column\n",
    "    sorted_df = selected_rows.sort_values(by=m, ascending=ascending)\n",
    "\n",
    "    # get the top 5 rows of the sorted dataframe\n",
    "    n_cases = sorted_df.head(n)\n",
    "\n",
    "    #Save to csv\n",
    "    if ascending == True:\n",
    "        case = 'worst'\n",
    "    elif ascending == False:\n",
    "        case = 'best'\n",
    "    n_cases.to_csv(INPUT_PATH+f'winning-submissions/{team}/{organ}_{metric}_{case}_{n}.csv',index=None)\n",
    "\n",
    "    return n_cases\n",
    "\n",
    "# Method to visualize cases from get_n_cases(). \n",
    "def visualize_cases(df, case):\n",
    "    for index, row in df.iterrows():\n",
    "        organ = row['tissue_name']\n",
    "        filename = row['filename']\n",
    "        img_id = row['id']\n",
    "\n",
    "        mask_row = df_masks[df_masks['id'] == img_id]\n",
    "        rle_pred = mask_row['rle_pred']\n",
    "        rle_truth = mask_row['rle_truth']\n",
    "        shape = df_metadata[df_metadata['filename'] == filename]['image_dims'].iloc[0]\n",
    "        shape = shape.strip().strip('(').strip(')').split(',')\n",
    "        img_shape = [int(shape[0]), int(shape[1])]\n",
    "        \n",
    "        show_image(filename, img_id, rle_truth, rle_pred, img_shape, organ, case, index)\n",
    "        #break\n",
    "    "
   ]
  },
  {
   "cell_type": "code",
   "execution_count": null,
   "metadata": {},
   "outputs": [],
   "source": [
    "dice_kidney = []\n",
    "dice_largeintestine = []\n",
    "dice_spleen = []\n",
    "dice_lung = []\n",
    "dice_prostate = []\n",
    "\n",
    "#for k,v in scores.items():\n",
    "for index, row in df_metrics.iterrows():\n",
    "    tissue_type = row['tissue_name']\n",
    "    # print(tissue_type)\n",
    "    if tissue_type == 'kidney':\n",
    "        dice_kidney.append(row['dice_score'])\n",
    "    elif tissue_type == 'largeintestine':\n",
    "        dice_largeintestine.append(row['dice_score'])\n",
    "    elif tissue_type == 'spleen':\n",
    "        dice_spleen.append(row['dice_score'])\n",
    "    elif tissue_type == 'lung':\n",
    "        dice_lung.append(row['dice_score'])\n",
    "    elif tissue_type == 'prostate':\n",
    "        dice_prostate.append(row['dice_score'])\n",
    "    # print(tissue_type)\n",
    "    # break\n",
    "print(len(dice_kidney))\n",
    "print(len(dice_largeintestine))\n",
    "print(len(dice_spleen))\n",
    "print(len(dice_lung))\n",
    "print(len(dice_prostate))\n",
    "\n",
    "#total = len(dice_kidney)+len(dice_largeintestine)+len(dice_lung)+len(dice_spleen)+len(dice_prostate)\n",
    "all_dice = [] \n",
    "all_dice.extend(dice_kidney)\n",
    "all_dice.extend(dice_largeintestine)\n",
    "all_dice.extend(dice_lung)\n",
    "all_dice.extend(dice_spleen)\n",
    "all_dice.extend(dice_prostate) \n",
    "print(len(all_dice))\n",
    "#print(total)"
   ]
  },
  {
   "cell_type": "code",
   "execution_count": null,
   "metadata": {},
   "outputs": [],
   "source": [
    "iou_kidney = []\n",
    "iou_largeintestine = []\n",
    "iou_spleen = []\n",
    "iou_lung = []\n",
    "iou_prostate = []\n",
    "\n",
    "#for k,v in iou_list.items():\n",
    "for index, row in df_metrics.iterrows():\n",
    "    tissue_type = row['tissue_name']\n",
    "    # print(tissue_type)\n",
    "    if tissue_type == 'kidney':\n",
    "        iou_kidney.append(row['iou_score'])\n",
    "    elif tissue_type == 'largeintestine':\n",
    "        iou_largeintestine.append(row['iou_score'])\n",
    "    elif tissue_type == 'spleen':\n",
    "        iou_spleen.append(row['iou_score'])\n",
    "    elif tissue_type == 'lung':\n",
    "        iou_lung.append(row['iou_score'])\n",
    "    elif tissue_type == 'prostate':\n",
    "        iou_prostate.append(row['iou_score'])\n",
    "    # print(tissue_type)\n",
    "    # break\n",
    "print(len(iou_kidney))\n",
    "print(len(iou_largeintestine))\n",
    "print(len(iou_spleen))\n",
    "print(len(iou_lung))\n",
    "print(len(iou_prostate))\n",
    "\n",
    "#total = len(iou_kidney)+len(iou_largeintestine)+len(iou_lung)+len(iou_spleen)+len(iou_prostate)\n",
    "all_iou = [] \n",
    "all_iou.extend(iou_kidney)\n",
    "all_iou.extend(iou_largeintestine)\n",
    "all_iou.extend(iou_lung)\n",
    "all_iou.extend(iou_spleen)\n",
    "all_iou.extend(iou_prostate) \n",
    "print(len(all_iou))\n",
    "#print(total)"
   ]
  },
  {
   "cell_type": "code",
   "execution_count": null,
   "metadata": {},
   "outputs": [],
   "source": [
    "print (\"Kidney: Average Dice Score = \", round(sum(dice_kidney)/len(dice_kidney),5))\n",
    "print (\"Large Intestine: Average Dice Score = \", round(sum(dice_largeintestine)/len(dice_largeintestine),5))\n",
    "print (\"Spleen: Average Dice Score = \", round(sum(dice_spleen)/len(dice_spleen),5))\n",
    "print (\"Prostate: Average Dice Score = \", round(sum(dice_prostate)/len(dice_prostate),5))\n",
    "print (\"Lung: Average Dice Score = \", round(sum(dice_lung)/len(dice_lung),5))\n",
    "print (\"Overall: Average Dice Score = \", round(sum(all_dice)/len(all_dice),5))"
   ]
  },
  {
   "cell_type": "code",
   "execution_count": null,
   "metadata": {},
   "outputs": [],
   "source": [
    "print (\"Kidney: Average IOU Score = \", round(sum(iou_kidney)/len(iou_kidney),5))\n",
    "print (\"Large Intestine: Average IOU Score = \", round(sum(iou_largeintestine)/len(iou_largeintestine),5))\n",
    "print (\"Spleen: Average IOU Score = \", round(sum(iou_spleen)/len(iou_spleen),5))\n",
    "print (\"Prostate: Average IOU Score = \", round(sum(iou_prostate)/len(iou_prostate),5))\n",
    "print (\"Lung: Average IOU Score = \", round(sum(iou_lung)/len(iou_lung),5))\n",
    "print (\"Overall: Average IOU Score = \", round(sum(all_iou)/len(all_iou),5))"
   ]
  },
  {
   "cell_type": "code",
   "execution_count": null,
   "metadata": {},
   "outputs": [],
   "source": [
    "# Get filename from id\n",
    "# id = 3667\n",
    "# filename = df_metrics[df_metrics['id'] == id].filename.iloc[0]\n",
    "# filename"
   ]
  },
  {
   "attachments": {},
   "cell_type": "markdown",
   "metadata": {},
   "source": [
    "# Get best 5 and worst 5 cases per organ for Dice."
   ]
  },
  {
   "cell_type": "markdown",
   "metadata": {},
   "source": [
    "### Best 5"
   ]
  },
  {
   "cell_type": "code",
   "execution_count": null,
   "metadata": {},
   "outputs": [],
   "source": [
    "# kidney\n",
    "case = 'dice_best'\n",
    "top_5 = get_n_cases(df_metrics, 'kidney', 'dice', False, 5)\n",
    "top_5 = top_5.reset_index(drop=True)\n",
    "display(top_5)\n",
    "\n",
    "visualize_cases(top_5, case)    "
   ]
  },
  {
   "cell_type": "code",
   "execution_count": null,
   "metadata": {},
   "outputs": [],
   "source": [
    "# largeintestine\n",
    "case = 'dice_best'\n",
    "top_5 = get_n_cases(df_metrics, 'largeintestine', 'dice', False, 5)\n",
    "top_5 = top_5.reset_index(drop=True)\n",
    "display(top_5)\n",
    "\n",
    "visualize_cases(top_5, case)"
   ]
  },
  {
   "cell_type": "code",
   "execution_count": null,
   "metadata": {},
   "outputs": [],
   "source": [
    "# spleen\n",
    "case = 'dice_best'\n",
    "top_5 = get_n_cases(df_metrics, 'spleen', 'dice', False, 5)\n",
    "top_5 = top_5.reset_index(drop=True)\n",
    "display(top_5)\n",
    "\n",
    "visualize_cases(top_5, case)"
   ]
  },
  {
   "cell_type": "code",
   "execution_count": null,
   "metadata": {},
   "outputs": [],
   "source": [
    "# lung\n",
    "case = 'dice_best'\n",
    "top_5 = get_n_cases(df_metrics, 'lung', 'dice', False, 5)\n",
    "top_5 = top_5.reset_index(drop=True)\n",
    "display(top_5)\n",
    "\n",
    "visualize_cases(top_5, case)"
   ]
  },
  {
   "cell_type": "code",
   "execution_count": null,
   "metadata": {},
   "outputs": [],
   "source": [
    "# prostate\n",
    "case = 'dice_best'\n",
    "top_5 = get_n_cases(df_metrics, 'prostate', 'dice', False, 5)\n",
    "top_5 = top_5.reset_index(drop=True)\n",
    "display(top_5)\n",
    "\n",
    "visualize_cases(top_5, case)"
   ]
  },
  {
   "attachments": {},
   "cell_type": "markdown",
   "metadata": {},
   "source": [
    "### Worst 5"
   ]
  },
  {
   "cell_type": "code",
   "execution_count": null,
   "metadata": {},
   "outputs": [],
   "source": [
    "# kidney\n",
    "case = 'dice_worst'\n",
    "worst_5 = get_n_cases(df_metrics, 'kidney', 'dice', True, 5)\n",
    "worst_5 = worst_5.reset_index(drop=True)\n",
    "display(worst_5)\n",
    "\n",
    "visualize_cases(worst_5, case)"
   ]
  },
  {
   "cell_type": "code",
   "execution_count": null,
   "metadata": {},
   "outputs": [],
   "source": [
    "# largeintestine\n",
    "case = 'dice_worst'\n",
    "worst_5 = get_n_cases(df_metrics, 'largeintestine', 'dice', True, 5)\n",
    "worst_5 = worst_5.reset_index(drop=True)\n",
    "display(worst_5)\n",
    "\n",
    "visualize_cases(worst_5, case)"
   ]
  },
  {
   "cell_type": "code",
   "execution_count": null,
   "metadata": {},
   "outputs": [],
   "source": [
    "# spleen\n",
    "case = 'dice_worst'\n",
    "worst_5 = get_n_cases(df_metrics, 'spleen', 'dice', True, 5)\n",
    "worst_5 = worst_5.reset_index(drop=True)\n",
    "display(worst_5)\n",
    "\n",
    "visualize_cases(worst_5, case)"
   ]
  },
  {
   "cell_type": "code",
   "execution_count": null,
   "metadata": {},
   "outputs": [],
   "source": [
    "# lung\n",
    "case = 'dice_worst'\n",
    "worst_5 = get_n_cases(df_metrics, 'lung', 'dice', True, 5)\n",
    "worst_5 = worst_5.reset_index(drop=True)\n",
    "display(worst_5)\n",
    "\n",
    "visualize_cases(worst_5, case)"
   ]
  },
  {
   "cell_type": "code",
   "execution_count": null,
   "metadata": {},
   "outputs": [],
   "source": [
    "# prostate\n",
    "case = 'dice_worst'\n",
    "worst_5 = get_n_cases(df_metrics, 'prostate', 'dice', True, 5)\n",
    "worst_5 = worst_5.reset_index(drop=True)\n",
    "display(worst_5)\n",
    "\n",
    "visualize_cases(worst_5, case)"
   ]
  },
  {
   "cell_type": "markdown",
   "metadata": {},
   "source": [
    "# Get best 5 and worst 5 cases per organ for IOU."
   ]
  },
  {
   "cell_type": "markdown",
   "metadata": {},
   "source": [
    "### Best 5"
   ]
  },
  {
   "cell_type": "code",
   "execution_count": null,
   "metadata": {},
   "outputs": [],
   "source": [
    "# kidney\n",
    "case = 'iou_best'\n",
    "top_5 = get_n_cases(df_metrics, 'kidney', 'iou', False, 5)\n",
    "top_5 = top_5.reset_index(drop=True)\n",
    "display(top_5)\n",
    "\n",
    "visualize_cases(top_5, case)"
   ]
  },
  {
   "cell_type": "code",
   "execution_count": null,
   "metadata": {},
   "outputs": [],
   "source": [
    "# largeintestine\n",
    "case = 'iou_best'\n",
    "top_5 = get_n_cases(df_metrics, 'largeintestine', 'iou', False, 5)\n",
    "top_5 = top_5.reset_index(drop=True)\n",
    "display(top_5)\n",
    "\n",
    "visualize_cases(top_5, case)"
   ]
  },
  {
   "cell_type": "code",
   "execution_count": null,
   "metadata": {},
   "outputs": [],
   "source": [
    "# spleen\n",
    "case = 'iou_best'\n",
    "top_5 = get_n_cases(df_metrics, 'spleen', 'iou', False, 5)\n",
    "top_5 = top_5.reset_index(drop=True)\n",
    "display(top_5)\n",
    "\n",
    "visualize_cases(top_5, case)"
   ]
  },
  {
   "cell_type": "code",
   "execution_count": null,
   "metadata": {},
   "outputs": [],
   "source": [
    "# lung\n",
    "case = 'iou_best'\n",
    "top_5 = get_n_cases(df_metrics, 'lung', 'iou', False, 5)\n",
    "top_5 = top_5.reset_index(drop=True)\n",
    "display(top_5)\n",
    "\n",
    "visualize_cases(top_5, case)"
   ]
  },
  {
   "cell_type": "code",
   "execution_count": null,
   "metadata": {},
   "outputs": [],
   "source": [
    "# prostate\n",
    "case = 'iou_best'\n",
    "top_5 = get_n_cases(df_metrics, 'prostate', 'iou', False, 5)\n",
    "top_5 = top_5.reset_index(drop=True)\n",
    "display(top_5)\n",
    "\n",
    "visualize_cases(top_5, case)"
   ]
  },
  {
   "cell_type": "markdown",
   "metadata": {},
   "source": [
    "### Worst 5"
   ]
  },
  {
   "cell_type": "code",
   "execution_count": null,
   "metadata": {},
   "outputs": [],
   "source": [
    "# kidney\n",
    "case = 'iou_worst'\n",
    "worst_5 = get_n_cases(df_metrics, 'kidney', 'iou', True, 5)\n",
    "worst_5 = worst_5.reset_index(drop=True)\n",
    "display(worst_5)\n",
    "\n",
    "visualize_cases(worst_5, case)"
   ]
  },
  {
   "cell_type": "code",
   "execution_count": null,
   "metadata": {},
   "outputs": [],
   "source": [
    "# largeintestine\n",
    "case = 'iou_worst'\n",
    "worst_5 = get_n_cases(df_metrics, 'largeintestine', 'iou', True, 5)\n",
    "worst_5 = worst_5.reset_index(drop=True)\n",
    "display(worst_5)\n",
    "\n",
    "visualize_cases(worst_5, case)"
   ]
  },
  {
   "cell_type": "code",
   "execution_count": null,
   "metadata": {},
   "outputs": [],
   "source": [
    "# spleen\n",
    "case = 'iou_worst'\n",
    "worst_5 = get_n_cases(df_metrics, 'spleen', 'iou', True, 5)\n",
    "worst_5 = worst_5.reset_index(drop=True)\n",
    "display(worst_5)\n",
    "\n",
    "visualize_cases(worst_5, case)"
   ]
  },
  {
   "cell_type": "code",
   "execution_count": null,
   "metadata": {},
   "outputs": [],
   "source": [
    "# lung\n",
    "case = 'iou_worst'\n",
    "worst_5 = get_n_cases(df_metrics, 'lung', 'iou', True, 5)\n",
    "worst_5 = worst_5.reset_index(drop=True)\n",
    "display(worst_5)\n",
    "\n",
    "visualize_cases(worst_5, case)"
   ]
  },
  {
   "cell_type": "code",
   "execution_count": null,
   "metadata": {},
   "outputs": [],
   "source": [
    "# prostate\n",
    "case = 'iou_worst'\n",
    "worst_5 = get_n_cases(df_metrics, 'prostate', 'iou', True, 5)\n",
    "worst_5 = worst_5.reset_index(drop=True)\n",
    "display(worst_5)\n",
    "\n",
    "visualize_cases(worst_5, case)"
   ]
  },
  {
   "cell_type": "code",
   "execution_count": null,
   "metadata": {},
   "outputs": [],
   "source": [
    "# def enc2mask(encs, shape):\n",
    "#     img = np.zeros(shape[0] * shape[1], dtype=np.uint8)\n",
    "#     for m, enc in enumerate(encs):\n",
    "#         if isinstance(enc, float) and np.isnan(enc):\n",
    "#             continue\n",
    "#         enc_split = enc.split()\n",
    "#         for i in range(len(enc_split) // 2):\n",
    "#             start = int(enc_split[2 * i]) - 1\n",
    "#             length = int(enc_split[2 * i + 1])\n",
    "#             img[start: start + length] = 1 + m\n",
    "#     return img.reshape(shape).T"
   ]
  },
  {
   "cell_type": "code",
   "execution_count": null,
   "metadata": {},
   "outputs": [],
   "source": [
    "# def show_image(filename, rle_truth, rle_pred, img_shape, organ, case, index):\n",
    "#     fig, ax = plt.subplots(1,4,figsize=(20,40))\n",
    "\n",
    "#     image = plt.imread(INPUT_PATH+f'published_data/data/data/images/{organ}/{filename}.tif')\n",
    "#     mask_pred = enc2mask(rle_pred,shape=(img_shape[0],img_shape[1]))\n",
    "#     mask_truth = enc2mask(rle_truth,shape=(img_shape[0],img_shape[1]))\n",
    "#     mask_diff = mask_truth - mask_pred\n",
    "#     #display(pd.DataFrame(df_organ.loc[idx,['id','organ','age','sex']]).T)\n",
    "#     ax[0].imshow(image)\n",
    "#     ax[0].set_title(\"Image\")\n",
    "#     ax[0].axis(\"off\")\n",
    "#     ax[1].imshow(mask_pred,alpha=0.7,cmap='gray')\n",
    "#     #ax[1].imshow(mask_pred,alpha=0.3,cmap='Reds')\n",
    "#     ax[1].set_title(\"Predicted Mask\")\n",
    "#     ax[1].axis(\"off\")\n",
    "#     ax[2].imshow(mask_diff,alpha=0.7,cmap='plasma')\n",
    "#     #ax[1].imshow(mask_pred,alpha=0.3,cmap='Reds')\n",
    "#     ax[2].set_title(\"Mask Difference\")\n",
    "#     ax[2].axis(\"off\")\n",
    "#     ax[3].imshow(image)\n",
    "#     ax[3].imshow(mask_pred,alpha=0.5,cmap='gray')\n",
    "#     ax[3].set_title(\"Prediction Overlay\")\n",
    "#     ax[3].axis(\"off\")\n",
    "#     plt.savefig(INPUT_PATH+f'winning-submissions/{team}/viz/viz_{case}_{index}.png', bbox_inches='tight')\n",
    "#     plt.show()\n",
    "#     print('-'*50)"
   ]
  },
  {
   "cell_type": "code",
   "execution_count": null,
   "metadata": {},
   "outputs": [],
   "source": [
    "# def visualize_cases(df, case):\n",
    "#     for index, row in df.iterrows():\n",
    "#         organ = row['tissue_name']\n",
    "#         filename = row['filename']\n",
    "#         img_id = row['id']\n",
    "\n",
    "#         mask_row = df_masks[df_masks['id'] == img_id]\n",
    "#         rle_pred = mask_row['rle_pred']\n",
    "#         rle_truth = mask_row['rle_truth']\n",
    "#         shape = df_metadata[df_metadata['filename'] == filename]['image_dims'].iloc[0]\n",
    "#         shape = shape.strip().strip('(').strip(')').split(',')\n",
    "#         img_shape = [int(shape[0]), int(shape[1])]\n",
    "        \n",
    "#         show_image(filename, rle_truth, rle_pred, img_shape, organ, case, index)\n",
    "#         #break\n",
    "    "
   ]
  },
  {
   "cell_type": "code",
   "execution_count": null,
   "metadata": {},
   "outputs": [],
   "source": [
    "# # for best 5 kidney dice\n",
    "# case = 'dice_best'\n",
    "# top_5 = get_n_cases(df_metrics, 'kidney', 'dice', False, 5)\n",
    "# top_5 = top_5.reset_index(drop=True)\n",
    "# display(top_5)\n",
    "\n",
    "# visualize_cases(top_5, case)"
   ]
  }
 ],
 "metadata": {
  "kernelspec": {
   "display_name": "tom-env",
   "language": "python",
   "name": "python3"
  },
  "language_info": {
   "codemirror_mode": {
    "name": "ipython",
    "version": 3
   },
   "file_extension": ".py",
   "mimetype": "text/x-python",
   "name": "python",
   "nbconvert_exporter": "python",
   "pygments_lexer": "ipython3",
   "version": "3.9.15"
  },
  "orig_nbformat": 4,
  "vscode": {
   "interpreter": {
    "hash": "2b36821e70226ba44ed300b7ad44e27b6d77f6807368f9c95217b0b84df56ccd"
   }
  }
 },
 "nbformat": 4,
 "nbformat_minor": 2
}
